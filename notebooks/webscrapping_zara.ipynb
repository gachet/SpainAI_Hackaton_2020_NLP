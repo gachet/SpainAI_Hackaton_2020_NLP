{
 "cells": [
  {
   "cell_type": "code",
   "execution_count": 60,
   "metadata": {},
   "outputs": [],
   "source": [
    "import requests\n",
    "from bs4 import BeautifulSoup\n",
    "import pandas as pd\n",
    "import pickle\n",
    "import time\n",
    "from tqdm import tqdm"
   ]
  },
  {
   "cell_type": "code",
   "execution_count": 61,
   "metadata": {},
   "outputs": [],
   "source": [
    "r = requests.get(\"http://www.zara.com/uk/en/sale/woman/dresses/view-all-c731533.html\")"
   ]
  },
  {
   "cell_type": "code",
   "execution_count": null,
   "metadata": {},
   "outputs": [],
   "source": []
  },
  {
   "cell_type": "code",
   "execution_count": 8,
   "metadata": {},
   "outputs": [],
   "source": [
    "r = requests.get(\"https://www.zara.com/uk/en/woman-outerwear-l1184.html?v1=1706350\")"
   ]
  },
  {
   "cell_type": "code",
   "execution_count": 9,
   "metadata": {},
   "outputs": [],
   "source": [
    "html = r.text\n",
    "soup = BeautifulSoup(html, 'html.parser')"
   ]
  },
  {
   "cell_type": "code",
   "execution_count": 13,
   "metadata": {},
   "outputs": [],
   "source": [
    "links_hrefs = []\n",
    "for link in soup.findAll(\"a\", {\"class\":\"product-link\"}):\n",
    "    links_hrefs.append(link[\"href\"])"
   ]
  },
  {
   "cell_type": "code",
   "execution_count": 14,
   "metadata": {},
   "outputs": [
    {
     "data": {
      "text/plain": [
       "['https://www.zara.com/uk/en/oversized-coat-with-wool-p02012413.html',\n",
       " 'https://www.zara.com/uk/en/oversized-coat-with-wool-p02012413.html',\n",
       " 'https://www.zara.com/uk/en/printed-water-repellent-coat-p08073240.html',\n",
       " 'https://www.zara.com/uk/en/printed-water-repellent-coat-p08073240.html',\n",
       " 'https://www.zara.com/uk/en/check-coat-p02169404.html',\n",
       " 'https://www.zara.com/uk/en/check-coat-p02169404.html',\n",
       " 'https://www.zara.com/uk/en/faux-shearling-coat-p00086086.html',\n",
       " 'https://www.zara.com/uk/en/faux-shearling-coat-p00086086.html',\n",
       " 'https://www.zara.com/uk/en/faux-shearling-coat-p01255719.html',\n",
       " 'https://www.zara.com/uk/en/faux-shearling-coat-p01255719.html',\n",
       " 'https://www.zara.com/uk/en/water-repellent-puffer-coat-p02969261.html',\n",
       " 'https://www.zara.com/uk/en/water-repellent-puffer-coat-p02969261.html',\n",
       " 'https://www.zara.com/uk/en/trench-coat-with-contrast-drawstrings-p00518263.html',\n",
       " 'https://www.zara.com/uk/en/trench-coat-with-contrast-drawstrings-p00518263.html',\n",
       " 'https://www.zara.com/uk/en/parka-with-faux-shearling-lining-p06318233.html',\n",
       " 'https://www.zara.com/uk/en/parka-with-faux-shearling-lining-p06318233.html',\n",
       " 'https://www.zara.com/uk/en/faux-fur-coat-p01255204.html',\n",
       " 'https://www.zara.com/uk/en/faux-fur-coat-p01255204.html',\n",
       " 'https://www.zara.com/uk/en/faux-fur-coat-p08490241.html',\n",
       " 'https://www.zara.com/uk/en/faux-fur-coat-p08490241.html',\n",
       " 'https://www.zara.com/uk/en/kimono-with-fringe-p05598056.html',\n",
       " 'https://www.zara.com/uk/en/kimono-with-fringe-p05598056.html',\n",
       " 'https://www.zara.com/uk/en/oversized-buttoned-blazer-trf-p01255724.html',\n",
       " 'https://www.zara.com/uk/en/oversized-buttoned-blazer-trf-p01255724.html',\n",
       " 'https://www.zara.com/uk/en/double-breasted-faux-fur-coat-p08490242.html',\n",
       " 'https://www.zara.com/uk/en/double-breasted-faux-fur-coat-p08490242.html',\n",
       " 'https://www.zara.com/uk/en/faux-shearling-coat-p01255719.html',\n",
       " 'https://www.zara.com/uk/en/faux-shearling-coat-p01255719.html',\n",
       " 'https://www.zara.com/uk/en/faux-shearling-coat-p01255719.html',\n",
       " 'https://www.zara.com/uk/en/faux-shearling-coat-p01255719.html',\n",
       " 'https://www.zara.com/uk/en/textured-wool-blend-coat-p07977641.html',\n",
       " 'https://www.zara.com/uk/en/textured-wool-blend-coat-p07977641.html',\n",
       " 'https://www.zara.com/uk/en/comfortemp%C2%AE-thermal-insulation-puffer-jacket-p00518244.html',\n",
       " 'https://www.zara.com/uk/en/comfortemp%C2%AE-thermal-insulation-puffer-jacket-p00518244.html',\n",
       " 'https://www.zara.com/uk/en/hooded-puffer-coat-p08073822.html',\n",
       " 'https://www.zara.com/uk/en/hooded-puffer-coat-p08073822.html',\n",
       " 'https://www.zara.com/uk/en/embroidered-kimono-p04043045.html',\n",
       " 'https://www.zara.com/uk/en/embroidered-kimono-p04043045.html',\n",
       " 'https://www.zara.com/uk/en/wool-blend-coat-p08491021.html',\n",
       " 'https://www.zara.com/uk/en/wool-blend-coat-p08491021.html']"
      ]
     },
     "execution_count": 14,
     "metadata": {},
     "output_type": "execute_result"
    }
   ],
   "source": [
    "links_hrefs"
   ]
  },
  {
   "cell_type": "code",
   "execution_count": 15,
   "metadata": {},
   "outputs": [],
   "source": [
    "r = requests.get(\"https://www.zara.com/uk/\")"
   ]
  },
  {
   "cell_type": "code",
   "execution_count": 16,
   "metadata": {},
   "outputs": [],
   "source": [
    "soup2 = BeautifulSoup(r.text, \"html.parser\")"
   ]
  },
  {
   "cell_type": "code",
   "execution_count": 17,
   "metadata": {},
   "outputs": [
    {
     "data": {
      "text/plain": [
       "[<a aria-expanded=\"false\" aria-label=\"WOMAN, Display auxiliary categories\" class=\"layout-categories-category__link link\" href=\"https://www.zara.com/uk/en/woman-mkt1000.html\" tabindex=\"0\"><span class=\"layout-categories-category__name\">WOMAN</span></a>,\n",
       " <a aria-expanded=\"true\" aria-label=\"SALE, Display auxiliary categories\" class=\"layout-categories-category__link link\" href=\"https://www.zara.com/uk/en/woman-mkt1000.html\" style=\"color:#F53993\" tabindex=\"0\"><span class=\"layout-categories-category__name\">SALE</span></a>,\n",
       " <a aria-expanded=\"false\" aria-label=\"NEW COLLECTION, Display auxiliary categories\" class=\"layout-categories-category__link link\" href=\"https://www.zara.com/uk/en/woman-collections-mkt2158.html\" tabindex=\"0\"><span class=\"layout-categories-category__name\">NEW COLLECTION</span></a>,\n",
       " <a aria-expanded=\"false\" aria-label=\"GIFT CARD, Display auxiliary categories\" class=\"layout-categories-category__link link\" href=\"https://www.zara.com/uk/en/z-giftcard-mkt1394.html\" tabindex=\"0\"><span class=\"layout-categories-category__name\">GIFT CARD</span></a>,\n",
       " <a aria-expanded=\"false\" aria-label=\"MAN, Display auxiliary categories\" class=\"layout-categories-category__link link\" href=\"https://www.zara.com/uk/en/man-mkt534.html\" tabindex=\"0\"><span class=\"layout-categories-category__name\">MAN</span></a>,\n",
       " <a aria-expanded=\"true\" aria-label=\"SALE, Display auxiliary categories\" class=\"layout-categories-category__link link\" href=\"https://www.zara.com/uk/en/man-mkt534.html\" style=\"color:#F53993\" tabindex=\"0\"><span class=\"layout-categories-category__name\">SALE</span></a>,\n",
       " <a aria-expanded=\"false\" aria-label=\"NEW COLLECTION, Display auxiliary categories\" class=\"layout-categories-category__link link\" href=\"https://www.zara.com/uk/en/man-collection-mkt622.html\" tabindex=\"0\"><span class=\"layout-categories-category__name\">NEW COLLECTION</span></a>,\n",
       " <a class=\"layout-categories-category__link link\" href=\"#\" tabindex=\"0\"><span class=\"layout-categories-category__name\">ZARA / CITIES</span></a>,\n",
       " <a aria-expanded=\"false\" aria-label=\"GIFT CARD, Display auxiliary categories\" class=\"layout-categories-category__link link\" href=\"https://www.zara.com/uk/en/z-giftcard-mkt1394.html\" tabindex=\"0\"><span class=\"layout-categories-category__name\">GIFT CARD</span></a>,\n",
       " <a aria-expanded=\"false\" aria-label=\"KIDS, Display auxiliary categories\" class=\"layout-categories-category__link link\" href=\"https://www.zara.com/uk/en/kids-mkt1.html\" tabindex=\"0\"><span class=\"layout-categories-category__name\">KIDS</span></a>,\n",
       " <a aria-expanded=\"true\" aria-label=\"SALE, Display auxiliary categories\" class=\"layout-categories-category__link link\" href=\"https://www.zara.com/uk/en/sale-mkt879.html\" style=\"color:#F53993\" tabindex=\"0\"><span class=\"layout-categories-category__name\">SALE</span></a>,\n",
       " <a aria-expanded=\"false\" aria-label=\"NEW COLLECTION, Display auxiliary categories\" class=\"layout-categories-category__link link\" href=\"https://www.zara.com/uk/en/kids-new-in-mkt472.html\" tabindex=\"0\"><span class=\"layout-categories-category__name\">NEW COLLECTION</span></a>,\n",
       " <a aria-expanded=\"false\" aria-label=\"GIFT CARD, Display auxiliary categories\" class=\"layout-categories-category__link link\" href=\"https://www.zara.com/uk/en/z-giftcard-mkt1394.html\" tabindex=\"0\"><span class=\"layout-categories-category__name\">GIFT CARD</span></a>,\n",
       " <a aria-expanded=\"false\" aria-label=\"HOME, Display auxiliary categories\" class=\"layout-categories-category__link link\" href=\"#\" tabindex=\"0\"><span class=\"layout-categories-category__name\">HOME</span></a>,\n",
       " <a aria-expanded=\"true\" aria-label=\"SALE, Display auxiliary categories\" class=\"layout-categories-category__link link\" href=\"https://www.zara.com/uk/en/home-mkt2085.html\" style=\"color:#F53993\" tabindex=\"0\"><span class=\"layout-categories-category__name\">SALE</span></a>,\n",
       " <a aria-expanded=\"false\" aria-label=\"NEW COLLECTION, Display auxiliary categories\" class=\"layout-categories-category__link link\" href=\"https://www.zara.com/uk/en/home-mkt2085.html\" tabindex=\"0\"><span class=\"layout-categories-category__name\">NEW COLLECTION</span></a>,\n",
       " <a aria-expanded=\"false\" aria-label=\"SHOES &amp; BAGS, Display auxiliary categories\" class=\"layout-categories-category__link link\" href=\"https://www.zara.com/uk/en/shoes-bags-mkt1990.html\" tabindex=\"0\"><span class=\"layout-categories-category__name\">SHOES &amp; BAGS</span></a>,\n",
       " <a aria-expanded=\"false\" aria-label=\"SALE, Display auxiliary categories\" class=\"layout-categories-category__link link\" href=\"https://www.zara.com/uk/en/shoes-bags-l1990.html\" style=\"color:#F53993\" tabindex=\"0\"><span class=\"layout-categories-category__name\">SALE</span></a>,\n",
       " <a aria-expanded=\"false\" aria-label=\"NEW COLLECTION, Display auxiliary categories\" class=\"layout-categories-category__link link\" href=\"https://www.zara.com/uk/en/shoes-bags-l1990.html\" tabindex=\"0\"><span class=\"layout-categories-category__name\">NEW COLLECTION</span></a>,\n",
       " <a aria-expanded=\"false\" aria-label=\"ZARA SRPLS, Display auxiliary categories\" class=\"layout-categories-category__link link\" href=\"https://www.zara.com/uk/en/srpls-woman-l1876.html\" tabindex=\"0\"><img alt=\"ZARA SRPLS\" class=\"layout-categories-category__image\" src=\"https://static.zara.net/photos/icons/zara-srpls-logo.png\"/></a>,\n",
       " <a class=\"layout-categories-category__link link\" href=\"https://www.zara.com/uk/en/srpls-woman-l1876.html\" tabindex=\"0\"><span class=\"layout-categories-category__name\">WOMAN</span></a>,\n",
       " <a class=\"layout-categories-category__link link\" href=\"https://www.zara.com/uk/en/srpls-man-l1880.html\" tabindex=\"0\"><span class=\"layout-categories-category__name\">MAN</span></a>,\n",
       " <a class=\"layout-categories-category__link link\" href=\"https://www.zara.com/uk/en/srpls-kids-l2315.html\" tabindex=\"0\"><span class=\"layout-categories-category__name\">KIDS</span></a>,\n",
       " <a aria-expanded=\"false\" aria-label=\"JOIN LIFE, Display auxiliary categories\" class=\"layout-categories-category__link link\" href=\"https://www.zara.com/uk/en/sustainability-mkt1449.html\" tabindex=\"0\"><span class=\"layout-categories-category__name\">JOIN LIFE</span></a>,\n",
       " <a aria-expanded=\"false\" aria-label=\"JOIN LIFE COLLECTION, Display auxiliary categories\" class=\"layout-categories-category__link link\" href=\"https://www.zara.com/uk/en/join-life-collection-mkt1868.html\" tabindex=\"0\"><span class=\"layout-categories-category__name\">JOIN LIFE COLLECTION</span></a>,\n",
       " <a class=\"layout-categories-category__link link\" href=\"https://www.zara.com/uk/en/z-commitment-mkt1390.html\" tabindex=\"0\"><span class=\"layout-categories-category__name\">COMMITMENTS</span></a>,\n",
       " <a class=\"layout-categories-category__link link\" href=\"https://www.zara.com/uk/en/sustainability-suppliers-mkt1456.html\" tabindex=\"0\"><span class=\"layout-categories-category__name\">SUPPLIERS</span></a>,\n",
       " <a class=\"layout-categories-category__link link\" href=\"https://www.zara.com/uk/en/join-life-c1084631.html\" tabindex=\"0\"><span class=\"layout-categories-category__name\">PRODUCTS</span></a>,\n",
       " <a class=\"layout-categories-category__link link\" href=\"https://www.zara.com/uk/en/sustainability-clothing-care-mkt3129.html\" tabindex=\"0\"><span class=\"layout-categories-category__name\">CLOTHING CARE</span></a>,\n",
       " <a class=\"layout-categories-category__link link\" href=\"https://www.zara.com/uk/en/sustainability-collection-program-mkt1452.html\" tabindex=\"0\"><span class=\"layout-categories-category__name\">CLOTHES COLLECTING</span></a>,\n",
       " <a class=\"layout-categories-category__link link\" href=\"https://www.zara.com/uk/en/sustainability-our-stores-mkt1454.html\" tabindex=\"0\"><span class=\"layout-categories-category__name\">STORES</span></a>,\n",
       " <a class=\"layout-categories-category__link link\" href=\"https://www.zara.com/uk/en/sustainability-social-action-mkt1663.html\" tabindex=\"0\"><span class=\"layout-categories-category__name\">COMMUNITY SUPPORT</span></a>,\n",
       " <a class=\"layout-categories-category__link link\" href=\"https://www.zara.com/uk/en/sustainability-annual-report-mkt1450.html\" tabindex=\"0\"><span class=\"layout-categories-category__name\">ANNUAL REPORT</span></a>,\n",
       " <a class=\"layout-categories-category__link link\" href=\"#\" style=\"color:\" tabindex=\"0\"><img alt=\"COVID-19 INFO\" class=\"layout-categories-category__image\" src=\"https://static.zara.net/photos/icons/icon-ws-menu-covid19@3x.png\"/></a>,\n",
       " <a aria-expanded=\"false\" aria-label=\"+ Info, Display auxiliary categories\" class=\"layout-categories-category__link link\" href=\"https://www.zara.com/uk/en/z-info-l1397.html\" tabindex=\"0\"><span class=\"layout-categories-category__name\">+ Info</span></a>,\n",
       " <a class=\"layout-categories-category__link link\" href=\"https://www.zara.com/uk/en/z-newsletter-nl1400.html\" tabindex=\"0\"><span class=\"layout-categories-category__name\">Newsletter</span></a>,\n",
       " <a class=\"layout-categories-category__link link\" href=\"https://www.zara.com/uk/en/contact\" tabindex=\"0\"><span class=\"layout-categories-category__name\">Contact us</span></a>,\n",
       " <a class=\"layout-categories-category__link link\" href=\"https://www.zara.com/uk/en/z-stores-st1404.html\" tabindex=\"0\"><span class=\"layout-categories-category__name\">Stores</span></a>,\n",
       " <a class=\"layout-categories-category__link link\" href=\"#\" tabindex=\"0\"><span class=\"layout-categories-category__name\">Help</span></a>,\n",
       " <a aria-expanded=\"false\" aria-label=\"Gift Card, Display auxiliary categories\" class=\"layout-categories-category__link link\" href=\"https://www.zara.com/uk/en/z-giftcard-mkt1394.html\" tabindex=\"0\"><span class=\"layout-categories-category__name\">Gift Card</span></a>,\n",
       " <a class=\"layout-categories-category__link link\" href=\"https://www.zara.com/uk/en/gift-ticket?c=610501\" tabindex=\"0\"><span class=\"layout-categories-category__name\">Gift Receipt</span></a>,\n",
       " <a class=\"layout-categories-category__link link\" href=\"https://www.zara.com/uk/en/z-press-corp1401.html\" tabindex=\"0\"><span class=\"layout-categories-category__name\">Press</span></a>,\n",
       " <a aria-expanded=\"false\" aria-label=\"Company, Display auxiliary categories\" class=\"layout-categories-category__link link\" href=\"https://www.zara.com/uk/en/z-company-corp1391.html\" tabindex=\"0\"><span class=\"layout-categories-category__name\">Company</span></a>]"
      ]
     },
     "execution_count": 17,
     "metadata": {},
     "output_type": "execute_result"
    }
   ],
   "source": [
    "soup2.findAll(\"a\", {\"class\": \"layout-categories-category__link link\"})"
   ]
  },
  {
   "cell_type": "code",
   "execution_count": 24,
   "metadata": {},
   "outputs": [],
   "source": [
    "soup3 = soup_one_link(\"https://www.zara.com/uk/en/woman-mkt1000.html\")"
   ]
  },
  {
   "cell_type": "code",
   "execution_count": 27,
   "metadata": {},
   "outputs": [
    {
     "data": {
      "text/plain": [
       "['https://www.zara.com/uk/en/woman-mkt1000.html',\n",
       " 'https://www.zara.com/uk/en/woman-mkt1000.html',\n",
       " 'https://www.zara.com/uk/en/woman-special-prices-l1314.html',\n",
       " 'https://www.zara.com/uk/en/woman-outerwear-l1184.html',\n",
       " 'https://www.zara.com/uk/en/woman-jackets-l1114.html',\n",
       " 'https://www.zara.com/uk/en/woman-blazers-l1055.html',\n",
       " 'https://www.zara.com/uk/en/woman-dresses-l1066.html',\n",
       " 'https://www.zara.com/uk/en/woman-shirts-l1217.html',\n",
       " 'https://www.zara.com/uk/en/woman-knitwear-l1152.html',\n",
       " 'https://www.zara.com/uk/en/woman-tshirts-l1362.html',\n",
       " 'https://www.zara.com/uk/en/woman-body-l1057.html',\n",
       " 'https://www.zara.com/uk/en/woman-sweatshirts-l1320.html',\n",
       " 'https://www.zara.com/uk/en/woman-trousers-l1335.html',\n",
       " 'https://www.zara.com/uk/en/woman-jeans-l1119.html',\n",
       " 'https://www.zara.com/uk/en/woman-skirts-l1299.html',\n",
       " 'https://www.zara.com/uk/en/woman-shoes-l1251.html',\n",
       " 'https://www.zara.com/uk/en/woman-bags-l1024.html',\n",
       " 'https://www.zara.com/uk/en/woman-accessories-l1003.html',\n",
       " 'https://www.zara.com/uk/en/woman-beauty-l1414.html',\n",
       " 'https://www.zara.com/uk/en/woman-lingerie-l4021.html',\n",
       " 'https://www.zara.com/uk/en/woman-collections-mkt2158.html',\n",
       " 'https://www.zara.com/uk/en/z-giftcard-mkt1394.html',\n",
       " 'https://www.zara.com/uk/en/man-mkt534.html',\n",
       " 'https://www.zara.com/uk/en/man-mkt534.html',\n",
       " 'https://www.zara.com/uk/en/man-collection-mkt622.html',\n",
       " '#',\n",
       " 'https://www.zara.com/uk/en/z-giftcard-mkt1394.html',\n",
       " 'https://www.zara.com/uk/en/kids-mkt1.html',\n",
       " 'https://www.zara.com/uk/en/sale-mkt879.html',\n",
       " 'https://www.zara.com/uk/en/kids-new-in-mkt472.html',\n",
       " 'https://www.zara.com/uk/en/z-giftcard-mkt1394.html',\n",
       " '#',\n",
       " 'https://www.zara.com/uk/en/home-mkt2085.html',\n",
       " 'https://www.zara.com/uk/en/home-mkt2085.html',\n",
       " 'https://www.zara.com/uk/en/shoes-bags-mkt1990.html',\n",
       " 'https://www.zara.com/uk/en/shoes-bags-l1990.html',\n",
       " 'https://www.zara.com/uk/en/shoes-bags-l1990.html',\n",
       " 'https://www.zara.com/uk/en/srpls-woman-l1876.html',\n",
       " 'https://www.zara.com/uk/en/srpls-woman-l1876.html',\n",
       " 'https://www.zara.com/uk/en/srpls-man-l1880.html',\n",
       " 'https://www.zara.com/uk/en/srpls-kids-l2315.html',\n",
       " 'https://www.zara.com/uk/en/sustainability-mkt1449.html',\n",
       " 'https://www.zara.com/uk/en/join-life-collection-mkt1868.html',\n",
       " 'https://www.zara.com/uk/en/z-commitment-mkt1390.html',\n",
       " 'https://www.zara.com/uk/en/sustainability-suppliers-mkt1456.html',\n",
       " 'https://www.zara.com/uk/en/join-life-c1084631.html',\n",
       " 'https://www.zara.com/uk/en/sustainability-clothing-care-mkt3129.html',\n",
       " 'https://www.zara.com/uk/en/sustainability-collection-program-mkt1452.html',\n",
       " 'https://www.zara.com/uk/en/sustainability-our-stores-mkt1454.html',\n",
       " 'https://www.zara.com/uk/en/sustainability-social-action-mkt1663.html',\n",
       " 'https://www.zara.com/uk/en/sustainability-annual-report-mkt1450.html',\n",
       " '#',\n",
       " 'https://www.zara.com/uk/en/z-info-l1397.html',\n",
       " 'https://www.zara.com/uk/en/z-newsletter-nl1400.html',\n",
       " 'https://www.zara.com/uk/en/contact',\n",
       " 'https://www.zara.com/uk/en/z-stores-st1404.html',\n",
       " '#',\n",
       " 'https://www.zara.com/uk/en/z-giftcard-mkt1394.html',\n",
       " 'https://www.zara.com/uk/en/gift-ticket?c=610501',\n",
       " 'https://www.zara.com/uk/en/z-press-corp1401.html',\n",
       " 'https://www.zara.com/uk/en/z-company-corp1391.html']"
      ]
     },
     "execution_count": 27,
     "metadata": {},
     "output_type": "execute_result"
    }
   ],
   "source": [
    "[link[\"href\"] for link in soup3.findAll(\"a\", {\"class\": \"layout-categories-category__link link\"})]"
   ]
  },
  {
   "cell_type": "code",
   "execution_count": null,
   "metadata": {},
   "outputs": [],
   "source": []
  },
  {
   "cell_type": "code",
   "execution_count": 28,
   "metadata": {},
   "outputs": [],
   "source": [
    "soup4 = soup_one_link(\"https://www.zara.com/uk/en/woman-special-prices-l1314.html\")"
   ]
  },
  {
   "cell_type": "code",
   "execution_count": 29,
   "metadata": {},
   "outputs": [
    {
     "data": {
      "text/plain": [
       "[<a class=\"product-link _item product-grid-product-info__name link\" href=\"https://www.zara.com/uk/en/soft-touch-trousers-trf-p05039464.html\" tabindex=\"0\"><span>SOFT-TOUCH TROUSERS TRF</span></a>,\n",
       " <a class=\"product-link _item product-grid-product-info__name link\" href=\"https://www.zara.com/uk/en/oversize-flannel-shirt-p02043792.html\" tabindex=\"0\"><span>OVERSIZE FLANNEL SHIRT</span></a>,\n",
       " <a class=\"product-link _item product-grid-product-info__name link\" href=\"https://www.zara.com/uk/en/printed-dress-with-belt-p08185042.html\" tabindex=\"0\"><span>PRINTED DRESS WITH BELT</span></a>,\n",
       " <a class=\"product-link _item product-grid-product-info__name link\" href=\"https://www.zara.com/uk/en/printed-midi-dress-p08342332.html\" tabindex=\"0\"><span>PRINTED MIDI DRESS</span></a>,\n",
       " <a class=\"product-link _item product-grid-product-info__name link\" href=\"https://www.zara.com/uk/en/paperbag-denim-bermuda-shorts-trf-p08727068.html\" tabindex=\"0\"><span>PAPERBAG DENIM BERMUDA SHORTS TRF</span></a>,\n",
       " <a class=\"product-link _item product-grid-product-info__name link\" href=\"https://www.zara.com/uk/en/seamed-leggings-p07981684.html\" tabindex=\"0\"><span>SEAMED LEGGINGS</span></a>,\n",
       " <a class=\"product-link _item product-grid-product-info__name link\" href=\"https://www.zara.com/uk/en/contrast-poplin-top-trf-p07521017.html\" tabindex=\"0\"><span>CONTRAST POPLIN TOP TRF</span></a>,\n",
       " <a class=\"product-link _item product-grid-product-info__name link\" href=\"https://www.zara.com/uk/en/quilted-bucket-bag-backpack-p16315610.html\" tabindex=\"0\"><span>QUILTED BUCKET BAG BACKPACK</span></a>,\n",
       " <a class=\"product-link _item product-grid-product-info__name link\" href=\"https://www.zara.com/uk/en/flat-leather-lace-up-ankle-boots-with-chains-p12126610.html\" tabindex=\"0\"><span>FLAT LEATHER LACE-UP ANKLE BOOTS WITH CHAINS</span></a>,\n",
       " <a class=\"product-link _item product-grid-product-info__name link\" href=\"https://www.zara.com/uk/en/balloon-sleeve-dress-p07563246.html\" tabindex=\"0\"><span>BALLOON SLEEVE DRESS</span></a>,\n",
       " <a class=\"product-link _item product-grid-product-info__name link\" href=\"https://www.zara.com/uk/en/voluminous-pleated-dress-p00881303.html\" tabindex=\"0\"><span>VOLUMINOUS PLEATED DRESS</span></a>,\n",
       " <a class=\"product-link _item product-grid-product-info__name link\" href=\"https://www.zara.com/uk/en/fitted-dress-p03067309.html\" tabindex=\"0\"><span>FITTED DRESS</span></a>,\n",
       " <a class=\"product-link _item product-grid-product-info__name link\" href=\"https://www.zara.com/uk/en/polka-dot-halterneck-dress-trf-p08271403.html\" tabindex=\"0\"><span>POLKA DOT HALTERNECK DRESS TRF</span></a>,\n",
       " <a class=\"product-link _item product-grid-product-info__name link\" href=\"https://www.zara.com/uk/en/organza-top-with-bow-trf-p03067413.html\" tabindex=\"0\"><span>ORGANZA TOP WITH BOW TRF</span></a>,\n",
       " <a class=\"product-link _item product-grid-product-info__name link\" href=\"https://www.zara.com/uk/en/crossbody-bag-with-chain-detail-p16400710.html\" tabindex=\"0\"><span>CROSSBODY BAG WITH CHAIN DETAIL</span></a>,\n",
       " <a class=\"product-link _item product-grid-product-info__name link\" href=\"https://www.zara.com/uk/en/buttoned-trousers-p08210681.html\" tabindex=\"0\"><span>BUTTONED TROUSERS</span></a>,\n",
       " <a class=\"product-link _item product-grid-product-info__name link\" href=\"https://www.zara.com/uk/en/shirt-dress-p00003302.html\" tabindex=\"0\"><span>SHIRT DRESS</span></a>,\n",
       " <a class=\"product-link _item product-grid-product-info__name link\" href=\"https://www.zara.com/uk/en/long-floral-print-dress-p08406333.html\" tabindex=\"0\"><span>LONG FLORAL PRINT DRESS</span></a>,\n",
       " <a class=\"product-link _item product-grid-product-info__name link\" href=\"https://www.zara.com/uk/en/check-shirt-dress-p08614383.html\" tabindex=\"0\"><span>CHECK SHIRT DRESS</span></a>,\n",
       " <a class=\"product-link _item product-grid-product-info__name link\" href=\"https://www.zara.com/uk/en/printed-shirt-dress-trf-p00003344.html\" tabindex=\"0\"><span>PRINTED SHIRT DRESS TRF</span></a>]"
      ]
     },
     "execution_count": 29,
     "metadata": {},
     "output_type": "execute_result"
    }
   ],
   "source": [
    "soup4.findAll(\"a\", {\"class\": \"product-link _item product-grid-product-info__name link\"})"
   ]
  },
  {
   "cell_type": "code",
   "execution_count": 30,
   "metadata": {},
   "outputs": [],
   "source": [
    "soup5 = soup_one_link(\"https://www.zara.com/uk/en/printed-shirt-dress-trf-p00003344.html?v1=62362737&v2=1729396\")"
   ]
  },
  {
   "cell_type": "code",
   "execution_count": 36,
   "metadata": {},
   "outputs": [
    {
     "data": {
      "text/plain": [
       "['__bool__',\n",
       " '__call__',\n",
       " '__class__',\n",
       " '__contains__',\n",
       " '__copy__',\n",
       " '__delattr__',\n",
       " '__delitem__',\n",
       " '__dict__',\n",
       " '__dir__',\n",
       " '__doc__',\n",
       " '__eq__',\n",
       " '__format__',\n",
       " '__ge__',\n",
       " '__getattr__',\n",
       " '__getattribute__',\n",
       " '__getitem__',\n",
       " '__gt__',\n",
       " '__hash__',\n",
       " '__init__',\n",
       " '__init_subclass__',\n",
       " '__iter__',\n",
       " '__le__',\n",
       " '__len__',\n",
       " '__lt__',\n",
       " '__module__',\n",
       " '__ne__',\n",
       " '__new__',\n",
       " '__reduce__',\n",
       " '__reduce_ex__',\n",
       " '__repr__',\n",
       " '__setattr__',\n",
       " '__setitem__',\n",
       " '__sizeof__',\n",
       " '__str__',\n",
       " '__subclasshook__',\n",
       " '__unicode__',\n",
       " '__weakref__',\n",
       " '_all_strings',\n",
       " '_find_all',\n",
       " '_find_one',\n",
       " '_is_xml',\n",
       " '_lastRecursiveChild',\n",
       " '_last_descendant',\n",
       " '_should_pretty_print',\n",
       " 'append',\n",
       " 'attrs',\n",
       " 'can_be_empty_element',\n",
       " 'cdata_list_attributes',\n",
       " 'childGenerator',\n",
       " 'children',\n",
       " 'clear',\n",
       " 'contents',\n",
       " 'decode',\n",
       " 'decode_contents',\n",
       " 'decompose',\n",
       " 'decomposed',\n",
       " 'descendants',\n",
       " 'encode',\n",
       " 'encode_contents',\n",
       " 'extend',\n",
       " 'extract',\n",
       " 'fetchNextSiblings',\n",
       " 'fetchParents',\n",
       " 'fetchPrevious',\n",
       " 'fetchPreviousSiblings',\n",
       " 'find',\n",
       " 'findAll',\n",
       " 'findAllNext',\n",
       " 'findAllPrevious',\n",
       " 'findChild',\n",
       " 'findChildren',\n",
       " 'findNext',\n",
       " 'findNextSibling',\n",
       " 'findNextSiblings',\n",
       " 'findParent',\n",
       " 'findParents',\n",
       " 'findPrevious',\n",
       " 'findPreviousSibling',\n",
       " 'findPreviousSiblings',\n",
       " 'find_all',\n",
       " 'find_all_next',\n",
       " 'find_all_previous',\n",
       " 'find_next',\n",
       " 'find_next_sibling',\n",
       " 'find_next_siblings',\n",
       " 'find_parent',\n",
       " 'find_parents',\n",
       " 'find_previous',\n",
       " 'find_previous_sibling',\n",
       " 'find_previous_siblings',\n",
       " 'format_string',\n",
       " 'formatter_for_name',\n",
       " 'get',\n",
       " 'getText',\n",
       " 'get_attribute_list',\n",
       " 'get_text',\n",
       " 'has_attr',\n",
       " 'has_key',\n",
       " 'hidden',\n",
       " 'index',\n",
       " 'insert',\n",
       " 'insert_after',\n",
       " 'insert_before',\n",
       " 'isSelfClosing',\n",
       " 'is_empty_element',\n",
       " 'known_xml',\n",
       " 'name',\n",
       " 'namespace',\n",
       " 'next',\n",
       " 'nextGenerator',\n",
       " 'nextSibling',\n",
       " 'nextSiblingGenerator',\n",
       " 'next_element',\n",
       " 'next_elements',\n",
       " 'next_sibling',\n",
       " 'next_siblings',\n",
       " 'parent',\n",
       " 'parentGenerator',\n",
       " 'parents',\n",
       " 'parserClass',\n",
       " 'parser_class',\n",
       " 'prefix',\n",
       " 'preserve_whitespace_tags',\n",
       " 'prettify',\n",
       " 'previous',\n",
       " 'previousGenerator',\n",
       " 'previousSibling',\n",
       " 'previousSiblingGenerator',\n",
       " 'previous_element',\n",
       " 'previous_elements',\n",
       " 'previous_sibling',\n",
       " 'previous_siblings',\n",
       " 'recursiveChildGenerator',\n",
       " 'renderContents',\n",
       " 'replaceWith',\n",
       " 'replaceWithChildren',\n",
       " 'replace_with',\n",
       " 'replace_with_children',\n",
       " 'select',\n",
       " 'select_one',\n",
       " 'setup',\n",
       " 'smooth',\n",
       " 'sourceline',\n",
       " 'sourcepos',\n",
       " 'string',\n",
       " 'strings',\n",
       " 'stripped_strings',\n",
       " 'text',\n",
       " 'unwrap',\n",
       " 'wrap']"
      ]
     },
     "execution_count": 36,
     "metadata": {},
     "output_type": "execute_result"
    }
   ],
   "source": [
    "dir(soup5.find(\"h1\", {\"class\": \"product-name\"}))"
   ]
  },
  {
   "cell_type": "code",
   "execution_count": 44,
   "metadata": {},
   "outputs": [
    {
     "data": {
      "text/plain": [
       "'PRINTED SHIRT DRESS TRF Details'"
      ]
     },
     "execution_count": 44,
     "metadata": {},
     "output_type": "execute_result"
    }
   ],
   "source": [
    "soup5.find(\"h1\", {\"class\": \"product-name\"}).text"
   ]
  },
  {
   "cell_type": "code",
   "execution_count": 18,
   "metadata": {},
   "outputs": [],
   "source": [
    "def soup_one_link(link):\n",
    "    r = requests.get(link)\n",
    "    return BeautifulSoup(r.text, \"html.parser\")"
   ]
  },
  {
   "cell_type": "code",
   "execution_count": 56,
   "metadata": {},
   "outputs": [],
   "source": [
    "class MyCrawler:\n",
    "    def __init__(self, base_url):\n",
    "        self.base_url = base_url\n",
    "        self.saved_products = [] # list of links with products saved.\n",
    "        self.visited_links = []\n",
    "        self.data = {\"description\": [], \"name\": []}\n",
    "        self.corrupt_name_expressions = [\" Details\"]\n",
    "    \n",
    "    def __call__(self,):\n",
    "        categories_links = self._categories_links()\n",
    "        self._try_fetch_from_categories(categories_links)\n",
    "    \n",
    "    def _save_saved_products(self,):\n",
    "        with open(\"saved_zara_products.pkl\", \"wb\") as f:\n",
    "            pickle.dump(self.saved_products, f)\n",
    "    \n",
    "    def _categories_links(self, ):\n",
    "        soup = self.soup_one_link(self.base_url)\n",
    "        categories = [\n",
    "            link[\"href\"] \n",
    "            for link in soup.findAll(\n",
    "                \"a\", \n",
    "                {\n",
    "                    \"class\": \"layout-categories-category__link link\"\n",
    "                }\n",
    "                )\n",
    "        ]\n",
    "        return categories\n",
    "    \n",
    "    def _try_fetch_from_categories(self, categories):\n",
    "        for category in tqdm(categories, desc=\"Iterating over categories\"):\n",
    "            self._try_fetch_one_category(category)\n",
    "    \n",
    "    def _try_fetch_one_category(self, category_link):\n",
    "        soup_cat = self.soup_one_link(category_link)\n",
    "        sublinks = [\n",
    "            link[\"href\"]\n",
    "            for link in soup_cat.findAll(\n",
    "                \"a\",\n",
    "                {\n",
    "                    \"class\": \"layout-categories-category__link link\"\n",
    "                }\n",
    "            )\n",
    "        ]\n",
    "        for link in tqdm(sublinks, desc=\"Iterating over sublinks of category\"):\n",
    "            try:\n",
    "                soup_link = self.soup_one_link(link)\n",
    "                self._exploit_one_product_page(soup_link)\n",
    "            except Exception as e:\n",
    "                print(e)\n",
    "                continue\n",
    "                \n",
    "                \n",
    "    \n",
    "    def _get_products_links_from_link(self, link_souped):\n",
    "        products_links = [\n",
    "            link[\"href\"]\n",
    "            for link in link_souped.findAll(\n",
    "                \"a\",\n",
    "                {\"class\": \"product-link _item product-grid-product-info__name link\"}\n",
    "            )\n",
    "        ]\n",
    "        return products_links\n",
    "    \n",
    "    def _exploit_one_product_page(self, link_souped):\n",
    "        total_links = [link_souped] + self._create_more_links(link_souped)\n",
    "        for link in tqdm(total_links, desc=\"Exploitting one product page...\"):\n",
    "            try:\n",
    "                products_links = self._get_products_links_from_link(link_souped)\n",
    "                for prod_link in products_links:\n",
    "                    self._get_product_data(prod_link)\n",
    "                    self._save_data()\n",
    "            except Exception as e:\n",
    "                print(e)\n",
    "                continue\n",
    "                \n",
    "        \n",
    "    def _get_product_data(self, product_link):\n",
    "        soup_product = self.soup_one_link(product_link)\n",
    "        product_name = soup_product.find(\"h1\", {\"class\": \"product-name\"}).text\n",
    "        product_name = self._clean_product_name(product_name)\n",
    "        description = soup_product.find(\"p\", {\"class\": \"description\"}).text\n",
    "        self.data[\"description\"].append(description)\n",
    "        self.data[\"name\"].append(product_name)\n",
    "        print(f\"He conseguido nuevos productos, llevamos {len(self.data['description'])}; {len(self.data['name'])}\")\n",
    "        \n",
    "        \n",
    "    \n",
    "    def _clean_product_name(self, text):\n",
    "        for corrupt_expr in self.corrupt_name_expressions:\n",
    "            if corrupt_expr in text:\n",
    "                text = text.replace(corrupt_expr, \"\")\n",
    "        return text\n",
    "        \n",
    "    def _save_data(self, ):\n",
    "        with open(\"crawled_data.pkl\", \"wb\") as f:\n",
    "            pickle.dump(self.data, f)\n",
    "    \n",
    "    def _create_more_links(self, link, n=10):\n",
    "        return [f\"{link}&page={i}\" for i in range(1, n)]\n",
    "                \n",
    "    \n",
    "    def soup_one_link(self, link):\n",
    "        r = requests.get(link)\n",
    "        self.visited_links.append(link)\n",
    "        time.sleep(10)\n",
    "        return BeautifulSoup(r.text, \"html.parser\")\n",
    "        \n",
    "        \n",
    "    \n",
    "    \n",
    "    "
   ]
  },
  {
   "cell_type": "code",
   "execution_count": 57,
   "metadata": {},
   "outputs": [],
   "source": [
    "crawler = MyCrawler(\"https://www.zara.com/uk/\")"
   ]
  },
  {
   "cell_type": "code",
   "execution_count": 58,
   "metadata": {},
   "outputs": [
    {
     "name": "stderr",
     "output_type": "stream",
     "text": [
      "Iterating over categories:   0%|          | 0/43 [00:00<?, ?it/s]\n",
      "Iterating over sublinks of category:   0%|          | 0/61 [00:00<?, ?it/s]\u001b[A\n",
      "\n",
      "Exploitting one product page...:   0%|          | 0/10 [00:00<?, ?it/s]\u001b[A\u001b[A\n",
      "\n",
      "Exploitting one product page...: 100%|██████████| 10/10 [00:00<00:00, 56.94it/s][A\u001b[A\n",
      "\n",
      "Iterating over sublinks of category:   2%|▏         | 1/61 [00:11<11:05, 11.09s/it]\u001b[A\n",
      "\n",
      "Exploitting one product page...:   0%|          | 0/10 [00:00<?, ?it/s]\u001b[A\u001b[A\n",
      "\n",
      "Exploitting one product page...: 100%|██████████| 10/10 [00:00<00:00, 49.04it/s][A\u001b[A\n",
      "\n",
      "Iterating over sublinks of category:   3%|▎         | 2/61 [00:22<10:54, 11.09s/it]\u001b[A\n",
      "\n",
      "Exploitting one product page...:   0%|          | 0/10 [00:00<?, ?it/s]\u001b[A\u001b[A"
     ]
    },
    {
     "name": "stdout",
     "output_type": "stream",
     "text": [
      "He conseguido nuevos productos, llevamos 1; 1\n",
      "He conseguido nuevos productos, llevamos 2; 2\n",
      "He conseguido nuevos productos, llevamos 3; 3\n",
      "He conseguido nuevos productos, llevamos 4; 4\n",
      "He conseguido nuevos productos, llevamos 5; 5\n",
      "He conseguido nuevos productos, llevamos 6; 6\n",
      "He conseguido nuevos productos, llevamos 7; 7\n",
      "He conseguido nuevos productos, llevamos 8; 8\n",
      "He conseguido nuevos productos, llevamos 9; 9\n",
      "He conseguido nuevos productos, llevamos 10; 10\n",
      "He conseguido nuevos productos, llevamos 11; 11\n",
      "He conseguido nuevos productos, llevamos 12; 12\n",
      "He conseguido nuevos productos, llevamos 13; 13\n",
      "He conseguido nuevos productos, llevamos 14; 14\n",
      "He conseguido nuevos productos, llevamos 15; 15\n",
      "He conseguido nuevos productos, llevamos 16; 16\n",
      "He conseguido nuevos productos, llevamos 17; 17\n",
      "He conseguido nuevos productos, llevamos 18; 18\n",
      "He conseguido nuevos productos, llevamos 19; 19\n"
     ]
    },
    {
     "name": "stderr",
     "output_type": "stream",
     "text": [
      "\n",
      "\n",
      "Exploitting one product page...:  10%|█         | 1/10 [03:31<31:40, 211.11s/it]\u001b[A\u001b[A"
     ]
    },
    {
     "name": "stdout",
     "output_type": "stream",
     "text": [
      "He conseguido nuevos productos, llevamos 20; 20\n",
      "He conseguido nuevos productos, llevamos 21; 21\n",
      "He conseguido nuevos productos, llevamos 22; 22\n",
      "He conseguido nuevos productos, llevamos 23; 23\n",
      "He conseguido nuevos productos, llevamos 24; 24\n",
      "He conseguido nuevos productos, llevamos 25; 25\n",
      "He conseguido nuevos productos, llevamos 26; 26\n",
      "He conseguido nuevos productos, llevamos 27; 27\n",
      "He conseguido nuevos productos, llevamos 28; 28\n",
      "He conseguido nuevos productos, llevamos 29; 29\n",
      "He conseguido nuevos productos, llevamos 30; 30\n",
      "He conseguido nuevos productos, llevamos 31; 31\n",
      "He conseguido nuevos productos, llevamos 32; 32\n",
      "He conseguido nuevos productos, llevamos 33; 33\n",
      "He conseguido nuevos productos, llevamos 34; 34\n",
      "He conseguido nuevos productos, llevamos 35; 35\n",
      "He conseguido nuevos productos, llevamos 36; 36\n",
      "He conseguido nuevos productos, llevamos 37; 37\n",
      "He conseguido nuevos productos, llevamos 38; 38\n",
      "He conseguido nuevos productos, llevamos 39; 39\n"
     ]
    },
    {
     "name": "stderr",
     "output_type": "stream",
     "text": [
      "\n",
      "\n",
      "Exploitting one product page...:  20%|██        | 2/10 [06:58<27:52, 209.02s/it]\u001b[A\u001b[A"
     ]
    },
    {
     "name": "stdout",
     "output_type": "stream",
     "text": [
      "He conseguido nuevos productos, llevamos 40; 40\n",
      "He conseguido nuevos productos, llevamos 41; 41\n",
      "He conseguido nuevos productos, llevamos 42; 42\n",
      "He conseguido nuevos productos, llevamos 43; 43\n",
      "He conseguido nuevos productos, llevamos 44; 44\n",
      "He conseguido nuevos productos, llevamos 45; 45\n",
      "He conseguido nuevos productos, llevamos 46; 46\n",
      "He conseguido nuevos productos, llevamos 47; 47\n",
      "He conseguido nuevos productos, llevamos 48; 48\n",
      "He conseguido nuevos productos, llevamos 49; 49\n",
      "He conseguido nuevos productos, llevamos 50; 50\n",
      "He conseguido nuevos productos, llevamos 51; 51\n",
      "He conseguido nuevos productos, llevamos 52; 52\n",
      "He conseguido nuevos productos, llevamos 53; 53\n",
      "He conseguido nuevos productos, llevamos 54; 54\n",
      "He conseguido nuevos productos, llevamos 55; 55\n",
      "He conseguido nuevos productos, llevamos 56; 56\n",
      "He conseguido nuevos productos, llevamos 57; 57\n",
      "He conseguido nuevos productos, llevamos 58; 58\n",
      "He conseguido nuevos productos, llevamos 59; 59\n"
     ]
    },
    {
     "name": "stderr",
     "output_type": "stream",
     "text": [
      "\n",
      "\n",
      "Exploitting one product page...:  30%|███       | 3/10 [10:28<24:25, 209.31s/it]\u001b[A\u001b[A"
     ]
    },
    {
     "name": "stdout",
     "output_type": "stream",
     "text": [
      "He conseguido nuevos productos, llevamos 60; 60\n",
      "He conseguido nuevos productos, llevamos 61; 61\n",
      "He conseguido nuevos productos, llevamos 62; 62\n",
      "He conseguido nuevos productos, llevamos 63; 63\n",
      "He conseguido nuevos productos, llevamos 64; 64\n",
      "He conseguido nuevos productos, llevamos 65; 65\n",
      "He conseguido nuevos productos, llevamos 66; 66\n",
      "He conseguido nuevos productos, llevamos 67; 67\n",
      "He conseguido nuevos productos, llevamos 68; 68\n",
      "He conseguido nuevos productos, llevamos 69; 69\n",
      "He conseguido nuevos productos, llevamos 70; 70\n",
      "He conseguido nuevos productos, llevamos 71; 71\n",
      "He conseguido nuevos productos, llevamos 72; 72\n",
      "He conseguido nuevos productos, llevamos 73; 73\n",
      "He conseguido nuevos productos, llevamos 74; 74\n",
      "He conseguido nuevos productos, llevamos 75; 75\n",
      "He conseguido nuevos productos, llevamos 76; 76\n",
      "He conseguido nuevos productos, llevamos 77; 77\n",
      "He conseguido nuevos productos, llevamos 78; 78\n",
      "He conseguido nuevos productos, llevamos 79; 79\n"
     ]
    },
    {
     "name": "stderr",
     "output_type": "stream",
     "text": [
      "\n",
      "\n",
      "Exploitting one product page...:  40%|████      | 4/10 [13:56<20:54, 209.02s/it]\u001b[A\u001b[A"
     ]
    },
    {
     "name": "stdout",
     "output_type": "stream",
     "text": [
      "He conseguido nuevos productos, llevamos 80; 80\n",
      "He conseguido nuevos productos, llevamos 81; 81\n",
      "He conseguido nuevos productos, llevamos 82; 82\n",
      "He conseguido nuevos productos, llevamos 83; 83\n",
      "He conseguido nuevos productos, llevamos 84; 84\n",
      "He conseguido nuevos productos, llevamos 85; 85\n",
      "He conseguido nuevos productos, llevamos 86; 86\n",
      "He conseguido nuevos productos, llevamos 87; 87\n",
      "He conseguido nuevos productos, llevamos 88; 88\n",
      "He conseguido nuevos productos, llevamos 89; 89\n",
      "He conseguido nuevos productos, llevamos 90; 90\n",
      "He conseguido nuevos productos, llevamos 91; 91\n",
      "He conseguido nuevos productos, llevamos 92; 92\n",
      "He conseguido nuevos productos, llevamos 93; 93\n",
      "He conseguido nuevos productos, llevamos 94; 94\n",
      "He conseguido nuevos productos, llevamos 95; 95\n",
      "He conseguido nuevos productos, llevamos 96; 96\n",
      "He conseguido nuevos productos, llevamos 97; 97\n",
      "He conseguido nuevos productos, llevamos 98; 98\n",
      "He conseguido nuevos productos, llevamos 99; 99\n"
     ]
    },
    {
     "name": "stderr",
     "output_type": "stream",
     "text": [
      "\n",
      "\n",
      "Exploitting one product page...:  50%|█████     | 5/10 [17:25<17:23, 208.78s/it]\u001b[A\u001b[A"
     ]
    },
    {
     "name": "stdout",
     "output_type": "stream",
     "text": [
      "He conseguido nuevos productos, llevamos 100; 100\n"
     ]
    },
    {
     "name": "stderr",
     "output_type": "stream",
     "text": [
      "Exploitting one product page...:  50%|█████     | 5/10 [17:30<17:30, 210.02s/it]\n",
      "Iterating over sublinks of category:   3%|▎         | 2/61 [18:03<8:52:35, 541.62s/it]\n",
      "Iterating over categories:   0%|          | 0/43 [18:13<?, ?it/s]\n"
     ]
    },
    {
     "ename": "KeyboardInterrupt",
     "evalue": "",
     "output_type": "error",
     "traceback": [
      "\u001b[0;31m---------------------------------------------------------------------------\u001b[0m",
      "\u001b[0;31mKeyboardInterrupt\u001b[0m                         Traceback (most recent call last)",
      "\u001b[0;32m<ipython-input-58-96acea097eb6>\u001b[0m in \u001b[0;36m<module>\u001b[0;34m\u001b[0m\n\u001b[0;32m----> 1\u001b[0;31m \u001b[0mcrawler\u001b[0m\u001b[0;34m(\u001b[0m\u001b[0;34m)\u001b[0m\u001b[0;34m\u001b[0m\u001b[0;34m\u001b[0m\u001b[0m\n\u001b[0m",
      "\u001b[0;32m<ipython-input-56-0a43eb8f8597>\u001b[0m in \u001b[0;36m__call__\u001b[0;34m(self)\u001b[0m\n\u001b[1;32m      9\u001b[0m     \u001b[0;32mdef\u001b[0m \u001b[0m__call__\u001b[0m\u001b[0;34m(\u001b[0m\u001b[0mself\u001b[0m\u001b[0;34m,\u001b[0m\u001b[0;34m)\u001b[0m\u001b[0;34m:\u001b[0m\u001b[0;34m\u001b[0m\u001b[0;34m\u001b[0m\u001b[0m\n\u001b[1;32m     10\u001b[0m         \u001b[0mcategories_links\u001b[0m \u001b[0;34m=\u001b[0m \u001b[0mself\u001b[0m\u001b[0;34m.\u001b[0m\u001b[0m_categories_links\u001b[0m\u001b[0;34m(\u001b[0m\u001b[0;34m)\u001b[0m\u001b[0;34m\u001b[0m\u001b[0;34m\u001b[0m\u001b[0m\n\u001b[0;32m---> 11\u001b[0;31m         \u001b[0mself\u001b[0m\u001b[0;34m.\u001b[0m\u001b[0m_try_fetch_from_categories\u001b[0m\u001b[0;34m(\u001b[0m\u001b[0mcategories_links\u001b[0m\u001b[0;34m)\u001b[0m\u001b[0;34m\u001b[0m\u001b[0;34m\u001b[0m\u001b[0m\n\u001b[0m\u001b[1;32m     12\u001b[0m \u001b[0;34m\u001b[0m\u001b[0m\n\u001b[1;32m     13\u001b[0m     \u001b[0;32mdef\u001b[0m \u001b[0m_save_saved_products\u001b[0m\u001b[0;34m(\u001b[0m\u001b[0mself\u001b[0m\u001b[0;34m,\u001b[0m\u001b[0;34m)\u001b[0m\u001b[0;34m:\u001b[0m\u001b[0;34m\u001b[0m\u001b[0;34m\u001b[0m\u001b[0m\n",
      "\u001b[0;32m<ipython-input-56-0a43eb8f8597>\u001b[0m in \u001b[0;36m_try_fetch_from_categories\u001b[0;34m(self, categories)\u001b[0m\n\u001b[1;32m     30\u001b[0m     \u001b[0;32mdef\u001b[0m \u001b[0m_try_fetch_from_categories\u001b[0m\u001b[0;34m(\u001b[0m\u001b[0mself\u001b[0m\u001b[0;34m,\u001b[0m \u001b[0mcategories\u001b[0m\u001b[0;34m)\u001b[0m\u001b[0;34m:\u001b[0m\u001b[0;34m\u001b[0m\u001b[0;34m\u001b[0m\u001b[0m\n\u001b[1;32m     31\u001b[0m         \u001b[0;32mfor\u001b[0m \u001b[0mcategory\u001b[0m \u001b[0;32min\u001b[0m \u001b[0mtqdm\u001b[0m\u001b[0;34m(\u001b[0m\u001b[0mcategories\u001b[0m\u001b[0;34m,\u001b[0m \u001b[0mdesc\u001b[0m\u001b[0;34m=\u001b[0m\u001b[0;34m\"Iterating over categories\"\u001b[0m\u001b[0;34m)\u001b[0m\u001b[0;34m:\u001b[0m\u001b[0;34m\u001b[0m\u001b[0;34m\u001b[0m\u001b[0m\n\u001b[0;32m---> 32\u001b[0;31m             \u001b[0mself\u001b[0m\u001b[0;34m.\u001b[0m\u001b[0m_try_fetch_one_category\u001b[0m\u001b[0;34m(\u001b[0m\u001b[0mcategory\u001b[0m\u001b[0;34m)\u001b[0m\u001b[0;34m\u001b[0m\u001b[0;34m\u001b[0m\u001b[0m\n\u001b[0m\u001b[1;32m     33\u001b[0m \u001b[0;34m\u001b[0m\u001b[0m\n\u001b[1;32m     34\u001b[0m     \u001b[0;32mdef\u001b[0m \u001b[0m_try_fetch_one_category\u001b[0m\u001b[0;34m(\u001b[0m\u001b[0mself\u001b[0m\u001b[0;34m,\u001b[0m \u001b[0mcategory_link\u001b[0m\u001b[0;34m)\u001b[0m\u001b[0;34m:\u001b[0m\u001b[0;34m\u001b[0m\u001b[0;34m\u001b[0m\u001b[0m\n",
      "\u001b[0;32m<ipython-input-56-0a43eb8f8597>\u001b[0m in \u001b[0;36m_try_fetch_one_category\u001b[0;34m(self, category_link)\u001b[0m\n\u001b[1;32m     46\u001b[0m             \u001b[0;32mtry\u001b[0m\u001b[0;34m:\u001b[0m\u001b[0;34m\u001b[0m\u001b[0;34m\u001b[0m\u001b[0m\n\u001b[1;32m     47\u001b[0m                 \u001b[0msoup_link\u001b[0m \u001b[0;34m=\u001b[0m \u001b[0mself\u001b[0m\u001b[0;34m.\u001b[0m\u001b[0msoup_one_link\u001b[0m\u001b[0;34m(\u001b[0m\u001b[0mlink\u001b[0m\u001b[0;34m)\u001b[0m\u001b[0;34m\u001b[0m\u001b[0;34m\u001b[0m\u001b[0m\n\u001b[0;32m---> 48\u001b[0;31m                 \u001b[0mself\u001b[0m\u001b[0;34m.\u001b[0m\u001b[0m_exploit_one_product_page\u001b[0m\u001b[0;34m(\u001b[0m\u001b[0msoup_link\u001b[0m\u001b[0;34m)\u001b[0m\u001b[0;34m\u001b[0m\u001b[0;34m\u001b[0m\u001b[0m\n\u001b[0m\u001b[1;32m     49\u001b[0m             \u001b[0;32mexcept\u001b[0m \u001b[0mException\u001b[0m \u001b[0;32mas\u001b[0m \u001b[0me\u001b[0m\u001b[0;34m:\u001b[0m\u001b[0;34m\u001b[0m\u001b[0;34m\u001b[0m\u001b[0m\n\u001b[1;32m     50\u001b[0m                 \u001b[0mprint\u001b[0m\u001b[0;34m(\u001b[0m\u001b[0me\u001b[0m\u001b[0;34m)\u001b[0m\u001b[0;34m\u001b[0m\u001b[0;34m\u001b[0m\u001b[0m\n",
      "\u001b[0;32m<ipython-input-56-0a43eb8f8597>\u001b[0m in \u001b[0;36m_exploit_one_product_page\u001b[0;34m(self, link_souped)\u001b[0m\n\u001b[1;32m     69\u001b[0m                 \u001b[0mproducts_links\u001b[0m \u001b[0;34m=\u001b[0m \u001b[0mself\u001b[0m\u001b[0;34m.\u001b[0m\u001b[0m_get_products_links_from_link\u001b[0m\u001b[0;34m(\u001b[0m\u001b[0mlink_souped\u001b[0m\u001b[0;34m)\u001b[0m\u001b[0;34m\u001b[0m\u001b[0;34m\u001b[0m\u001b[0m\n\u001b[1;32m     70\u001b[0m                 \u001b[0;32mfor\u001b[0m \u001b[0mprod_link\u001b[0m \u001b[0;32min\u001b[0m \u001b[0mproducts_links\u001b[0m\u001b[0;34m:\u001b[0m\u001b[0;34m\u001b[0m\u001b[0;34m\u001b[0m\u001b[0m\n\u001b[0;32m---> 71\u001b[0;31m                     \u001b[0mself\u001b[0m\u001b[0;34m.\u001b[0m\u001b[0m_get_product_data\u001b[0m\u001b[0;34m(\u001b[0m\u001b[0mprod_link\u001b[0m\u001b[0;34m)\u001b[0m\u001b[0;34m\u001b[0m\u001b[0;34m\u001b[0m\u001b[0m\n\u001b[0m\u001b[1;32m     72\u001b[0m                     \u001b[0mself\u001b[0m\u001b[0;34m.\u001b[0m\u001b[0m_save_data\u001b[0m\u001b[0;34m(\u001b[0m\u001b[0;34m)\u001b[0m\u001b[0;34m\u001b[0m\u001b[0;34m\u001b[0m\u001b[0m\n\u001b[1;32m     73\u001b[0m             \u001b[0;32mexcept\u001b[0m \u001b[0mException\u001b[0m \u001b[0;32mas\u001b[0m \u001b[0me\u001b[0m\u001b[0;34m:\u001b[0m\u001b[0;34m\u001b[0m\u001b[0;34m\u001b[0m\u001b[0m\n",
      "\u001b[0;32m<ipython-input-56-0a43eb8f8597>\u001b[0m in \u001b[0;36m_get_product_data\u001b[0;34m(self, product_link)\u001b[0m\n\u001b[1;32m     77\u001b[0m \u001b[0;34m\u001b[0m\u001b[0m\n\u001b[1;32m     78\u001b[0m     \u001b[0;32mdef\u001b[0m \u001b[0m_get_product_data\u001b[0m\u001b[0;34m(\u001b[0m\u001b[0mself\u001b[0m\u001b[0;34m,\u001b[0m \u001b[0mproduct_link\u001b[0m\u001b[0;34m)\u001b[0m\u001b[0;34m:\u001b[0m\u001b[0;34m\u001b[0m\u001b[0;34m\u001b[0m\u001b[0m\n\u001b[0;32m---> 79\u001b[0;31m         \u001b[0msoup_product\u001b[0m \u001b[0;34m=\u001b[0m \u001b[0mself\u001b[0m\u001b[0;34m.\u001b[0m\u001b[0msoup_one_link\u001b[0m\u001b[0;34m(\u001b[0m\u001b[0mproduct_link\u001b[0m\u001b[0;34m)\u001b[0m\u001b[0;34m\u001b[0m\u001b[0;34m\u001b[0m\u001b[0m\n\u001b[0m\u001b[1;32m     80\u001b[0m         \u001b[0mproduct_name\u001b[0m \u001b[0;34m=\u001b[0m \u001b[0msoup_product\u001b[0m\u001b[0;34m.\u001b[0m\u001b[0mfind\u001b[0m\u001b[0;34m(\u001b[0m\u001b[0;34m\"h1\"\u001b[0m\u001b[0;34m,\u001b[0m \u001b[0;34m{\u001b[0m\u001b[0;34m\"class\"\u001b[0m\u001b[0;34m:\u001b[0m \u001b[0;34m\"product-name\"\u001b[0m\u001b[0;34m}\u001b[0m\u001b[0;34m)\u001b[0m\u001b[0;34m.\u001b[0m\u001b[0mtext\u001b[0m\u001b[0;34m\u001b[0m\u001b[0;34m\u001b[0m\u001b[0m\n\u001b[1;32m     81\u001b[0m         \u001b[0mproduct_name\u001b[0m \u001b[0;34m=\u001b[0m \u001b[0mself\u001b[0m\u001b[0;34m.\u001b[0m\u001b[0m_clean_product_name\u001b[0m\u001b[0;34m(\u001b[0m\u001b[0mproduct_name\u001b[0m\u001b[0;34m)\u001b[0m\u001b[0;34m\u001b[0m\u001b[0;34m\u001b[0m\u001b[0m\n",
      "\u001b[0;32m<ipython-input-56-0a43eb8f8597>\u001b[0m in \u001b[0;36msoup_one_link\u001b[0;34m(self, link)\u001b[0m\n\u001b[1;32m    104\u001b[0m         \u001b[0mr\u001b[0m \u001b[0;34m=\u001b[0m \u001b[0mrequests\u001b[0m\u001b[0;34m.\u001b[0m\u001b[0mget\u001b[0m\u001b[0;34m(\u001b[0m\u001b[0mlink\u001b[0m\u001b[0;34m)\u001b[0m\u001b[0;34m\u001b[0m\u001b[0;34m\u001b[0m\u001b[0m\n\u001b[1;32m    105\u001b[0m         \u001b[0mself\u001b[0m\u001b[0;34m.\u001b[0m\u001b[0mvisited_links\u001b[0m\u001b[0;34m.\u001b[0m\u001b[0mappend\u001b[0m\u001b[0;34m(\u001b[0m\u001b[0mlink\u001b[0m\u001b[0;34m)\u001b[0m\u001b[0;34m\u001b[0m\u001b[0;34m\u001b[0m\u001b[0m\n\u001b[0;32m--> 106\u001b[0;31m         \u001b[0mtime\u001b[0m\u001b[0;34m.\u001b[0m\u001b[0msleep\u001b[0m\u001b[0;34m(\u001b[0m\u001b[0;36m10\u001b[0m\u001b[0;34m)\u001b[0m\u001b[0;34m\u001b[0m\u001b[0;34m\u001b[0m\u001b[0m\n\u001b[0m\u001b[1;32m    107\u001b[0m         \u001b[0;32mreturn\u001b[0m \u001b[0mBeautifulSoup\u001b[0m\u001b[0;34m(\u001b[0m\u001b[0mr\u001b[0m\u001b[0;34m.\u001b[0m\u001b[0mtext\u001b[0m\u001b[0;34m,\u001b[0m \u001b[0;34m\"html.parser\"\u001b[0m\u001b[0;34m)\u001b[0m\u001b[0;34m\u001b[0m\u001b[0;34m\u001b[0m\u001b[0m\n\u001b[1;32m    108\u001b[0m \u001b[0;34m\u001b[0m\u001b[0m\n",
      "\u001b[0;31mKeyboardInterrupt\u001b[0m: "
     ]
    }
   ],
   "source": [
    "crawler()"
   ]
  },
  {
   "cell_type": "code",
   "execution_count": 59,
   "metadata": {},
   "outputs": [],
   "source": [
    "with open(\"visited_links_zara.pkl\", \"wb\") as f:\n",
    "    pickle.dump(crawler.visited_links, f)"
   ]
  },
  {
   "cell_type": "code",
   "execution_count": null,
   "metadata": {},
   "outputs": [],
   "source": []
  }
 ],
 "metadata": {
  "kernelspec": {
   "display_name": "Python [conda env:spainai_hackaton] *",
   "language": "python",
   "name": "conda-env-spainai_hackaton-py"
  },
  "language_info": {
   "codemirror_mode": {
    "name": "ipython",
    "version": 3
   },
   "file_extension": ".py",
   "mimetype": "text/x-python",
   "name": "python",
   "nbconvert_exporter": "python",
   "pygments_lexer": "ipython3",
   "version": "3.7.9"
  }
 },
 "nbformat": 4,
 "nbformat_minor": 4
}
