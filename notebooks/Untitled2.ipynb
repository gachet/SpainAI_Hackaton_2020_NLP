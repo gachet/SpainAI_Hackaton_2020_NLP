{
 "cells": [
  {
   "cell_type": "code",
   "execution_count": 3,
   "metadata": {},
   "outputs": [],
   "source": [
    "from transformers import Trainer, BartTokenizer"
   ]
  },
  {
   "cell_type": "code",
   "execution_count": 4,
   "metadata": {},
   "outputs": [],
   "source": [
    "import pandas as pd\n",
    "import numpy as np"
   ]
  },
  {
   "cell_type": "code",
   "execution_count": 21,
   "metadata": {},
   "outputs": [],
   "source": [
    "def clean_text(text):\n",
    "    text = text.replace(\"<br/>\", \"\")\n",
    "    text = text.replace(\"<br>\", \"\")\n",
    "    text = text.repace(\"\\xa0\", \"\")\n",
    "    text = text.replace(\"•\", \"\")\n",
    "    text = text.replace(\"&#39;\", \"'\")\n",
    "    text = text.replace(\" +\", \" \")\n",
    "    text = text.replace(\"\\n\", \"\")\n",
    "    clean_exprs = [\"HEIGHT OF MODEL\", \"height of model\", \"model height\", \"MODEL HEIGHT\", \"Contains: \"]\n",
    "    for expr in clean_exprs:\n",
    "        if expr in text:\n",
    "            text = text[:text.find(expr)]\n",
    "    return text"
   ]
  },
  {
   "cell_type": "code",
   "execution_count": 5,
   "metadata": {},
   "outputs": [],
   "source": [
    "def clean_text(text):\n",
    "    text = text.replace(\"<br/>\", \"\")\n",
    "    text = text.replace(\"<br>\", \"\")\n",
    "    text = text.replace(\"\\xa0\", \"\")\n",
    "    text = text.replace(\"•\", \"\")\n",
    "    text = text.replace(\"&#39;\", \"'\")\n",
    "    text = text.replace(\"\\n\", \"\")\n",
    "    clean_exprs = [\n",
    "        \"HEIGHT OF MODEL\",\n",
    "        \"height of model\",\n",
    "        \"model height\",\n",
    "        \"MODEL HEIGHT\",\n",
    "        \"Contains: \",\n",
    "        \"Heel height\",\n",
    "        \"Sole height\",\n",
    "        \"Height of sole\",\n",
    "        \"Height x Length x Width\",\n",
    "        \"WARNING\",\n",
    "    ]\n",
    "    for expr in clean_exprs:\n",
    "        if expr in text:\n",
    "            text = text[: text.find(expr)]\n",
    "    text = text.replace(\" +\", \" \")\n",
    "    return text"
   ]
  },
  {
   "cell_type": "code",
   "execution_count": 6,
   "metadata": {},
   "outputs": [],
   "source": [
    "df = pd.read_csv(\"../train.csv\")"
   ]
  },
  {
   "cell_type": "code",
   "execution_count": 7,
   "metadata": {},
   "outputs": [],
   "source": [
    "test = pd.read_csv(\"../test_descriptions.csv\")"
   ]
  },
  {
   "cell_type": "code",
   "execution_count": 48,
   "metadata": {},
   "outputs": [],
   "source": [
    "test2 = pd.read_csv(\"../test_descriptions.csv\")"
   ]
  },
  {
   "cell_type": "code",
   "execution_count": 55,
   "metadata": {},
   "outputs": [
    {
     "data": {
      "text/plain": [
       "['Giraffe-shaped crossbody bag. Zip closure and a mini giraffe-shaped decorative accessory. Shoulder strap. Fabric lining.<br/><br/>Height x Length x Width: 25 x 12 x 10 cm. / 9.8 x 4.7 x 3.9″',\n",
       " 'Piggy-shaped bad. Zip closure and sheep-shaped decorative accessory. Printed 100% cotton lined interior.<br/>Height x Length x Width: 7 x 16 x 8 cm. / 2.7 x 6.2 x 3.1″',\n",
       " '100% cotton lunch bag. Zip closure. Top handles. <br/><br/>Height x Length x Width: 16 x 19.5 x 11.50 cm. / 6.2 x 7.6 x 4.5″',\n",
       " '100% cotton backpack. Faux shearling effect with decorative ears. Main compartment and additional front pocket with zip closure. Handle and adjustable padded shoulder straps.<br/><br/>Height x Length x Width 40 x 34 x 10 cm. / 15.7 x 13.3 x 3.9″',\n",
       " 'Faux fur crossbody bag in the shape of a dog. Compartment with zip closure. Shoulder strap.<br/><br/>Height x Length x Width 8 x 25 x 8 cm. / 3.1 x 9.8 x 3.1″<br/><br/><br/>',\n",
       " 'Multi-way crossbody bag that can be worn as a belt bag available in black and ecru. Hardware detail on the foldover flap. Two straps: one chain strap and one shoulder strap, both adjustable and removable. Gold metal hardware. Interior lining. Magnetic clasp closure.<br/><br/>Height x Length x Width: 22 x 15 x 10 cm. / 8.6 x 5.9 x 3.9″',\n",
       " 'Mini crossbody bag available in several colours: white and in pale pink. Beaded exterior and tortoiseshell kiss-lock frame. Gold chain shoulder strap. Lined interior. Magnetic clasp closure.<br/> <br/>Height x Length x Width: 19 x 17 x 4 cm. / 7.4 x 6.6 x 1.5″',\n",
       " 'Backpack with an embossed grainy texture on the exterior. Three zip pockets. The inside of the main compartment has a pocket for electronic devices and laptops of up to 13 inches. Medium-sized pocket on the back. Two adjustable shoulder straps and one top carry handle. Padded back for greater comfort during use. Smart-urban look.<br/><br/>Height x Length x Width 45 x 32 x 19 cm.<br/><br/>Available in different colours.',\n",
       " 'Monochrome briefcase-style bag. Three zip pockets. The main compartment has an inside pocket for electronic devices and laptops of up to 13 inches (13&quot;). It also has several inside pockets of different sizes. Two handles and an adjustable and detachable shoulder strap. It can also be attached to the handle of suitcase using the back strap. Smart look.<br/><br/>Height x Length x Width: 30 x 39.5 x 11 cm.',\n",
       " 'Mini city bag available in lime and coral. Animal print exterior. Metal clasp on the flap. Top carry handle. Chain shoulder strap. Lined interior with two compartments. Magnetic clasp closure.<br/> <br/>Height x Length x Width: 12 x 19 x 9 cm. / 4.7 x 7.4 x 3.5″',\n",
       " 'Black crossbody bag. Tubular. Double zip closure with separate compartments. Adjustable and detachable strap.<br><br>Height x Length x Width: 15 x 24 x 12.5 cm. / 5.9 x 9.4 x 4.9″',\n",
       " 'Monochrome mini crossbody bag. Three zip pockets. Square-cut shape. Adjustable strap.<br/><br/> Height x Length x Width 20 x 17 x 9.5 cm. / 7.8 x 6.6 x 3.7″',\n",
       " 'Beige tote bag. Made of natural materials. Canvas exterior. Contrast-coloured trims. Handles with slogan zip pulls. Lined interior with zip pocket.<br/> <br/>Height x Length x Width: 32.5 x 28 x 13 cm. / 12.7 x 11.0 x 5.1″',\n",
       " 'Smartphone protective case. Rubberised edging that helps protect your mobile device. Compatible with iPhone 11® (6.1”).<br><br>Height x Length x Width 15.5 x 8 x 1.1 cm.<br><br>*Not compatible with wireless charging.',\n",
       " 'Transparent vinyl mini crossbody bag with white trims. Featuring a zip pocket and a flap pocket with snap-button fastening, an adjustable and detachable shoulder strap and a detachable handle. Urban design.<br><br> Height x Length x Width 20 x 15.5 x 4 cm. / 7.8 x 6.1 x 1.5″',\n",
       " 'Transparent green vinyl mini crossbody bag with black trims. Featuring a zip pocket and a flap pocket with snap-button fastening, an adjustable and detachable shoulder strap and a detachable handle. Urban design.<br><br> Height x Length x Width 20 x 15.5 x 4 cm. / 7.8 x 6.1 x 1.5″',\n",
       " 'Basic card holder with six card slots. Also features a central compartment for storing notes and/or ID. <br/><br/> Height x Length x Width: 7 x 11 x 1 cm. / 2.7 x 4.3 x 0.3″',\n",
       " 'Basic card holder with six card slots. Also features a central compartment for storing notes and/or ID. <br/><br/> Height x Length x Width 7 x 11 x 1 cm. / 2.7 x 4.3 x 0.3″',\n",
       " 'Card holder with an embossed finish. Six card slots. Features a compartment in the centre. <br/><br/> Height x Length x Width: 8 x 10 x 1 cm. / 3.1 x 3.9 x 0.3″',\n",
       " 'Card holder with an embossed finish. Six card slots. Features a compartment in the centre. <br/><br/> Height x Length x Width 8 x 10 x 1 cm. / 3.1 x 3.9 x 0.3″',\n",
       " 'Green mini crossbody bag. Animal print texture on the body and flap. Metal gold-coloured clip on the bottom. Gold-coloured chain shoulder strap. Magnetic closure.<br/><br/>Height x Length x Width 7.3 x 10 x 3 cm. / 2.8 x 3.9 x 1.1″',\n",
       " 'Leather tote bag available in caramel and black. Tumbled leather body with pleats. Tubular shoulder straps with knots. Lined interior with a zip pocket. Magnetic clasp closure.<br/> <br/>Height x Length x Width: 31.5 x 28.5 x 14.5 cm. / 12.4 x 11.2 x 5.7″',\n",
       " 'Black leather bucket bag. Gold metal hardware. Removable shoulder strap. Lined interior with pocket. Metal clasp on the foldover flap.<br/> <br/>Height x Length x Width: 31.5 x 33 x 11 cm. / 12.4 x 12.9 x 4.3″',\n",
       " 'Leather tote bag available in different colours: burgundy and white. Tumbled leather finish. shoulder strap with maxi metal buckle. Lined interior.<br/> <br/>Height x Length x Width 38 x 38 x 1 cm. / 14.9 x 14.9 x 0.3″',\n",
       " 'Black bucket bag. Crochet shoulder strap and body with gold studs.<br/> <br/>Height x Length x Width: 31 x 25.5 x 2.5 cm. / 12.2 x 10.0 x 0.9″',\n",
       " 'Tote bag available in dark blue, black and beige. Antique-finish exterior. Top handles. Adjustable and detachable shoulder strap. Lined interior. Magnetic clasp closure.<br/> <br/>Height x Length x Width: 38 x 36 x 0.5 cm. / 14.9 x 14.1 x 0.1″',\n",
       " 'Beige tote bag with a front pockets, shoulder straps and magnetic clasp.<br/> <br/>Height x Length x Width: 37.5 x 39.5 x 0.5 cm. / 14.7 x 15.5 x 0.1″',\n",
       " 'Ecru canvas tote bag. Strap detail on the exterior and contrast-coloured shoulder straps. Double shoulder strap. Two at the top and another detachable strap for folding over. Zip closure.<br/> <br/>Height x Length x Width: 41.5 x 45 x 14 cm. / 16.3 x 17.7 x 5.5″',\n",
       " 'Ecru tote bag. Fabric bag with striped and floral embroidery. Contrast piping. Handles in combined materials. Lined interior with pocket. Zip closure.<br/> <br/>Height x Length x Width: 27 x 33.5 x 15 cm. / 10.6 x 13.1 x 5.9″',\n",
       " 'Black tote bag. Soft body with a tumbled-effect finish and studs. Shoulder straps. Handbag pouch bag with zip closure. Magnetic clasp closure.<br/><br/>Height x Length x Width: 29.5 x 41 x 14 cm. / 11.6 x 16.1 x 5.5″',\n",
       " 'Maxi tote bag in combined colours. Tartan check design. Trimmed seams in contrast colour. Front pockets with magnetic clasps. Handles. Lined interior with pocket. Zip closure.<br/><br/>Height x Length x Width 29.5 x 35 x 19.5 cm. / 11.6 x 13.7 x 7.6″',\n",
       " 'Black backpack. Zip pocket on the foldover flap. Front pocket with zip closure. Handle. Adjustable shoulder straps. Lined interior with two pockets. Fastening with lobster clasp, flap and magnetic clasp.<br/><br/>Height x Length x Width 29 x 24 x 12 cm. / 11.4 x 9.4 x 4.7″',\n",
       " 'Grey backpack. Exterior with saffiano finish. Front pocket with double pull tab. Handle. Adjustable shoulder straps. Lined interior. Zip closure.<br/> <br/>Height x Length x Width: 27 x 23.5 x 12 cm. / 10.6 x 9.2 x 4.7″',\n",
       " 'Dark blue backpack. Towelling-effect body in contrast materials. Chain detail on the flap. Adjustable shoulder straps with chain detail. Lined interior. Gathered drawstring closure.<br/> <br/>Height x Length x Width: 23.5 x 23.5 x 14 cm. / 9.2 x 9.2 x 5.5″',\n",
       " 'Black city bag. Soft body with a tumbled-effect finish. Folded sides with snap buttons. Handles. Adjustable and detachable shoulder strap. Lined interior with three compartments, one of which fastens with a zip and two with magnetic clasp closure.<br/><br/>Height x Length x Width 25 x 37 x 15 cm. / 9.8 x 14.5 x 5.9″',\n",
       " 'Black bowling- style bag. Animal embossed exterior. Two front pockets and two back pockets. Silver metal hardware. Handles and shoulder strap. Lined interior. Zip closure.<br/> <br/>Height x Length x Width 24 x 28.5 x 11.7 cm. / 9.4 x 11.2 x 4.6″',\n",
       " 'Black city bag. Soft exterior with a tumbled finish. Top handles. Adjustable and detachable shoulder strap. Pouch bag with a soft exterior and a tumbled finish, a lined interior and zip closure.<br/><br/>Height x Length x Width: 29.5 x 24 x 15 cm. / 11.6 x 9.4 x 5.9″',\n",
       " 'Yellow medium oval-shaped crossbody bag. Contrast-coloured trims on the body. Flap with a knot and trim detail. Adjustable and detachable shoulder strap. Lined interior with two compartments. Magnetic clasp closure.<br/><br/>Height x Length x Width 17.5 x 22.2 x 8 cm. / 6.8 x 8.7 x 3.1″',\n",
       " 'Black leather clutch-style crossbody bag. Leather exterior. Different-sized studs on the flap and decorative topstitching. Detachable chain shoulder strap. Lined interior with a zip pocket and six card slots. Snap-button closure.<br/> <br/>Height x Length x Width: 11.3 x 20.4 x 1.7 cm. / 4.4 x 8.0 x 0.6″',\n",
       " 'Black leather crossbody bag. Leather exterior. Different-sized studs on the flap and decorative topstitching. Multi-way chain shoulder strap in contrast materials. Lined interior with two compartments. Magnetic clasp closure.<br/> <br/>Height x Length x Width: 19.5 x 26 x 5 cm. / 7.6 x 10.2 x 1.9″',\n",
       " 'Black crossbody bag. Braided exterior featuring decorative seashells, a chain trim and fringing around the front flap. Chain shoulder strap. Lined interior with pocket. Magnetic clasp closure.<br/> <br/>Height x Length x Width: 15.5 x 23 x 7 cm. / 6.1 x 9.0 x 2.7″',\n",
       " 'Clutch-style crossbody bag available in blue and multicoloured designs. Featuring a chain detail on the front, shiny tweed exterior, silver metal hardware, lined interior with two compartments, one of which features 4 card slots. Includes a detachable shoulder strap, zip fastening and a strap with a metal clasp.<br/><br/>Height x Length x Width: 20.5 x 11.5 x 5 cm. / 8.0 x 4.5 x 1.9″',\n",
       " 'Crossbody bag in a combination of colours. Made of natural materials. Jute exterior in contrast materials with a polka dot print. Wooden kiss-lock frame. Adjustable and detachable shoulder strap. Lined interior. Magnetic clasp closure.<br/> <br/>Height x Length x Width: 19 x 22 x 11 cm. / 7.4 x 8.6 x 4.3″',\n",
       " 'Black crossbody bag. Quilted front with pocket and gold metal piece. Gold chain shoulder strap in combined materials. Lined interior. Zip closure.<br/> <br/>Height x Length x Width: 13.5 x 19 x 6 cm. / 5.3 x 7.4 x 2.3″',\n",
       " 'Black crossbody bag. Oval shape. Flap with metal ring detail. Aged gold studs on the flap and handle. Adjustable and detachable shoulder strap. Lined interior. Magnetic clasp closure.<br/> <br/>Height x Length x Width: 23 x 24 x 6 cm. / 9.0 x 9.4 x 2.3″',\n",
       " 'Tan leather crossbody bag. Oval shape. Foldover flap with strap and pendant. Back pocket with magnetic clasp. Handle. Adjustable and removable shoulder strap. Lined interior with pocket. Magnetic clasp closure.<br/><br/>Height x Length x Width: 22 x 21.5 x 7 cm. / 8.6 x 8.4 x 2.7″',\n",
       " 'Black mini baguette shoulder bag. Quilted exterior with pearl beads on the front flap and a short shoulder strap. Long adjustable shoulder strap in combined materials with chain. Lined interior. Magnetic clasp fastening.<br/><br/>Height x Length x Width: 14.5 x 22 x 5 cm. / 5.7 x 8.6 x 1.9″',\n",
       " 'Maxi crossbody bag available in different colours: beige, yellow, dark blue and black. Featuring a quilted exterior and handle, chain shoulder strap, lined interior and magnetic clasp closure.<br/> <br/>Height x Length x Width: 18.5 x 35.5 x 8.5 cm. / 7.2 x 13.9 x 3.3″',\n",
       " 'Red crossbody bag made of natural materials. Braided body with a glossy finish. Gold metal detail on the front. Shoulder strap. Lined interior. Magnetic clasp with strap closure.<br/> <br/>Height x Length x Width: 18 x 19 x 10.5 cm. / 7.0 x 7.4 x 4.1″',\n",
       " 'Black crossbody bag. Quilted exterior with studs. Adjustable shoulder strap. Lined interior. Zip closure. <br/><br/>Height x Length x Width: 11.5 x 20 x 4.5 cm. / 4.5 x 7.8 x 1.7″',\n",
       " 'Crossbody bag available in different colours: ecru and black. Soft finish with topstitching in geometric shapes and studs. Shoulder strap in combined materials with chain. Lined interior. Front flap featuring a magnetic clasp with an aged silver metal piece.<br/><br/>Height x Length x Width 13 x 21.5 x 3 cm. / 5.1 x 8.4 x 1.1″',\n",
       " 'Maxi crossbody bag available in a variety of colours: black, silver, blue and denim. Quilted exterior and front flap. Chain shoulder strap in a combination of materials. Lined interior with pocket. Metal clasp fastening.<br/><br/>Height x Length x Width: 25 x 34.5 x 8.5 cm. / 9.8 x 13.5 x 3.3″',\n",
       " 'Black crossbody bag. Quilted exterior and front flap with stud details. Top handle. Chain shoulder strap in combined materials. Lined interior with pocket. Magnetic clasp closure.<br/><br/>Height x Length x Width 18 x 27 x 6.5 cm. / 7.0 x 10.6 x 2.5″',\n",
       " 'Bucket bag available in black, red and ecru. Tumbled finish on the exterior. Gold metalwork. Detachable handle with decorative studs. Adjustable and detachable shoulder strap. Gathered drawstring closure.<br/> <br/>Height x Length x Width 27.5 x 21.7 x 15 cm. / 10.8 x 8.5 x 5.9″',\n",
       " 'Black city bag. Rigid design with animal print. Silver metal hardware. Wavy handles. Shoulder straps. Interior pocket. Zip closure.<br/> <br/>Height x Length x Width: 21 x 17.5 x 9 cm. / 8.2 x 6.8 x 3.5″',\n",
       " 'Black crossbody bag. Cylindrical design and beaded fringing. Beaded top handle. Shoulder strap with gold chain. Fabric bag organiser. Gathered drawstring closure.<br/><br/>Height x Length x Width 16.3 x 13.5 x 13.5 cm. / 6.4 x 5.3 x 5.3″',\n",
       " 'Silver crossbody bag. Metal mesh exterior. Extendible chain shoulder strap. Lined interior. Metal zip closure.<br/> <br/>Height x Length x Width: 28.5 x 28 x 1 cm. / 11.2 x 11.0 x 0.3″',\n",
       " 'Black mesh crossbody bag with diamanté detailing. Metal clasp. Lined interior. Chain shoulder strap. Methacrylate vintage bead kiss lock closure.<br/><br/>Height x Length x Width 13.5 x 23 x 7.5 cm. / 5.3 x 9.0 x 2.9″',\n",
       " 'Mini crossbody bag available in black and silver. Chain detail on the flap. Chain shoulder strap in contrast materials. Lined interior. Magnetic clasp closure.<br/><br/>Height x Length x Width: 12 x 16 x 4 cm. / 4.7 x 6.2 x 1.5″',\n",
       " 'Leather mini city bag available in several colours: red, orange and fuchsia. Flap with gold metal triangular piece. Handles. Gold chain shoulder strap. Lining. Metal clasp closure.<br/> <br/>Height x Length x Width: 12 x 19.2 x 7 cm. / 4.7 x 7.5 x 2.7″',\n",
       " 'Crossbody minaudière available in black or leopard colours. Oval shape. Methacrylate body. Cord shoulder strap with knotted detail. Fastening with a metal clasp on the top.<br/><br/>Height x Length x Width: 12.5 x 20 x 7.7 cm. / 4.9 x 7.8 x 3.0″',\n",
       " 'Mobile phone carrying case/wallet available in black and silver. Quilted exterior with metal piece detail. Back pocket. Shoulder strap. Lined interior with four card slots and compartments for storing cash and coins. Magnetic clasp closure.<br/> <br/>Height x Length x Width: 15.5 x 10.8 x 3 cm. / 6.1 x 4.2 x 1.1″',\n",
       " 'Mini crossbody bag available in red, black, yellow, green and white. Quilted exterior and flap. Chain shoulder strap in contrast materials. Lined interior. Metal clasp fastening.<br/><br/>Height x Length x Width 13.5 x 18 x 4.5 cm. / 5.3 x 7.0 x 1.7″',\n",
       " 'Black crossbody bag. Velvet exterior with faux pearls on the front flap. Chain shoulder strap. Lined interior. Metal clasp closure.<br/><br/>Height x Length x Width 13.5 x 24.3 x 8.3 cm. / 5.3 x 9.5 x 3.2″',\n",
       " 'Clutch available in different colours: green and orange. Gathered design with a metallic finish. Detachable shoulder strap. Lined interior with pocket. Magnetic frame fastening.<br/><br/>Height x Length x Width 23.5 x 36 x 4 cm. / 9.2 x 14.1 x 1.5″',\n",
       " 'Black clutch bag. Embossed animal print on the body and strap. Wrist strap. Detachable and adjustable shoulder strap. Lined interior. Zip closure.<br/><br/>Height x Length x Width 24.5 x 35 x 0.5 cm. / 9.6 x 13.7 x 0.1″',\n",
       " 'Dark blue document-holder-style clutch. Embossed grainy finish. It has a main zip compartment. Two inside pockets, one of which closes with a zip and, also, a key ring with a lobster clasp for attaching your keys. Detachable wrist strap. Smart look.<br/><br/>Height x Length x Width 23 x 30 x 2 cm. / 9.0 x 11.8 x 0.7″',\n",
       " 'Black backpack with an animal print. Front pocket featuring magnetic clasp closure and a strap with eyelets and gold metal piece. Handle. Adjustable shoulder straps. Lined interior. Zip closure.<br/><br/>Height x Length x Width 28.5 x 24 x 13 cm. / 11.2 x 9.4 x 5.1″',\n",
       " 'Black wallet with an embossed finish. The inside has a compartment for notes, two card slots and two pockets for storing documents. Contrasting red detail. Height x Length x Width: 9 x 12 x 2 cm. / 3.5 x 4.7 x 0.7″',\n",
       " 'Black card holder with six slots for cards and a compartment for notes and/or documents. Minimalist design.<br><br>Height x Length x Width 8 x 11 x 1 cm. / 3.1 x 4.3 x 0.3″',\n",
       " 'Black wallet. The inside has a compartment for notes, six card slots and two compartments for storing documents. Minimalist design.<br><br>Height x Length x Width 11 x 9 x 2 cm. / 4.3 x 3.5 x 0.7″',\n",
       " 'Black coin purse with zip closure. Six card slots and a compartment for notes. It has a coin compartment that also has a pocket for documents. The neck strap is fastened with a lobster clasp and can be adjusted.<br><br>Length of cord: 53 cm. / 20.8″<br><br>Height x Length x Width 11 x 9 x 4 cm. / 4.3 x 3.5 x 1.5″',\n",
       " 'Crossbody bag with lined interior available in different colours: ecru, burgundy and black. Soft finish with topstitching in geometric shapes. Comes with handle, chain shoulder strap in a combination of materials. Front flap featuring a magnetic clasp with an aged silver metal detail.<br/><br/>Height x Length x Width 13 x 21.5 x 3 cm. / 5.1 x 8.4 x 1.1″',\n",
       " 'Black bucket bag with an animal print. Shoulder strap with knot and bow. Lined fluorescent interior. Magnetic clasp closure.<br/><br/>Height x Length x Width: 35.5 x 48 x 15.5 cm. / 13.9 x 18.8 x 6.1″',\n",
       " 'Black tote bag. All-over metal eyelets. Shoulder straps. Nylon bag organiser with zip closure. Magnetic clasp closure.<br/><br/>Height x Length x Width 31.5 x 39 x 12.5 cm. / 12.4 x 15.3 x 4.9″',\n",
       " 'Silver mini tote bag. Metallic exterior. Front pocket with snap-button fastening. Handles with contrast piping. Removable shoulder strap with contrast slogan. Lined interior with pocket. Zip closure.<br/> <br/>Height x Length x Width: 16.5 x 21 x 9 cm. / 6.4 x 8.2 x 3.5″',\n",
       " 'Foldable tote bag in contrast colours. Check print with image on the side. Contrast-coloured shoulder straps.<br/> <br/>Height x Length x Width: 40 x 34.5 x 13.5 cm. / 15.7 x 13.5 x 5.3″',\n",
       " 'Leather mini tote bag in combined colours. Leather animal print body. Adjustable handles with metallic buckle detail. Adjustable shoulder strap. Magnet fastening.<br/> <br/>Height x Length x Width: 14.2 x 13.5 x 6.5 cm. / 5.5 x 5.3 x 2.5″',\n",
       " 'Fuchsia mini tote bag. Tumbled finish on the exterior. Contrast-coloured piping. Decorative metal pieces on the top handles. Chain shoulder strap in contrast materials. Lined interior with pocket. Magnetic clasp closure.<br/> <br/>Height x Length x Width: 12.5 x 16.8 x 5.8 cm. / 4.9 x 6.6 x 2.2″',\n",
       " 'Black nylon quilted tote bag. Strap in contrast materials at the top with gold-toned studs. Short shoulder straps. Adjustable and removable long shoulder strap. Lined interior. Gathered drawstring closure and zip.<br/> <br/>Height x Length x Width: 25 x 36 x 13 cm. / 9.8 x 14.1 x 5.1″',\n",
       " 'Tote bag in contrast colours. Canvas body with slogan on the front. Studs on both sides of the upper part. Contrast colour on the edge and shoulder straps. Inside pocket with zip fastening. Magnetic clasp closure.<br/> <br/>Height x Length x Width: 28.5 x 31 x 13.5 cm. / 11.2 x 12.2 x 5.3″',\n",
       " 'Black maxi tote bag with a quilted nylon body. Front flap pocket with snap-button fastening. Quilted handles. Adjustable shoulder strap. Coloured rope detail on the side. Lined interior with pocket. Zip fastening.<br/> <br/>Height x Length x Width: 37 x 50 x 17.5 cm. / 14.5 x 19.6 x 6.8″',\n",
       " 'Mini bucket bag available in blue and pink. Contrast-coloured trims on the body. Studded detailing on the handle. Detachable shoulder strap. Lined interior. Gathered drawstring closure with metallic trim.<br/> <br/>Height x Length x Width: 18 x 17.9 x 10 cm. / 7.0 x 7.0 x 3.9″',\n",
       " 'Bucket bag in contrast colours. Animal print on the body and handle. Fluorescent coloured trims on the strap and handle. Adjustable and detachable shoulder strap in technical fabric. Magnetic clasp closure.<br/><br/>Height x Length x Width: 20.5 x 24 x 7 cm. / 8.0 x 9.4 x 2.7″',\n",
       " 'Transparent mini bucket bag. Transparent vinyl body with micro-stud details on the inside. Iridescent chain shoulder strap combined with transparent vinyl strip and studs. Gathered drawstring detail.<br/> <br/>Height x Length x Width: 11.5 x 7.5 x 7.5 cm. / 4.5 x 2.9 x 2.9″',\n",
       " 'Black bucket bag. Featuring mesh and rhinestone details on the body, combined chain handles, chain shoulder strap, lining and gathered drawstring fastening.<br/> <br/>Height x Length x Width: 27.5 x 20 x 1.5 cm. / 10.8 x 7.8 x 0.5″',\n",
       " 'Nylon khaki backpack-style tote bag. Chain detail and two pockets with zip closure on the front. Handles. Adjustable shoulder straps. Lined interior with pocket. Zip closure.<br/> <br/>Height x Length x Width: 39.5 x 28.5 x 10 cm. / 15.5 x 11.2 x 3.9″',\n",
       " 'Bucket bag in a combination of colours. Featuring a beaded body, velvet detail at the top, chain shoulder strap, lining and gathered drawstring closure with tassel detail.<br/> <br/>Height x Length x Width: 21 x 15 x 15 cm. / 8.2 x 5.9 x 5.9″',\n",
       " 'Multicoloured bucket bag. Exterior with mesh and rhinestone details. Chain handles with combined materials. Chain shoulder strap. Lined interior. Gathered drawstring fastening.<br/> <br/>Height x Length x Width 28 x 20 x 2 cm. / 11.0 x 7.8 x 0.7″',\n",
       " 'Mustard yellow backpack. Front flap with metal ring detail. Contrast-coloured piping. Front zip pocket. Handle with ring detail. Adjustable shoulder straps. Gathered drawstring and magnetic clasp closure.<br/> <br/>Height x Length x Width: 29 x 24.5 x 14 cm. / 11.4 x 9.6 x 5.5″',\n",
       " 'Black backpack. Front flap. Front pocket with drawstring closure. Handle in a combination of materials. Adjustable shoulder straps. Inside pocket. Gathered drawstring and magnetic clasp closure.<br/> <br/>Height x Length x Width: 29.5 x 24.5 x 13.5 cm. / 11.6 x 9.6 x 5.3″',\n",
       " 'Black backpack. Front pocket and outer pocket with studs and zip closure. Handle. Adjustable shoulder straps. Two lined compartments, one with an inside pocket. Zip closure.<br/> <br/>Height x Length x Width 32 x 24 x 11 cm. / 12.5 x 9.4 x 4.3″',\n",
       " 'City bag available in different colours: ice and yellow. Contrast piping on the exterior. Braided handles. Adjustable, removable shoulder strap. Lined interior with pocket. Zip closure.</br></br> Height x Length x Width: 21.5 x 30 x 8.5 cm. / 8.4 x 11.8 x 3.3″',\n",
       " 'City bag available in different colours: black and burgundy. Patent finish. Stud details on the top. Handles. Adjustable shoulder strap. Lined interior. Fastening with inner flap and magnetic clasp.<br/><br/>Height x Length x Width 18 x 25 x 10 cm. / 7.0 x 9.8 x 3.9″',\n",
       " 'Grey city bag. Three front pockets, two with magnet closure and one with zip closure. Contrast piping. Straps with metal ring details. Handles in combined colours and materials. Adjustable shoulder strap. Lined.<br/> <br/>Height x Length x Width: 21.5 x 28 x 9.5 cm. / 8.4 x 11.0 x 3.7″',\n",
       " 'Iridescent and transparent vinyl mini city bag. Handle. Removable chain shoulder strap. Interior with two compartments. Magnetic clasp closure.<br/> <br/>Height x Length x Width: 9.5 x 17.7 x 6.5 cm. / 3.7 x 6.9 x 2.5″',\n",
       " 'Black mini city bag. Featuring a technical fabric body, handles with iridescent tab and snap button fastening, straps in a combination of materials, adjustable and detachable shoulder strap, and contrast colour zip fastening.<br/> <br/>Height x Length x Width: 12 x 17.7 x 8.5 cm. / 4.7 x 6.9 x 3.3″',\n",
       " 'Mini city bag available in different colours: black and ochre. Nylon exterior. Handles. Chain shoulder strap with combined materials. Lined interior with zip pocket. Gathered drawstring closure.<br/><br/>Height x Length x Width 14.5 x 20.5 x 10 cm. / 5.7 x 8.0 x 3.9″',\n",
       " 'Bowling bag in contrast colours. Animal print body. Metal chain handle. Adjustable and detachable shoulder strap. Interior with zip pocket. Zip closure.<br/><br/>Height x Length x Width: 14.5 x 22.5 x 9.4 cm. / 5.7 x 8.8 x 3.7″',\n",
       " 'Crossbody bag available in different colours: beige and black. Silver metal hardware. Woven chain detail on the contour. Chain shoulder strap. Lined interior with two compartments, one with zip closure and the other with six card slots. Metal clasp closure.<br/> <br/>Height x Length x Width 13.5 x 21 x 4.5 cm. / 5.3 x 8.2 x 1.7″',\n",
       " 'Gold crossbody purse. Metallic exterior. Silver metal piece on the flap. Removable chain shoulder strap. Featuring six compartments and four card slots on the inside. Metal clasp closure.<br/> <br/>Height x Length x Width: 10.7 x 21 x 2 cm. / 4.2 x 8.2 x 0.7″',\n",
       " 'Black crossbody bag. Animal print design on the exterior. Different-sized and shaped studs on the flap with moon-shaped metallic piece detail. Chain shoulder strap, lined interior and magnetic clasp closure.<br/><br/>Height x Length x Width 13 x 18 x 7 cm. / 5.1 x 7.0 x 2.7″',\n",
       " 'Black crossbody bag. Foldover flap with silver metal piece. Quilted detail on the front. Adjustable shoulder strap with chain and charms. Lined interior. Magnetic clasp closure.<br/> <br/>Height x Length x Width: 16.5 x 26.5 x 7 cm. / 6.4 x 10.4 x 2.7″',\n",
       " 'Maxi clutch available in different colours: silver and gold. Cracked-effect detail. Front loop for holding. Lined interior. Zip closure.<br/> <br/>Height x Length x Width: 23 x 34 x 12 cm. / 9.0 x 13.3 x 4.7″',\n",
       " 'Beige minaudière. Circular with a patent finish in a combination of colours. Metallic detail around the edge. Handle. Chain shoulder strap. Lined. Metal clasp closure.<br/> <br/>Height x Length x Width: 16 x 17.4 x 7 cm. / 6.2 x 6.8 x 2.7″',\n",
       " 'Ecru maxi clutch with a quilted nylon body. Front flap pocket with snap-button fastening. Wrist strap. Lined interior with pocket. Zip fastening.<br/> <br/>Height x Length x Width: 27 x 34.5 x 7.5 cm. / 10.6 x 13.5 x 2.9″',\n",
       " 'Black crossbody belt bag. Back pocket. Chain link belt in combined materials. Lined interior. Metal zip fastening.<br/> <br/>Height x Length x Width: 12.5 x 18.5 x 5.5 cm. / 4.9 x 7.2 x 2.1″',\n",
       " 'Black crossbody belt bag. Satin exterior. Two front pockets and one zip pocket on the top. Silver metal hardware. Belt with chain detail and buckle closure. Lined interior with zip pocket.<br/> <br/>Height x Length x Width: 13 x 32.5 x 6 cm. / 5.1 x 12.7 x 2.3″',\n",
       " 'Multicoloured crossbody bag. Tinsel detail. Gold-toned metal detail on the clasp. Gold-toned chain shoulder strap. Lined interior. Metal clasp closure with logo detail.<br/><br/>Height x Length x Width: 10.5 x 16 x 6.5 cm. / 4.1 x 6.2 x 2.5″',\n",
       " 'White crossbody belt bag made of natural materials. Featuring an organic cotton body, two front zip pockets, adjustable belt, lining and zip fastening.<br/> <br/>Height x Length x Width: 17 x 36 x 10 cm. / 6.6 x 14.1 x 3.9″',\n",
       " 'Tan tote bag. Exterior with image of MICKEY MOUSE ©DISNEY on both sides. Shoulder straps.<br/> <br/>Height x Length x Width: 35.5 x 26 x 10 cm. / 13.9 x 10.2 x 3.9″',\n",
       " 'Black mini tote bag. Exterior with image of MICKEY MOUSE ©DISNEY on both sides. Handles.<br/> <br/>Height x Length x Width: 20.5 x 16 x 5 cm. / 8.0 x 6.2 x 1.9″',\n",
       " 'Multicoloured backpack with a reflective exterior. Two front pockets with a lined interior and zip closure, one of which has a rubberised piece detail with a logo. Mesh pockets on the sides. Decorative technical straps with a rubberised piece detail and logo on the sides. Side zip allowing access to the main compartment. Mesh detail on the back. Handle. Adjustable shoulder straps. Lined interior with two pockets, one of which is mesh. Zip closure.<br/><br/>Height x Length x Width 29 x 22 x 14.5 cm. / 11.4 x 8.6 x 5.7″',\n",
       " 'Black crossbody bag that converts into a purse. Several interior compartments. Detachable chain link shoulder strap. Silver metal hardware. Zip closure. <br/> <br/>Height x Length x Width: 14 x 23 x 3 cm. / 5.5 x 9.0 x 1.1″',\n",
       " 'Crossbody bag that converts into a wallet. Featuring several interior compartments, detachable chain link shoulder strap, silver metal hardware and zip fastening. <br/> <br/>Height x Length x Width: 14 x 23 x 3 cm. / 5.5 x 9.0 x 1.1″',\n",
       " 'Black nylon suitcase. Two front pockets with zip closure. Top handle. Exterior handle. Removable identifying tag. Four multi-direction wheels. Lined interior with zip pocket. Zip closure. <br/><br/>Height x Length x Width: 48.5 x 34 x 19 cm. / 19.0 x 13.3 x 7.4″',\n",
       " 'Coloured bag. Body in geometric print. Front pocket with strap detail and magnet clasp closure. Top carry handle and extendible handle. Golden metallic detailing. Four multi-direction wheels. Lined interior with pocket with hook-and-loop strap fastening. Zip closure.<br/> <br/>Height x Length x Width: 39 x 39 x 20 cm. / 15.3 x 15.3 x 7.8″',\n",
       " 'Tan leather tote bag. Body and shoulder straps in cracked leather. Golden metallic studs on upper part. Lined interior with two pockets, one with zip closure. Zip closure with maxi zip pull.<br/> <br/>Height x Length x Width: 35 x 40 x 17.5 cm. / 13.7 x 15.7 x 6.8″',\n",
       " 'Black nylon travel bag. Foldable design. Front pocket and side pockets. Handles in contrast materials. Top handles. Adjustable and detachable shoulder strap. Lined interior with two pockets, one of which fastens with a zip. Zip closure.<br/><br/>Height x Length x Width: 42.5 x 43.5 x 15.5 cm. / 16.7 x 17.1 x 6.1″',\n",
       " 'Leather tote bag available in ecru and black. Oval body in soft leather, shoulder strap, lining and zip closure.<br/> <br/>Height x Length x Width: 25 x 48.5 x 9 cm. / 9.8 x 19.0 x 3.5″',\n",
       " 'Black tote bag. Embossed animal print on the body and gussets on the sides in contrasting materials. Gold metal hardware. Adjustable handles with straps. Adjustable and detachable shoulder strap. Interior has three compartments, one of which fastens with a zip. Fastens with a magnetic tab.<br/><br/>Height x Length x Width 25 x 24 x 13 cm. / 9.8 x 9.4 x 5.1″',\n",
       " 'Black city bag with combined materials on the body. Featuring inside pocket and back pocket with magnet clasp closure, gold metal hardware, handles, adjustable and detachable shoulder strap and interior lining with two compartments with zip fastening and another with two inside pockets, one with zip fastening.<br/><br/>Height x Length x Width 22 x 29 x 11.5 cm. / 8.6 x 11.4 x 4.5″',\n",
       " 'Black crossbody bag. Leather animal print foldover flap with gold metal horseshoe. Adjustable and removable shoulder strap. Lined interior with pocket. Magnetic clasp fastening.<br/> <br/>Height x Length x Width: 16.5 x 25 x 5.5 cm. / 6.4 x 9.8 x 2.1″',\n",
       " 'Leather crossbody belt bag available in different colours: ecru and black. Soft leather body with flap. Back pocket with magnetic clasp closure. Leather strap with knots and aged gold metal rings and loop for fastening. Lined interior with two pockets, one with magnetic clasp closure. Zip closure.<br/> <br/>Height x Length x Width: 17 x 30.5 x 4.5 cm. / 6.6 x 12.0 x 1.7″',\n",
       " 'Crossbody bag in combined colours. Foldover flap with metal detail and knot. Two front pockets and one back pocket with an animal print. Adjustable shoulder strap. Lined interior with two pockets, one with snap-button closure. Magnetic clasp closure.<br/> <br/>Height x Length x Width: 18 x 27.5 x 6.5 cm. / 7.0 x 10.8 x 2.5″',\n",
       " 'Black crossbody bag. Body with double flap with stud detail and metal piece in gold on the front. Wrist strap. Adjustable and removable shoulder strap. Lined interior with three compartments, one with a zip closure another with a pocket.<br/> <br/>Height x Length x Width: 18.5 x 21.5 x 7.5 cm. / 7.2 x 8.4 x 2.9″',\n",
       " 'Black baguette bag. Strap with metal buckle on the flap. Short shoulder strap. Long shoulder strap that is adjustable and detachable. Lined interior with pocket. Magnetic clasp closure.<br/> <br/>Height x Length x Width: 15 x 30 x 5 cm. / 5.9 x 11.8 x 1.9″',\n",
       " 'Silver wallet-style crossbody bag. Metallic finish. Studs along the edge. Chain shoulder strap. Lined interior with three compartments, one of which fastens with a zip. Zip closure.<br/> <br/>Height x Length x Width: 14 x 23 x 3 cm. / 5.5 x 9.0 x 1.1″',\n",
       " 'Bucket bag in combined colours. Scarf with a chain print. Handles with knots. Lined interior.<br/><br/>*The items shown are sold separately.<br/><br/>Height x Length x Width 25 x 30 x 12 cm. / 9.8 x 11.8 x 4.7″',\n",
       " 'Minaudière in a combination of colours. Marble-effect exterior with circular patterns. Metal detail on the contour. Chain shoulder strap. Lined interior. Metal clasp closure.<br/> <br/>Height x Length x Width: 16 x 16.5 x 4 cm. / 6.2 x 6.4 x 1.5″',\n",
       " 'Mini bag available in blue and pink. Animal print on the body. Double compartment. Handles. Detachable chain shoulder strap. Lined interior. Magnetic clasp closure.<br/> <br/>Height x Length x Width: 13 x 18 x 7.5 cm. / 5.1 x 7.0 x 2.9″',\n",
       " 'Leather crossbody bag available in different colours: pale pink, taupe, black and red. Ruched tumbled leather exterior. Adjustable shoulder strap. Lined interior with pocket. Metal zip closure.<br/> <br/>Height x Length x Width: 16.5 x 25.5 x 7.5 cm. / 6.4 x 10.0 x 2.9″',\n",
       " 'Mini city bag available in different colours: blue, beige, black and red. Decorative knots on the exterior. Matching topstitching. Aged gold hardware. Handles. Adjustable and removable shoulder strap. Metal zip closure.<br/> <br/>Height x Length x Width: 16.2 x 18.5 x 8 cm. / 6.3 x 7.2 x 3.1″',\n",
       " 'Bucket bag in a combination of colours. Body with wooden bead and mini beads strung on aged gold. Chain shoulder strap. Lined.<br/> <br/>Height x Length x Width: 18.5 x 15 x 15 cm. / 7.2 x 5.9 x 5.9″',\n",
       " 'Crossbody belt bag in a combination of colours. Geometric print on the exterior. Front pocket with strap and magnetic clasp closure. Adjustable belt. Lining. Zip fastening.<br/> <br/>Height x Length x Width: 11.5 x 16 x 5 cm. / 4.5 x 6.2 x 1.9″',\n",
       " 'Mini crossbody bag available in silver, fuchsia and blue. Glittery exterior. Satin-finish handles. Chain shoulder strap. Lined interior. Magnetic clasp closure.<br/> <br/>Blue collection. Premium materials and special packaging.<br/> <br/>Height x Length x Width: 12.5 x 15.5 x 4.5 cm. / 4.9 x 6.1 x 1.7″',\n",
       " 'Black mini crossbody bag. Exterior with shiny beads and rhinestones in black and silver. Velvet contour and handles. Chain shoulder strap. Lined interior. Magnetic clasp closure.<br/> <br/>Blue collection. Premium materials and special packaging.<br/> <br/>Height x Length x Width: 13.5 x 16.5 x 5 cm. / 5.3 x 6.4 x 1.9″',\n",
       " 'Black bucket bag. Feather and fringe details with rhinestones on the exterior. Metal trim at the top. Chain shoulder strap. Lined interior. Metal clasp closure.<br/> <br/>Blue collection. Premium materials and special packaging.<br/> <br/>Height x Length x Width: 15 x 12 x 2.5 cm. / 5.9 x 4.7 x 0.9″',\n",
       " 'Bucket bag available in different colours: green and gold. Fringe trims on the bottom and shiny beads on the exterior and handle. Lined interior. Magnetic clasp closure.<br/> <br/>Height x Length x Width 16 x 28 x 1 cm. / 6.2 x 11.0 x 0.3″',\n",
       " 'Crossbody mobile phone case available in different colours: black and light pink. Front flap. Two pockets at the back. Chain shoulder strap in combined materials. Lining. Metal clasp closure.<br/><br/>Height x Length x Width 15.5 x 9 x 3 cm. / 6.1 x 3.5 x 1.1″',\n",
       " 'Leather crossbody bag available in burgundy and in black. Leather exterior in contrast finishes: tumbled and split suede. Adjustable shoulder strap. Lined interior with pocket. Zip closure.<br/><br/>Height x Length x Width 16.7 x 25 x 3 cm. / 6.5 x 9.8 x 1.1″',\n",
       " 'Mini bag available in pink and yellow. Oval-shaped. Animal print on the body. Belt loops on the back. Two detachable multi-way chain straps: one long and one short. Lined interior. Magnetic clasp closure.<br/> <br/>Height x Length x Width: 8.5 x 10.8 x 2 cm. / 3.3 x 4.2 x 0.7″',\n",
       " 'Burgundy mini crossbody bag. Oval shape. Adjustable and removable wide shoulder strap. Lined interior. Magnetic clasp closure.<br/><br/>Height x Length x Width: 11.5 x 18.5 x 3.5 cm. / 4.5 x 7.2 x 1.3″',\n",
       " 'Mini leather bag in various colours: sky blue and ecru with a gathered leather body and adjustable shoulder strap. Features a lining and magnetic clasp.<br/> <br/>Height x Length x Width: 7.5 x 14 x 2 cm. / 2.9 x 5.5 x 0.7″',\n",
       " 'Red animal print embossing mini crossbody bag. Antique-effect gold metal gold kiss lock frame. Detachable chain shoulder strap. Lined interior. Metal clasp closure.<br/><br/>Height x Length x Width 17 x 13 x 0.5 cm. / 6.6 x 5.1 x 0.1″',\n",
       " 'Ecru minaudière. Mother-of-pearl-effect exterior with pearl beads in different sizes. Chain shoulder strap. Lined interior. Magnetic clasp closure. <br/><br/>Height x Length x Width: 11.2 x 16.2 x 4.8 cm. / 4.4 x 6.3 x 1.8″']"
      ]
     },
     "execution_count": 55,
     "metadata": {},
     "output_type": "execute_result"
    }
   ],
   "source": [
    "[text for text in test2[\"description\"].tolist() if \"Height x Length\" in text]"
   ]
  },
  {
   "cell_type": "code",
   "execution_count": 8,
   "metadata": {},
   "outputs": [],
   "source": [
    "test[\"description\"] = test[\"description\"].apply(clean_text)"
   ]
  },
  {
   "cell_type": "code",
   "execution_count": 9,
   "metadata": {},
   "outputs": [
    {
     "data": {
      "text/html": [
       "<div>\n",
       "<style scoped>\n",
       "    .dataframe tbody tr th:only-of-type {\n",
       "        vertical-align: middle;\n",
       "    }\n",
       "\n",
       "    .dataframe tbody tr th {\n",
       "        vertical-align: top;\n",
       "    }\n",
       "\n",
       "    .dataframe thead th {\n",
       "        text-align: right;\n",
       "    }\n",
       "</style>\n",
       "<table border=\"1\" class=\"dataframe\">\n",
       "  <thead>\n",
       "    <tr style=\"text-align: right;\">\n",
       "      <th></th>\n",
       "      <th>name</th>\n",
       "      <th>description</th>\n",
       "    </tr>\n",
       "  </thead>\n",
       "  <tbody>\n",
       "    <tr>\n",
       "      <th>0</th>\n",
       "      <td>CROPPED JACKET TRF</td>\n",
       "      <td>Jacket made of a technical fabric with texture...</td>\n",
       "    </tr>\n",
       "    <tr>\n",
       "      <th>1</th>\n",
       "      <td>OVERSIZED SHIRT WITH POCKET TRF</td>\n",
       "      <td>Oversized long sleeve shirt with a round colla...</td>\n",
       "    </tr>\n",
       "    <tr>\n",
       "      <th>2</th>\n",
       "      <td>TECHNICAL TROUSERS TRF</td>\n",
       "      <td>High-waist trousers with a matching elastic wa...</td>\n",
       "    </tr>\n",
       "    <tr>\n",
       "      <th>3</th>\n",
       "      <td>SHIRT DRESS</td>\n",
       "      <td>Collared dress featuring sleeves falling below...</td>\n",
       "    </tr>\n",
       "    <tr>\n",
       "      <th>4</th>\n",
       "      <td>PUFF SLEEVE DRESS WITH PLEATS TRF</td>\n",
       "      <td>Loose-fitting midi dress with a round neckline...</td>\n",
       "    </tr>\n",
       "  </tbody>\n",
       "</table>\n",
       "</div>"
      ],
      "text/plain": [
       "                                name  \\\n",
       "0                 CROPPED JACKET TRF   \n",
       "1    OVERSIZED SHIRT WITH POCKET TRF   \n",
       "2             TECHNICAL TROUSERS TRF   \n",
       "3                        SHIRT DRESS   \n",
       "4  PUFF SLEEVE DRESS WITH PLEATS TRF   \n",
       "\n",
       "                                         description  \n",
       "0  Jacket made of a technical fabric with texture...  \n",
       "1  Oversized long sleeve shirt with a round colla...  \n",
       "2  High-waist trousers with a matching elastic wa...  \n",
       "3  Collared dress featuring sleeves falling below...  \n",
       "4  Loose-fitting midi dress with a round neckline...  "
      ]
     },
     "execution_count": 9,
     "metadata": {},
     "output_type": "execute_result"
    }
   ],
   "source": [
    "df.head()"
   ]
  },
  {
   "cell_type": "code",
   "execution_count": 10,
   "metadata": {},
   "outputs": [],
   "source": [
    "df[\"description\"] = df[\"description\"].apply(clean_text)"
   ]
  },
  {
   "cell_type": "code",
   "execution_count": 11,
   "metadata": {},
   "outputs": [],
   "source": [
    "descriptions = df[\"description\"].tolist()"
   ]
  },
  {
   "cell_type": "code",
   "execution_count": 12,
   "metadata": {},
   "outputs": [],
   "source": [
    "tokenizer = BartTokenizer.from_pretrained(\"facebook/bart-large\")"
   ]
  },
  {
   "cell_type": "code",
   "execution_count": 13,
   "metadata": {},
   "outputs": [],
   "source": [
    "encoded = tokenizer.batch_encode_plus(descriptions)"
   ]
  },
  {
   "cell_type": "code",
   "execution_count": 14,
   "metadata": {},
   "outputs": [],
   "source": [
    "encoded_test = tokenizer.batch_encode_plus(test[\"description\"].tolist())[\"input_ids\"]"
   ]
  },
  {
   "cell_type": "code",
   "execution_count": 15,
   "metadata": {},
   "outputs": [],
   "source": [
    "encoded_ids = encoded[\"input_ids\"]"
   ]
  },
  {
   "cell_type": "code",
   "execution_count": 16,
   "metadata": {},
   "outputs": [],
   "source": [
    "df[\"encoded_desc\"] = encoded_ids"
   ]
  },
  {
   "cell_type": "code",
   "execution_count": 17,
   "metadata": {},
   "outputs": [],
   "source": [
    "test[\"encoded\"] = encoded_test\n",
    "test[\"len_encoded\"] = test[\"encoded\"].apply(lambda x: len(x))"
   ]
  },
  {
   "cell_type": "code",
   "execution_count": 18,
   "metadata": {},
   "outputs": [],
   "source": [
    "df[\"len_encoded\"] = df[\"encoded_desc\"].apply(lambda x: len(x))"
   ]
  },
  {
   "cell_type": "code",
   "execution_count": 26,
   "metadata": {},
   "outputs": [
    {
     "data": {
      "text/html": [
       "<div>\n",
       "<style scoped>\n",
       "    .dataframe tbody tr th:only-of-type {\n",
       "        vertical-align: middle;\n",
       "    }\n",
       "\n",
       "    .dataframe tbody tr th {\n",
       "        vertical-align: top;\n",
       "    }\n",
       "\n",
       "    .dataframe thead th {\n",
       "        text-align: right;\n",
       "    }\n",
       "</style>\n",
       "<table border=\"1\" class=\"dataframe\">\n",
       "  <thead>\n",
       "    <tr style=\"text-align: right;\">\n",
       "      <th></th>\n",
       "      <th>name</th>\n",
       "      <th>description</th>\n",
       "      <th>encoded_desc</th>\n",
       "      <th>len_encoded</th>\n",
       "    </tr>\n",
       "  </thead>\n",
       "  <tbody>\n",
       "    <tr>\n",
       "      <th>0</th>\n",
       "      <td>CROPPED JACKET TRF</td>\n",
       "      <td>Jacket made of a technical fabric with texture...</td>\n",
       "      <td>[0, 863, 32561, 156, 9, 10, 3165, 10199, 19, 1...</td>\n",
       "      <td>31</td>\n",
       "    </tr>\n",
       "    <tr>\n",
       "      <th>1</th>\n",
       "      <td>OVERSIZED SHIRT WITH POCKET TRF</td>\n",
       "      <td>Oversized long sleeve shirt with a round colla...</td>\n",
       "      <td>[0, 673, 3697, 1538, 251, 24150, 6399, 19, 10,...</td>\n",
       "      <td>25</td>\n",
       "    </tr>\n",
       "    <tr>\n",
       "      <th>2</th>\n",
       "      <td>TECHNICAL TROUSERS TRF</td>\n",
       "      <td>High-waist trousers with a matching elastic wa...</td>\n",
       "      <td>[0, 18522, 12, 2739, 661, 20580, 19, 10, 8150,...</td>\n",
       "      <td>20</td>\n",
       "    </tr>\n",
       "    <tr>\n",
       "      <th>3</th>\n",
       "      <td>SHIRT DRESS</td>\n",
       "      <td>Collared dress featuring sleeves falling below...</td>\n",
       "      <td>[0, 37967, 6537, 3588, 4246, 21764, 3064, 874,...</td>\n",
       "      <td>35</td>\n",
       "    </tr>\n",
       "    <tr>\n",
       "      <th>4</th>\n",
       "      <td>PUFF SLEEVE DRESS WITH PLEATS TRF</td>\n",
       "      <td>Loose-fitting midi dress with a round neckline...</td>\n",
       "      <td>[0, 25419, 3876, 12, 22605, 1084, 118, 3588, 1...</td>\n",
       "      <td>43</td>\n",
       "    </tr>\n",
       "  </tbody>\n",
       "</table>\n",
       "</div>"
      ],
      "text/plain": [
       "                                name  \\\n",
       "0                 CROPPED JACKET TRF   \n",
       "1    OVERSIZED SHIRT WITH POCKET TRF   \n",
       "2             TECHNICAL TROUSERS TRF   \n",
       "3                        SHIRT DRESS   \n",
       "4  PUFF SLEEVE DRESS WITH PLEATS TRF   \n",
       "\n",
       "                                         description  \\\n",
       "0  Jacket made of a technical fabric with texture...   \n",
       "1  Oversized long sleeve shirt with a round colla...   \n",
       "2  High-waist trousers with a matching elastic wa...   \n",
       "3  Collared dress featuring sleeves falling below...   \n",
       "4  Loose-fitting midi dress with a round neckline...   \n",
       "\n",
       "                                        encoded_desc  len_encoded  \n",
       "0  [0, 863, 32561, 156, 9, 10, 3165, 10199, 19, 1...           31  \n",
       "1  [0, 673, 3697, 1538, 251, 24150, 6399, 19, 10,...           25  \n",
       "2  [0, 18522, 12, 2739, 661, 20580, 19, 10, 8150,...           20  \n",
       "3  [0, 37967, 6537, 3588, 4246, 21764, 3064, 874,...           35  \n",
       "4  [0, 25419, 3876, 12, 22605, 1084, 118, 3588, 1...           43  "
      ]
     },
     "execution_count": 26,
     "metadata": {},
     "output_type": "execute_result"
    }
   ],
   "source": [
    "df.head()"
   ]
  },
  {
   "cell_type": "code",
   "execution_count": 34,
   "metadata": {},
   "outputs": [
    {
     "data": {
      "text/plain": [
       "<AxesSubplot:>"
      ]
     },
     "execution_count": 34,
     "metadata": {},
     "output_type": "execute_result"
    },
    {
     "data": {
      "image/png": "[encoded data removed]",
      "text/plain": [
       "<Figure size 432x288 with 1 Axes>"
      ]
     },
     "metadata": {
      "needs_background": "light"
     },
     "output_type": "display_data"
    }
   ],
   "source": [
    "df[\"len_encoded\"].hist(bins = 100)"
   ]
  },
  {
   "cell_type": "code",
   "execution_count": 35,
   "metadata": {},
   "outputs": [
    {
     "data": {
      "text/plain": [
       "<AxesSubplot:>"
      ]
     },
     "execution_count": 35,
     "metadata": {},
     "output_type": "execute_result"
    },
    {
     "data": {
      "image/png": "[encoded data removed]",
      "text/plain": [
       "<Figure size 432x288 with 1 Axes>"
      ]
     },
     "metadata": {
      "needs_background": "light"
     },
     "output_type": "display_data"
    }
   ],
   "source": [
    "test[\"len_encoded\"].hist(bins=100)"
   ]
  },
  {
   "cell_type": "code",
   "execution_count": 29,
   "metadata": {},
   "outputs": [
    {
     "data": {
      "text/plain": [
       "914    100% vegetable wax scented candle with two wic...\n",
       "Name: description, dtype: object"
      ]
     },
     "execution_count": 29,
     "metadata": {},
     "output_type": "execute_result"
    }
   ],
   "source": [
    "test.loc[test[\"len_encoded\"] == 292, \"description\"]"
   ]
  },
  {
   "cell_type": "code",
   "execution_count": 36,
   "metadata": {},
   "outputs": [
    {
     "data": {
      "text/plain": [
       "(32,)"
      ]
     },
     "execution_count": 36,
     "metadata": {},
     "output_type": "execute_result"
    }
   ],
   "source": [
    "df.loc[df[\"len_encoded\"] >= 300, \"description\"].shape"
   ]
  },
  {
   "cell_type": "code",
   "execution_count": 47,
   "metadata": {},
   "outputs": [
    {
     "data": {
      "text/plain": [
       "['A deep and complex fragrance illuminated by bergamot and ylang-ylang and the sensual notes of sandalwood, transporting you to the exotic East. <BR>Main aromatic notes: BERGAMOT, CLOVE, CARDAMOM, YLANG-YLANG FLOWER, JASMINE, CEDARWOOD, SANDALWOOD.  Liquid hand soap in a transparent container with dispenser. It contains aloe vera and glycerine extracts to help hydrate and soften the skin. Made in the EU.',\n",
       " 'The ‘Ginger Lily’ is a species of tropical lily originating in India that is not related to the ginger root (except for in name). We took inspiration from this tropical lily to create a captivating floral fragrance that invokes a recently-cut bunch of lilies with an exotic touch of musk and cinnamon notes. Main aromatic notes: LILY, HELIOTROPE, JASMINE, CINNAMON, MUSK.  Liquid hand soap in a transparent container with dispenser. It contains aloe vera and glycerine extracts to help hydrate and soften the skin. Made in the EU.',\n",
       " 'The notes of this lively fragrance invite you to enter a garden where juicy hints of peach and orange blend subtly with the scent of the white gardenia flower, the undisputed protagonist. Main aromatic notes: GARDENIA, ORANGE BLOSSOM, VIOLET, PEACH, COCONUT.  Liquid hand soap in a transparent container with dispenser. It contains aloe vera and glycerine extracts to help hydrate and soften the skin. Made in the EU.',\n",
       " 'Nature at home. That is the sensation behind this fragrance; the natural vigour of freshly-cut grass, the feminine touch of a bouquet of wild flowers and the ever-delicate purity of lily of the valley create a clean and clear ambience. Main aromatic notes: FRESH CUT GRASS, FLORAL BOUQUET, LILY OF THE VALLEY.  Liquid hand soap in a transparent container with dispenser. It contains aloe vera and glycerine extracts to help hydrate and soften the skin. Made in the EU.',\n",
       " 'Smoked wood wraps us in a mysterious veil of incense, cistus, patchouli and notes of amber, revealing the essence of Oriental wood. Main aromatic notes: MUSK, WOOD, PATCHOULI, SANDALWOOD, BERGAMOT, ATLAS CEDAR, CISTUS.  Liquid hand soap in a transparent container with dispenser. It contains aloe vera and glycerine extracts to help hydrate and soften the skin. Made in the EU.']"
      ]
     },
     "execution_count": 47,
     "metadata": {},
     "output_type": "execute_result"
    }
   ],
   "source": [
    "[text for text in test[\"description\"].tolist() if \"contains\" in text]"
   ]
  },
  {
   "cell_type": "code",
   "execution_count": 20,
   "metadata": {},
   "outputs": [
    {
     "data": {
      "text/plain": [
       "'100% vegetable wax scented candle with two wicks. Comes in a cylindrical glass tumbler.Sweet and romantic or fresh and wild. This versatile fragrance changes depending on the time of day you happen to be enjoying it. Don’t let its name fool you, there is no trace of ginger in its notes. It has a lily base and exotic touches of musk and cinnamon. Main aromatic notes: LILY, LILY OF THE VALLEY, HELIOTROPE, JASMINE, CINNAMON, MUSK. Lasts approximately: 80 hours.INSTRUCTIONS FOR USE:- Always place the candle on heat-resistant surfaces away from heaters or other hot surfaces.- Do not light the candle in rooms with children or pets.- Always keep the lit candle in a vertical position so that the wax burns evenly. When you snuff it out, allow the wax to cool before using it again.- Keep the wick cut to 6 mm above the wax for optimum burning.- Keep the wax clear of residue.- Always keep the candle away from curtains, ventilation and air vents. If you use more than one candle at a time, leave a space of 10 cm between them.- Snuff out the candle after four hours of uninterrupted use and never leave it burning unattended in a room. Always use a candle snuffer.- Snuff out the candle before it burns all the way down.'"
      ]
     },
     "execution_count": 20,
     "metadata": {},
     "output_type": "execute_result"
    }
   ],
   "source": [
    "test.sort_values(by=\"len_encoded\", ascending=False).reset_index(drop=True).loc[0, \"description\"]"
   ]
  },
  {
   "cell_type": "code",
   "execution_count": 23,
   "metadata": {},
   "outputs": [],
   "source": [
    "zara = pd.read_csv(\"../zara_data/zara_total6.csv\")"
   ]
  },
  {
   "cell_type": "code",
   "execution_count": 24,
   "metadata": {},
   "outputs": [
    {
     "data": {
      "text/plain": [
       "False"
      ]
     },
     "execution_count": 24,
     "metadata": {},
     "output_type": "execute_result"
    }
   ],
   "source": [
    "'Black laceless sneakers made of technical fabric. The upper is cut from a single piece. Sock-style design. Contrast red pull tab on the heels. Red interior. White chunky soles.' in zara[\"description\"]"
   ]
  },
  {
   "cell_type": "code",
   "execution_count": 68,
   "metadata": {},
   "outputs": [
    {
     "data": {
      "text/plain": [
       "False"
      ]
     },
     "execution_count": 68,
     "metadata": {},
     "output_type": "execute_result"
    }
   ],
   "source": [
    "\"SOCK-STYLE SNEAKERS\" in zara[\"name\"]"
   ]
  },
  {
   "cell_type": "code",
   "execution_count": 103,
   "metadata": {},
   "outputs": [
    {
     "data": {
      "text/plain": [
       "'High waist culottes with elastic waist and wide leg. Featuring contrast trims.'"
      ]
     },
     "execution_count": 103,
     "metadata": {},
     "output_type": "execute_result"
    }
   ],
   "source": [
    "df.sort_values(by=\"len_encoded\", ascending=False).reset_index(drop=True).loc[25000, \"description\"]"
   ]
  },
  {
   "cell_type": "code",
   "execution_count": 52,
   "metadata": {},
   "outputs": [
    {
     "data": {
      "text/plain": [
       "'STERLING SILVER CHAIN NECKLACE WITH TAG'"
      ]
     },
     "execution_count": 52,
     "metadata": {},
     "output_type": "execute_result"
    }
   ],
   "source": [
    "df.sort_values(by=\"len_encoded\", ascending=False).reset_index(drop=True).loc[2, \"name\"]"
   ]
  },
  {
   "cell_type": "code",
   "execution_count": 9,
   "metadata": {},
   "outputs": [
    {
     "data": {
      "text/plain": [
       "33613"
      ]
     },
     "execution_count": 9,
     "metadata": {},
     "output_type": "execute_result"
    }
   ],
   "source": [
    "len(encoded_ids)"
   ]
  },
  {
   "cell_type": "code",
   "execution_count": 10,
   "metadata": {},
   "outputs": [],
   "source": [
    "lens = [len(enc_ids) for enc_ids in encoded_ids]"
   ]
  },
  {
   "cell_type": "code",
   "execution_count": 11,
   "metadata": {},
   "outputs": [
    {
     "data": {
      "text/plain": [
       "863"
      ]
     },
     "execution_count": 11,
     "metadata": {},
     "output_type": "execute_result"
    }
   ],
   "source": [
    "max(lens)"
   ]
  },
  {
   "cell_type": "code",
   "execution_count": 12,
   "metadata": {},
   "outputs": [],
   "source": [
    "encoded_targets = tokenizer.batch_encode_plus(df[\"name\"].tolist())"
   ]
  },
  {
   "cell_type": "code",
   "execution_count": 13,
   "metadata": {},
   "outputs": [],
   "source": [
    "encoded_targets_ids = encoded[\"input_ids\"]"
   ]
  },
  {
   "cell_type": "code",
   "execution_count": 15,
   "metadata": {},
   "outputs": [
    {
     "data": {
      "text/plain": [
       "[0,\n",
       " 48987,\n",
       " 46482,\n",
       " 42026,\n",
       " 4136,\n",
       " 15155,\n",
       " 991,\n",
       " 415,\n",
       " 19,\n",
       " 17812,\n",
       " 32847,\n",
       " 29,\n",
       " 4,\n",
       " 20,\n",
       " 1468,\n",
       " 817,\n",
       " 24,\n",
       " 32551,\n",
       " 13319,\n",
       " 8,\n",
       " 28126,\n",
       " 4,\n",
       " 2]"
      ]
     },
     "execution_count": 15,
     "metadata": {},
     "output_type": "execute_result"
    }
   ],
   "source": [
    "max(encoded_targets_ids)"
   ]
  },
  {
   "cell_type": "code",
   "execution_count": 30,
   "metadata": {},
   "outputs": [
    {
     "data": {
      "text/plain": [
       "36.67164489929492"
      ]
     },
     "execution_count": 30,
     "metadata": {},
     "output_type": "execute_result"
    }
   ],
   "source": [
    "sum(lens)/len(lens)"
   ]
  },
  {
   "cell_type": "code",
   "execution_count": 25,
   "metadata": {},
   "outputs": [
    {
     "ename": "NameError",
     "evalue": "name 'lens' is not defined",
     "output_type": "error",
     "traceback": [
      "\u001b[0;31m---------------------------------------------------------------------------\u001b[0m",
      "\u001b[0;31mNameError\u001b[0m                                 Traceback (most recent call last)",
      "\u001b[0;32m<ipython-input-25-a5765f893c24>\u001b[0m in \u001b[0;36m<module>\u001b[0;34m\u001b[0m\n\u001b[0;32m----> 1\u001b[0;31m \u001b[0mnp\u001b[0m\u001b[0;34m.\u001b[0m\u001b[0mpercentile\u001b[0m\u001b[0;34m(\u001b[0m\u001b[0mlens\u001b[0m\u001b[0;34m,\u001b[0m \u001b[0;36m99.9\u001b[0m\u001b[0;34m)\u001b[0m\u001b[0;34m\u001b[0m\u001b[0;34m\u001b[0m\u001b[0m\n\u001b[0m",
      "\u001b[0;31mNameError\u001b[0m: name 'lens' is not defined"
     ]
    }
   ],
   "source": [
    "np.percentile(lens, 99.9)"
   ]
  },
  {
   "cell_type": "code",
   "execution_count": 16,
   "metadata": {},
   "outputs": [],
   "source": [
    "names = df[\"name\"].tolist()"
   ]
  },
  {
   "cell_type": "code",
   "execution_count": 17,
   "metadata": {},
   "outputs": [],
   "source": [
    "encoded = tokenizer.batch_encode_plus(names)"
   ]
  },
  {
   "cell_type": "code",
   "execution_count": 18,
   "metadata": {},
   "outputs": [],
   "source": [
    "encoded_ids = encoded[\"input_ids\"]"
   ]
  },
  {
   "cell_type": "code",
   "execution_count": 19,
   "metadata": {},
   "outputs": [],
   "source": [
    "lens = [len(enc_ids) for enc_ids in encoded_ids]"
   ]
  },
  {
   "cell_type": "code",
   "execution_count": 20,
   "metadata": {},
   "outputs": [
    {
     "data": {
      "text/plain": [
       "52"
      ]
     },
     "execution_count": 20,
     "metadata": {},
     "output_type": "execute_result"
    }
   ],
   "source": [
    "max(lens)"
   ]
  },
  {
   "cell_type": "code",
   "execution_count": 21,
   "metadata": {},
   "outputs": [
    {
     "data": {
      "text/plain": [
       "11.88659149733734"
      ]
     },
     "execution_count": 21,
     "metadata": {},
     "output_type": "execute_result"
    }
   ],
   "source": [
    "sum(lens)/len(lens)"
   ]
  },
  {
   "cell_type": "code",
   "execution_count": 23,
   "metadata": {},
   "outputs": [
    {
     "data": {
      "text/plain": [
       "3"
      ]
     },
     "execution_count": 23,
     "metadata": {},
     "output_type": "execute_result"
    }
   ],
   "source": [
    "min(lens)"
   ]
  },
  {
   "cell_type": "code",
   "execution_count": null,
   "metadata": {},
   "outputs": [],
   "source": []
  }
 ],
 "metadata": {
  "kernelspec": {
   "display_name": "Python [conda env:spainai_hackaton] *",
   "language": "python",
   "name": "conda-env-spainai_hackaton-py"
  },
  "language_info": {
   "codemirror_mode": {
    "name": "ipython",
    "version": 3
   },
   "file_extension": ".py",
   "mimetype": "text/x-python",
   "name": "python",
   "nbconvert_exporter": "python",
   "pygments_lexer": "ipython3",
   "version": "3.7.9"
  }
 },
 "nbformat": 4,
 "nbformat_minor": 4
}
