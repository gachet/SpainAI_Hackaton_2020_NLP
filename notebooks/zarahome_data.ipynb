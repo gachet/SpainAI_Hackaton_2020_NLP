{
 "cells": [
  {
   "cell_type": "code",
   "execution_count": 1,
   "metadata": {},
   "outputs": [],
   "source": [
    "import pandas as pd"
   ]
  },
  {
   "cell_type": "code",
   "execution_count": 2,
   "metadata": {},
   "outputs": [],
   "source": [
    "zhome = pd.read_csv(\"datos_zarahome.csv\", sep=\";\")"
   ]
  },
  {
   "cell_type": "code",
   "execution_count": 3,
   "metadata": {},
   "outputs": [
    {
     "data": {
      "text/html": [
       "<div>\n",
       "<style scoped>\n",
       "    .dataframe tbody tr th:only-of-type {\n",
       "        vertical-align: middle;\n",
       "    }\n",
       "\n",
       "    .dataframe tbody tr th {\n",
       "        vertical-align: top;\n",
       "    }\n",
       "\n",
       "    .dataframe thead th {\n",
       "        text-align: right;\n",
       "    }\n",
       "</style>\n",
       "<table border=\"1\" class=\"dataframe\">\n",
       "  <thead>\n",
       "    <tr style=\"text-align: right;\">\n",
       "      <th></th>\n",
       "      <th>description</th>\n",
       "      <th>name</th>\n",
       "    </tr>\n",
       "  </thead>\n",
       "  <tbody>\n",
       "    <tr>\n",
       "      <th>0</th>\n",
       "      <td>Duvet cover in 200 thread count cotton percale...</td>\n",
       "      <td>BRANCH PRINT DUVET COVER</td>\n",
       "    </tr>\n",
       "    <tr>\n",
       "      <th>1</th>\n",
       "      <td>Duvet cover made of dyed thread with contrast ...</td>\n",
       "      <td>DYED THREAD STRIPED DUVET COVER</td>\n",
       "    </tr>\n",
       "    <tr>\n",
       "      <th>2</th>\n",
       "      <td>Duvet cover in 200 thread count washed cotton ...</td>\n",
       "      <td>DUVET COVER WITH TIES</td>\n",
       "    </tr>\n",
       "    <tr>\n",
       "      <th>3</th>\n",
       "      <td>Duvet cover made of 200 thread count cotton pe...</td>\n",
       "      <td>CHECK SEERSUCKER DUVET COVER</td>\n",
       "    </tr>\n",
       "    <tr>\n",
       "      <th>4</th>\n",
       "      <td>Plain 140 g/m² washed linen duvet cover with t...</td>\n",
       "      <td>WASHED LINEN DUVET COVER</td>\n",
       "    </tr>\n",
       "  </tbody>\n",
       "</table>\n",
       "</div>"
      ],
      "text/plain": [
       "                                         description  \\\n",
       "0  Duvet cover in 200 thread count cotton percale...   \n",
       "1  Duvet cover made of dyed thread with contrast ...   \n",
       "2  Duvet cover in 200 thread count washed cotton ...   \n",
       "3  Duvet cover made of 200 thread count cotton pe...   \n",
       "4  Plain 140 g/m² washed linen duvet cover with t...   \n",
       "\n",
       "                              name  \n",
       "0         BRANCH PRINT DUVET COVER  \n",
       "1  DYED THREAD STRIPED DUVET COVER  \n",
       "2            DUVET COVER WITH TIES  \n",
       "3     CHECK SEERSUCKER DUVET COVER  \n",
       "4         WASHED LINEN DUVET COVER  "
      ]
     },
     "execution_count": 3,
     "metadata": {},
     "output_type": "execute_result"
    }
   ],
   "source": [
    "zhome.head()"
   ]
  },
  {
   "cell_type": "code",
   "execution_count": 4,
   "metadata": {},
   "outputs": [],
   "source": [
    "def clean_text(text):\n",
    "    text = text.replace(\"<br/>\", \" \")\n",
    "    text = text.replace(\"<BR>\", \" \")\n",
    "    text = text.replace(\"<BR/>\", \" \")\n",
    "    text = text.replace(\"<br>\", \" \")\n",
    "    text = text.replace(\"\\xa0\", \" \")\n",
    "    text = text.replace(\"•\", \" \")\n",
    "    text = text.replace(\"&#39;\", \"'\")\n",
    "    text = text.replace(\"\\n\", \" \")\n",
    "    text = text.replace(\"[<>]\", \" \")\n",
    "    clean_exprs = [\n",
    "        \"HEIGHT OF MODEL\",\n",
    "        \"height of model\",\n",
    "        \"model height\",\n",
    "        \"MODEL HEIGHT\",\n",
    "        # \"Contains: \",\n",
    "        # \"Heel height\",\n",
    "        # \"Sole height\",\n",
    "        # \"Height of sole\",\n",
    "        # \"Height x Length x Width\",\n",
    "        # \"Height x Width x Depth\",\n",
    "        \"WARNING\",\n",
    "    ]\n",
    "    for expr in clean_exprs:\n",
    "        if expr in text:\n",
    "            text = text[: text.find(expr)]\n",
    "    text = text.replace(\" +\", \" \")\n",
    "    return text"
   ]
  },
  {
   "cell_type": "code",
   "execution_count": 5,
   "metadata": {},
   "outputs": [],
   "source": [
    "zhome[\"description\"] = zhome[\"description\"].apply(clean_text) "
   ]
  },
  {
   "cell_type": "code",
   "execution_count": 6,
   "metadata": {},
   "outputs": [],
   "source": [
    "train = pd.read_csv(\"train.csv\")"
   ]
  },
  {
   "cell_type": "code",
   "execution_count": 7,
   "metadata": {},
   "outputs": [],
   "source": [
    "train[\"description\"] = train[\"description\"].apply(clean_text) "
   ]
  },
  {
   "cell_type": "code",
   "execution_count": 8,
   "metadata": {},
   "outputs": [],
   "source": [
    "test = pd.read_csv(\"test_descriptions.csv\")"
   ]
  },
  {
   "cell_type": "code",
   "execution_count": 9,
   "metadata": {},
   "outputs": [],
   "source": [
    "test[\"description\"] = test[\"description\"].apply(clean_text) "
   ]
  },
  {
   "cell_type": "code",
   "execution_count": 12,
   "metadata": {},
   "outputs": [
    {
     "data": {
      "text/plain": [
       "(92, 2)"
      ]
     },
     "execution_count": 12,
     "metadata": {},
     "output_type": "execute_result"
    }
   ],
   "source": [
    "zhome[~zhome[\"description\"].isin(train[\"description\"])].shape"
   ]
  },
  {
   "cell_type": "code",
   "execution_count": 14,
   "metadata": {},
   "outputs": [
    {
     "data": {
      "text/plain": [
       "(136, 2)"
      ]
     },
     "execution_count": 14,
     "metadata": {},
     "output_type": "execute_result"
    }
   ],
   "source": [
    "zhome[~zhome[\"description\"].isin(test[\"description\"])].shape"
   ]
  },
  {
   "cell_type": "code",
   "execution_count": 10,
   "metadata": {},
   "outputs": [
    {
     "data": {
      "text/plain": [
       "(116, 2)"
      ]
     },
     "execution_count": 10,
     "metadata": {},
     "output_type": "execute_result"
    }
   ],
   "source": [
    "zhome[~zhome[\"description\"].isin(train[\"description\"])].shape"
   ]
  },
  {
   "cell_type": "code",
   "execution_count": 11,
   "metadata": {},
   "outputs": [
    {
     "data": {
      "text/plain": [
       "(151, 2)"
      ]
     },
     "execution_count": 11,
     "metadata": {},
     "output_type": "execute_result"
    }
   ],
   "source": [
    "zhome[~zhome[\"description\"].isin(test[\"description\"])].shape"
   ]
  },
  {
   "cell_type": "code",
   "execution_count": 12,
   "metadata": {},
   "outputs": [
    {
     "data": {
      "text/plain": [
       "(162, 2)"
      ]
     },
     "execution_count": 12,
     "metadata": {},
     "output_type": "execute_result"
    }
   ],
   "source": [
    "zhome.shape"
   ]
  },
  {
   "cell_type": "code",
   "execution_count": 14,
   "metadata": {},
   "outputs": [
    {
     "data": {
      "text/html": [
       "<div>\n",
       "<style scoped>\n",
       "    .dataframe tbody tr th:only-of-type {\n",
       "        vertical-align: middle;\n",
       "    }\n",
       "\n",
       "    .dataframe tbody tr th {\n",
       "        vertical-align: top;\n",
       "    }\n",
       "\n",
       "    .dataframe thead th {\n",
       "        text-align: right;\n",
       "    }\n",
       "</style>\n",
       "<table border=\"1\" class=\"dataframe\">\n",
       "  <thead>\n",
       "    <tr style=\"text-align: right;\">\n",
       "      <th></th>\n",
       "      <th>name</th>\n",
       "      <th>description</th>\n",
       "    </tr>\n",
       "  </thead>\n",
       "  <tbody>\n",
       "    <tr>\n",
       "      <th>9068</th>\n",
       "      <td>FUZZY KNIT BEANIE</td>\n",
       "      <td>Fuzzy knit beanie</td>\n",
       "    </tr>\n",
       "    <tr>\n",
       "      <th>9624</th>\n",
       "      <td>SHORT CORDUROY HAT</td>\n",
       "      <td>Short corduroy hat</td>\n",
       "    </tr>\n",
       "    <tr>\n",
       "      <th>27933</th>\n",
       "      <td>RECYCLED GLASS WINE GLASS.</td>\n",
       "      <td>Recycled glass wine glass.</td>\n",
       "    </tr>\n",
       "    <tr>\n",
       "      <th>30746</th>\n",
       "      <td>SERVERS WITH WOODEN HANDLES (SET OF 2)</td>\n",
       "      <td>SERVERS WITH WOODEN HANDLES (SET OF 2)</td>\n",
       "    </tr>\n",
       "    <tr>\n",
       "      <th>30866</th>\n",
       "      <td>PHOTO FRAME</td>\n",
       "      <td>Photo frame</td>\n",
       "    </tr>\n",
       "    <tr>\n",
       "      <th>31071</th>\n",
       "      <td>GREY MELAMINE FORK</td>\n",
       "      <td>Grey melamine fork</td>\n",
       "    </tr>\n",
       "    <tr>\n",
       "      <th>32006</th>\n",
       "      <td>CURIOUS FORTUNE REED DIFFUSER (200 ML)</td>\n",
       "      <td>CURIOUS FORTUNE REED DIFFUSER (200 ML)</td>\n",
       "    </tr>\n",
       "    <tr>\n",
       "      <th>32009</th>\n",
       "      <td>CURIOUS FORTUNE REED DIFFUSER (500 ML)</td>\n",
       "      <td>CURIOUS FORTUNE REED DIFFUSER (500 ML)</td>\n",
       "    </tr>\n",
       "    <tr>\n",
       "      <th>32014</th>\n",
       "      <td>CURIOUS FORTUNE SCENTED CANDLE</td>\n",
       "      <td>CURIOUS FORTUNE SCENTED CANDLE</td>\n",
       "    </tr>\n",
       "    <tr>\n",
       "      <th>32017</th>\n",
       "      <td>CURIOUS FORTUNE PILLOW SPRAY</td>\n",
       "      <td>CURIOUS FORTUNE PILLOW SPRAY</td>\n",
       "    </tr>\n",
       "    <tr>\n",
       "      <th>32263</th>\n",
       "      <td>ROYAL GARDEN REED DIFFUSER (100 ML)</td>\n",
       "      <td>ROYAL GARDEN REED DIFFUSER (100 ML)</td>\n",
       "    </tr>\n",
       "    <tr>\n",
       "      <th>32509</th>\n",
       "      <td>SOLID BOOKEND</td>\n",
       "      <td>Solid bookend</td>\n",
       "    </tr>\n",
       "  </tbody>\n",
       "</table>\n",
       "</div>"
      ],
      "text/plain": [
       "                                         name  \\\n",
       "9068                        FUZZY KNIT BEANIE   \n",
       "9624                       SHORT CORDUROY HAT   \n",
       "27933              RECYCLED GLASS WINE GLASS.   \n",
       "30746  SERVERS WITH WOODEN HANDLES (SET OF 2)   \n",
       "30866                             PHOTO FRAME   \n",
       "31071                      GREY MELAMINE FORK   \n",
       "32006  CURIOUS FORTUNE REED DIFFUSER (200 ML)   \n",
       "32009  CURIOUS FORTUNE REED DIFFUSER (500 ML)   \n",
       "32014          CURIOUS FORTUNE SCENTED CANDLE   \n",
       "32017            CURIOUS FORTUNE PILLOW SPRAY   \n",
       "32263     ROYAL GARDEN REED DIFFUSER (100 ML)   \n",
       "32509                           SOLID BOOKEND   \n",
       "\n",
       "                                  description  \n",
       "9068                        Fuzzy knit beanie  \n",
       "9624                       Short corduroy hat  \n",
       "27933              Recycled glass wine glass.  \n",
       "30746  SERVERS WITH WOODEN HANDLES (SET OF 2)  \n",
       "30866                             Photo frame  \n",
       "31071                      Grey melamine fork  \n",
       "32006  CURIOUS FORTUNE REED DIFFUSER (200 ML)  \n",
       "32009  CURIOUS FORTUNE REED DIFFUSER (500 ML)  \n",
       "32014          CURIOUS FORTUNE SCENTED CANDLE  \n",
       "32017            CURIOUS FORTUNE PILLOW SPRAY  \n",
       "32263     ROYAL GARDEN REED DIFFUSER (100 ML)  \n",
       "32509                           Solid bookend  "
      ]
     },
     "execution_count": 14,
     "metadata": {},
     "output_type": "execute_result"
    }
   ],
   "source": [
    "train.loc[[name == desc.upper() for name, desc in zip(train[\"name\"], train[\"description\"])], :]"
   ]
  },
  {
   "cell_type": "code",
   "execution_count": 17,
   "metadata": {},
   "outputs": [
    {
     "data": {
      "text/plain": [
       "12"
      ]
     },
     "execution_count": 17,
     "metadata": {},
     "output_type": "execute_result"
    }
   ],
   "source": [
    "sum([name.lower() == desc.lower() for name, desc in zip(train[\"name\"], train[\"description\"])])"
   ]
  },
  {
   "cell_type": "code",
   "execution_count": 18,
   "metadata": {},
   "outputs": [
    {
     "data": {
      "text/plain": [
       "(33438, 2)"
      ]
     },
     "execution_count": 18,
     "metadata": {},
     "output_type": "execute_result"
    }
   ],
   "source": [
    "train[~train[\"description\"].isin(test[\"description\"])].shape"
   ]
  },
  {
   "cell_type": "code",
   "execution_count": 19,
   "metadata": {},
   "outputs": [
    {
     "data": {
      "text/plain": [
       "(33613, 2)"
      ]
     },
     "execution_count": 19,
     "metadata": {},
     "output_type": "execute_result"
    }
   ],
   "source": [
    "train.shape"
   ]
  },
  {
   "cell_type": "code",
   "execution_count": null,
   "metadata": {},
   "outputs": [],
   "source": []
  }
 ],
 "metadata": {
  "kernelspec": {
   "display_name": "Python 3",
   "language": "python",
   "name": "python3"
  },
  "language_info": {
   "codemirror_mode": {
    "name": "ipython",
    "version": 3
   },
   "file_extension": ".py",
   "mimetype": "text/x-python",
   "name": "python",
   "nbconvert_exporter": "python",
   "pygments_lexer": "ipython3",
   "version": "3.7.9"
  }
 },
 "nbformat": 4,
 "nbformat_minor": 4
}
