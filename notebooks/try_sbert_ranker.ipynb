{
 "cells": [
  {
   "cell_type": "code",
   "execution_count": 30,
   "id": "protected-problem",
   "metadata": {},
   "outputs": [],
   "source": [
    "from sentence_transformers import CrossEncoder\n",
    "import pandas as pd\n",
    "import csv\n",
    "import torch\n",
    "from tqdm import tqdm"
   ]
  },
  {
   "cell_type": "code",
   "execution_count": null,
   "id": "extreme-english",
   "metadata": {},
   "outputs": [],
   "source": []
  },
  {
   "cell_type": "code",
   "execution_count": 4,
   "id": "eastern-california",
   "metadata": {},
   "outputs": [],
   "source": [
    "MODEL = \"ce2101-latest\""
   ]
  },
  {
   "cell_type": "code",
   "execution_count": 5,
   "id": "vital-increase",
   "metadata": {},
   "outputs": [],
   "source": [
    "submission = []\n",
    "\n",
    "with open(\"submission_eolo.csv\", \"r\") as f:\n",
    "    reader = csv.reader(f)\n",
    "    for line in reader:\n",
    "        submission.append(line)"
   ]
  },
  {
   "cell_type": "code",
   "execution_count": 7,
   "id": "occasional-nelson",
   "metadata": {},
   "outputs": [],
   "source": [
    "submission = submission[1:]"
   ]
  },
  {
   "cell_type": "code",
   "execution_count": 8,
   "id": "overall-thinking",
   "metadata": {},
   "outputs": [
    {
     "data": {
      "text/plain": [
       "True"
      ]
     },
     "execution_count": 8,
     "metadata": {},
     "output_type": "execute_result"
    }
   ],
   "source": [
    "all([len(subm) == 10 for subm in submission])"
   ]
  },
  {
   "cell_type": "code",
   "execution_count": 9,
   "id": "outstanding-implementation",
   "metadata": {},
   "outputs": [],
   "source": [
    "test_descriptions = pd.read_csv(\"test_descriptions.csv\")"
   ]
  },
  {
   "cell_type": "code",
   "execution_count": 11,
   "id": "standing-blogger",
   "metadata": {},
   "outputs": [],
   "source": [
    "def clean_text(text):\n",
    "    text = text.replace(\"<br/>\", \"\")\n",
    "    text = text.replace(\"\\n\", \"\")\n",
    "    clean_exprs = [\"HEIGHT OF MODEL\", \"height of model\", \"model height\", \"MODEL HEIGHT\"]\n",
    "    for expr in clean_exprs:\n",
    "        if expr in text:\n",
    "            text = text[: text.find(expr)]\n",
    "    return text"
   ]
  },
  {
   "cell_type": "code",
   "execution_count": 13,
   "id": "golden-device",
   "metadata": {},
   "outputs": [],
   "source": [
    "test_descriptions[\"description\"] = test_descriptions[\"description\"].apply(clean_text)"
   ]
  },
  {
   "cell_type": "code",
   "execution_count": 28,
   "id": "every-turtle",
   "metadata": {},
   "outputs": [],
   "source": [
    "model = CrossEncoder(MODEL, device=\"cuda:0\")"
   ]
  },
  {
   "cell_type": "code",
   "execution_count": 14,
   "id": "sorted-press",
   "metadata": {},
   "outputs": [],
   "source": [
    "def create_text_tuples(description, possible_names):\n",
    "    return [(description, name) for name in possible_names]"
   ]
  },
  {
   "cell_type": "code",
   "execution_count": 25,
   "id": "occupational-deadline",
   "metadata": {},
   "outputs": [],
   "source": [
    "tuples2 = create_text_tuples(test_descriptions[\"description\"].tolist()[10], submission[10])"
   ]
  },
  {
   "cell_type": "code",
   "execution_count": 26,
   "id": "italian-playlist",
   "metadata": {},
   "outputs": [],
   "source": [
    "with torch.no_grad():\n",
    "    outp = model.predict(tuples2)"
   ]
  },
  {
   "cell_type": "code",
   "execution_count": 27,
   "id": "peaceful-vietnam",
   "metadata": {},
   "outputs": [
    {
     "data": {
      "text/plain": [
       "array([0.19536261, 0.19536258, 0.19536261, 0.19536258, 0.19536261,\n",
       "       0.19536258, 0.19536258, 0.19536258, 0.19536258, 0.19536258],\n",
       "      dtype=float32)"
      ]
     },
     "execution_count": 27,
     "metadata": {},
     "output_type": "execute_result"
    }
   ],
   "source": [
    "outp"
   ]
  },
  {
   "cell_type": "code",
   "execution_count": 31,
   "id": "coordinate-dispute",
   "metadata": {},
   "outputs": [],
   "source": [
    "def sort_submission_by_score(submission, model, descriptions):\n",
    "    new_submissions = []\n",
    "    for description, subm in tqdm(zip(descriptions, submission)):\n",
    "        tuples = create_text_tuples(description, subm)\n",
    "        #inputs = tokenizer.batch_encode_plus(tuples, return_tensors=\"pt\", truncation=True, padding=True)\n",
    "        #to_device(inputs, device)\n",
    "        output = model.predict(tuples)\n",
    "        #logits_positive = output.logits[:, 1].detach().cpu().numpy()\n",
    "        subm_dict = {s: val for s, val in zip(subm, output)}\n",
    "        sorted_names = [name.replace(\"\\n\", \"\") for name in list(sorted(subm_dict, key=subm_dict.get, reverse=True))]\n",
    "        new_submissions.append(sorted_names)\n",
    "    return new_submissions"
   ]
  },
  {
   "cell_type": "code",
   "execution_count": 32,
   "id": "strategic-fence",
   "metadata": {},
   "outputs": [
    {
     "name": "stderr",
     "output_type": "stream",
     "text": [
      "1441it [02:05, 11.49it/s]\n"
     ]
    }
   ],
   "source": [
    "new_submission = sort_submission_by_score(submission, model, test_descriptions[\"description\"].tolist())"
   ]
  },
  {
   "cell_type": "code",
   "execution_count": 33,
   "id": "legal-victorian",
   "metadata": {},
   "outputs": [],
   "source": [
    "di = {f\"pred_{i}\": [] for i in range(10)}\n",
    "for names in new_submission:\n",
    "    if len(names) != 10:\n",
    "        print(names)\n",
    "        print(len(names))\n",
    "        break\n",
    "    for i in range(len(names)):\n",
    "        di[f\"pred_{i}\"].append(names[i])"
   ]
  },
  {
   "cell_type": "code",
   "execution_count": 34,
   "id": "dental-textbook",
   "metadata": {},
   "outputs": [],
   "source": [
    "df = pd.DataFrame(di)"
   ]
  },
  {
   "cell_type": "code",
   "execution_count": 35,
   "id": "piano-detail",
   "metadata": {},
   "outputs": [],
   "source": [
    "df.to_csv(\"new_submission_ranker_sbert.csv\", header=False, index=False)"
   ]
  },
  {
   "cell_type": "code",
   "execution_count": null,
   "id": "conditional-surgeon",
   "metadata": {},
   "outputs": [],
   "source": []
  }
 ],
 "metadata": {
  "kernelspec": {
   "display_name": "Python [conda env:sbert_env]",
   "language": "python",
   "name": "conda-env-sbert_env-py"
  },
  "language_info": {
   "codemirror_mode": {
    "name": "ipython",
    "version": 3
   },
   "file_extension": ".py",
   "mimetype": "text/x-python",
   "name": "python",
   "nbconvert_exporter": "python",
   "pygments_lexer": "ipython3",
   "version": "3.7.9"
  }
 },
 "nbformat": 4,
 "nbformat_minor": 5
}
