{
 "cells": [
  {
   "cell_type": "code",
   "execution_count": 1,
   "metadata": {},
   "outputs": [],
   "source": [
    "import pickle\n",
    "import pandas as pd"
   ]
  },
  {
   "cell_type": "code",
   "execution_count": 4,
   "metadata": {},
   "outputs": [],
   "source": [
    "with open(\"crawled_data_zara_uk.pkl\", \"rb\") as f:\n",
    "    s = pickle.load(f)"
   ]
  },
  {
   "cell_type": "code",
   "execution_count": 5,
   "metadata": {},
   "outputs": [
    {
     "data": {
      "text/plain": [
       "{'description': ['Lightweight water-repellent coat. High collar with stow-away hood on the inside. Long sleeves with elastic trim. Front flap pockets. Adjustable hem with elastic drawstrings. Zip-up front hidden by a snap-button placket.',\n",
       "  'Coat with a shirt collar and long sleeves. Features side pockets and contrasting interior fabric and trims. Fastens at the front with buttons.',\n",
       "  'Coat with a lapel collar and long sleeves. Front pockets. Lining. Front button fastening.',\n",
       "  'Collared coat with long sleeves. Side pockets. Front fastening with contrast buttons.',\n",
       "  'Parka featuring a hood and long sleeves with pocket. Adjustable waist with inner drawstring. Front patch pockets. Faux shearling lining. Back vent at the hem. Front zip and snap-button fastening.',\n",
       "  'Trench coat with a high collar, adjustable hood and long sleeves. Adjustable waist with contrast drawstring. Featuring front patch pockets and welt pockets. Zip-up front hidden by a snap-button placket.',\n",
       "  'Long sleeve coat with a lapel collar. Front in-seam pockets. Front button fastening.',\n",
       "  'Loose-fitting kimono with short sleeves. Elastic detail at the back. Matching fringe trims.',\n",
       "  'Loose-fit blazer featuring a lapel collar, long sleeves, front welt pockets and double-breasted button fastening at the front.',\n",
       "  'Long sleeve coat with a lapel collar. Side in-seam pockets. Front double-breasted button fastening.',\n",
       "  'Fitted coat made of a wool blend. Lapel collar and long sleeves. Front flap pockets. Back and front slits at the hem. Belt with metal buckle. Front button fastening.',\n",
       "  'Coat featuring a high neck with hood and long sleeves. Front pockets with hidden zip fastening. Double-breasted front with snap-button fastening.',\n",
       "  'Coat made of a wool blend with a lapel collar, long sleeves and side pockets.',\n",
       "  'Jacket with a high collar. Hood with detachable faux fur trim with snap buttons. Long sleeves with inner cuffs. Side zip pockets. Zip-up front.This garment contains Comfortemp® thermal insulation filling. This material is insulating and retains body heat. It’s lightweight, breathable and easy to clean.',\n",
       "  'Long kimono with a V-neckline and long sleeves. Contrast embroidery detail. Wrap fastening at the front with an inside button and tied belt with matching tassels.',\n",
       "  'Collared overshirt featuring long sleeves, front patch pockets with flaps, welt pockets, a frayed hem and metal button fastening at the front.',\n",
       "  'Faux leather jacket with a round neckline, long sleeves, front welt pockets, a flared hem and front metal zip fastening.',\n",
       "  'Collared overshirt with long cuffed sleeves. Front patch pocket. Side vents at the hem. Button-up front.'],\n",
       " 'name': ['WATER-REPELLENT PUFFER COAT',\n",
       "  'FAUX SHEARLING COAT',\n",
       "  'FAUX SHEARLING COAT',\n",
       "  'FAUX FUR COAT',\n",
       "  'PARKA WITH FAUX SHEARLING LINING',\n",
       "  'TRENCH COAT WITH CONTRAST DRAWSTRINGS',\n",
       "  'FAUX FUR COAT',\n",
       "  'KIMONO WITH FRINGE',\n",
       "  'OVERSIZED BUTTONED BLAZER TRF',\n",
       "  'DOUBLE-BREASTED FAUX FUR COAT',\n",
       "  'WOOL BLEND COAT WITH BELT',\n",
       "  'HOODED PUFFER COAT',\n",
       "  'TEXTURED WOOL BLEND COAT',\n",
       "  'COMFORTEMP® THERMAL INSULATION PUFFER JACKET',\n",
       "  'EMBROIDERED KIMONO',\n",
       "  'CORDUROY OVERSHIRT',\n",
       "  'DOUBLE ZIP JACKET',\n",
       "  'ASYMMETRIC HEM OVERSHIRT']}"
      ]
     },
     "execution_count": 5,
     "metadata": {},
     "output_type": "execute_result"
    }
   ],
   "source": [
    "s"
   ]
  },
  {
   "cell_type": "code",
   "execution_count": null,
   "metadata": {},
   "outputs": [],
   "source": []
  }
 ],
 "metadata": {
  "kernelspec": {
   "display_name": "Python [conda env:spainai_hackaton] *",
   "language": "python",
   "name": "conda-env-spainai_hackaton-py"
  },
  "language_info": {
   "codemirror_mode": {
    "name": "ipython",
    "version": 3
   },
   "file_extension": ".py",
   "mimetype": "text/x-python",
   "name": "python",
   "nbconvert_exporter": "python",
   "pygments_lexer": "ipython3",
   "version": "3.7.9"
  }
 },
 "nbformat": 4,
 "nbformat_minor": 4
}
