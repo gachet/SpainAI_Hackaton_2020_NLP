{
 "cells": [
  {
   "cell_type": "code",
   "execution_count": 32,
   "metadata": {},
   "outputs": [],
   "source": [
    "import pandas as pd\n",
    "from sklearn.decomposition import LatentDirichletAllocation\n",
    "from sklearn.feature_extraction.text import CountVectorizer\n",
    "from sklearn.pipeline import Pipeline\n",
    "from nltk.corpus import stopwords\n"
   ]
  },
  {
   "cell_type": "code",
   "execution_count": null,
   "metadata": {},
   "outputs": [],
   "source": []
  },
  {
   "cell_type": "code",
   "execution_count": 59,
   "metadata": {},
   "outputs": [],
   "source": [
    "pipe = Pipeline(\n",
    "    steps=[\n",
    "        (\"vectorizer\", CountVectorizer(stop_words=stopwords.words(\"english\"), max_df=0.5, min_df=10, max_features=10000)),\n",
    "        (\"model\", LatentDirichletAllocation(n_components=5, n_jobs=-1))\n",
    "    ]\n",
    ")"
   ]
  },
  {
   "cell_type": "code",
   "execution_count": 3,
   "metadata": {},
   "outputs": [],
   "source": [
    "df = pd.read_csv(\"val_with_scores.csv\")"
   ]
  },
  {
   "cell_type": "code",
   "execution_count": 4,
   "metadata": {},
   "outputs": [
    {
     "data": {
      "text/html": [
       "<div>\n",
       "<style scoped>\n",
       "    .dataframe tbody tr th:only-of-type {\n",
       "        vertical-align: middle;\n",
       "    }\n",
       "\n",
       "    .dataframe tbody tr th {\n",
       "        vertical-align: top;\n",
       "    }\n",
       "\n",
       "    .dataframe thead th {\n",
       "        text-align: right;\n",
       "    }\n",
       "</style>\n",
       "<table border=\"1\" class=\"dataframe\">\n",
       "  <thead>\n",
       "    <tr style=\"text-align: right;\">\n",
       "      <th></th>\n",
       "      <th>name</th>\n",
       "      <th>description</th>\n",
       "      <th>score</th>\n",
       "      <th>predictions</th>\n",
       "    </tr>\n",
       "  </thead>\n",
       "  <tbody>\n",
       "    <tr>\n",
       "      <th>0</th>\n",
       "      <td>BASIC PLAIN SWEATSHIRT</td>\n",
       "      <td>Long sleeve sweatshirt with a round neckline a...</td>\n",
       "      <td>0.000000</td>\n",
       "      <td>['BASIC SWEATSHIRT', 'SOFT-TOUCH SWEATSHIRT', ...</td>\n",
       "    </tr>\n",
       "    <tr>\n",
       "      <th>1</th>\n",
       "      <td>CHAMOMILE BODY CARE KIT</td>\n",
       "      <td>In the Chamomile personal care kit, you will f...</td>\n",
       "      <td>0.000000</td>\n",
       "      <td>['CHAMOMILE PERSONAL CARE KIT', 'CHAMOMILE LIQ...</td>\n",
       "    </tr>\n",
       "    <tr>\n",
       "      <th>2</th>\n",
       "      <td>ANIMAL PRINT POLO SHIRT WITH SPARKLY TRIM</td>\n",
       "      <td>Collared knit polo shirt featuring short sleev...</td>\n",
       "      <td>0.315465</td>\n",
       "      <td>['ANIMAL PRINT POLO SHIRT WITH SPARKLY THREAD'...</td>\n",
       "    </tr>\n",
       "    <tr>\n",
       "      <th>3</th>\n",
       "      <td>TEXTURED LACE TOP TRF</td>\n",
       "      <td>Semi-sheer top featuring a round neckline with...</td>\n",
       "      <td>0.000000</td>\n",
       "      <td>['TEXTURED WEAVE TOP', 'TEXTURED WEAVE TOP TRF...</td>\n",
       "    </tr>\n",
       "    <tr>\n",
       "      <th>4</th>\n",
       "      <td>PRINTED COTTON CUSHION COVER</td>\n",
       "      <td>Cotton cushion cover with a contrast print and...</td>\n",
       "      <td>0.500000</td>\n",
       "      <td>['PRINTED CUSHION COVER', 'COTTON CUSHION COVE...</td>\n",
       "    </tr>\n",
       "  </tbody>\n",
       "</table>\n",
       "</div>"
      ],
      "text/plain": [
       "                                        name  \\\n",
       "0                     BASIC PLAIN SWEATSHIRT   \n",
       "1                    CHAMOMILE BODY CARE KIT   \n",
       "2  ANIMAL PRINT POLO SHIRT WITH SPARKLY TRIM   \n",
       "3                      TEXTURED LACE TOP TRF   \n",
       "4               PRINTED COTTON CUSHION COVER   \n",
       "\n",
       "                                         description     score  \\\n",
       "0  Long sleeve sweatshirt with a round neckline a...  0.000000   \n",
       "1  In the Chamomile personal care kit, you will f...  0.000000   \n",
       "2  Collared knit polo shirt featuring short sleev...  0.315465   \n",
       "3  Semi-sheer top featuring a round neckline with...  0.000000   \n",
       "4  Cotton cushion cover with a contrast print and...  0.500000   \n",
       "\n",
       "                                         predictions  \n",
       "0  ['BASIC SWEATSHIRT', 'SOFT-TOUCH SWEATSHIRT', ...  \n",
       "1  ['CHAMOMILE PERSONAL CARE KIT', 'CHAMOMILE LIQ...  \n",
       "2  ['ANIMAL PRINT POLO SHIRT WITH SPARKLY THREAD'...  \n",
       "3  ['TEXTURED WEAVE TOP', 'TEXTURED WEAVE TOP TRF...  \n",
       "4  ['PRINTED CUSHION COVER', 'COTTON CUSHION COVE...  "
      ]
     },
     "execution_count": 4,
     "metadata": {},
     "output_type": "execute_result"
    }
   ],
   "source": [
    "df.head()"
   ]
  },
  {
   "cell_type": "code",
   "execution_count": 6,
   "metadata": {},
   "outputs": [
    {
     "data": {
      "text/plain": [
       "0.7238890998860615"
      ]
     },
     "execution_count": 6,
     "metadata": {},
     "output_type": "execute_result"
    }
   ],
   "source": [
    "df[df[\"score\"]==0].shape[0] / df.shape[0]"
   ]
  },
  {
   "cell_type": "code",
   "execution_count": 8,
   "metadata": {},
   "outputs": [
    {
     "data": {
      "text/html": [
       "<div>\n",
       "<style scoped>\n",
       "    .dataframe tbody tr th:only-of-type {\n",
       "        vertical-align: middle;\n",
       "    }\n",
       "\n",
       "    .dataframe tbody tr th {\n",
       "        vertical-align: top;\n",
       "    }\n",
       "\n",
       "    .dataframe thead th {\n",
       "        text-align: right;\n",
       "    }\n",
       "</style>\n",
       "<table border=\"1\" class=\"dataframe\">\n",
       "  <thead>\n",
       "    <tr style=\"text-align: right;\">\n",
       "      <th></th>\n",
       "      <th>name</th>\n",
       "      <th>description</th>\n",
       "      <th>score</th>\n",
       "      <th>predictions</th>\n",
       "    </tr>\n",
       "  </thead>\n",
       "  <tbody>\n",
       "    <tr>\n",
       "      <th>1316</th>\n",
       "      <td>WASHED COTTON BLANKET</td>\n",
       "      <td>Washed cotton blanket with fringing.</td>\n",
       "      <td>1.0</td>\n",
       "      <td>['WASHED COTTON BLANKET', 'WASHED COTTON BLANK...</td>\n",
       "    </tr>\n",
       "    <tr>\n",
       "      <th>2115</th>\n",
       "      <td>SPORTY TIE-DYE T-SHIRT</td>\n",
       "      <td>Sporty tie-dye fabric T-shirt featuring a roun...</td>\n",
       "      <td>1.0</td>\n",
       "      <td>['SPORTY TIE-DYE T-SHIRT', 'SPORTY T-SHIRT WIT...</td>\n",
       "    </tr>\n",
       "    <tr>\n",
       "      <th>777</th>\n",
       "      <td>SILICONE SERVING SPOON</td>\n",
       "      <td>Silicone serving spoon.</td>\n",
       "      <td>1.0</td>\n",
       "      <td>['SILICONE SERVING SPOON', 'SILK SERVING SPOON...</td>\n",
       "    </tr>\n",
       "    <tr>\n",
       "      <th>780</th>\n",
       "      <td>CHERRY WATERMELON ICE AROMATIC CANDLE 200 G</td>\n",
       "      <td>ZARA CHERRY WATERMELON ICE AROMATIC CANDLE 200...</td>\n",
       "      <td>1.0</td>\n",
       "      <td>['CHERRY WATERMELON ICE AROMATIC CANDLE 200 G'...</td>\n",
       "    </tr>\n",
       "    <tr>\n",
       "      <th>261</th>\n",
       "      <td>OVAL JUTE RUG</td>\n",
       "      <td>Oval jute rug with contrast polka dots.</td>\n",
       "      <td>1.0</td>\n",
       "      <td>['OVAL JUTE RUG', 'OVAL JUTE RUG WITH POLKA DO...</td>\n",
       "    </tr>\n",
       "    <tr>\n",
       "      <th>...</th>\n",
       "      <td>...</td>\n",
       "      <td>...</td>\n",
       "      <td>...</td>\n",
       "      <td>...</td>\n",
       "    </tr>\n",
       "    <tr>\n",
       "      <th>1015</th>\n",
       "      <td>ANIMAL PRINT POPLIN TOP TRF</td>\n",
       "      <td>V-neck crop top with long sleeves and puff sho...</td>\n",
       "      <td>0.0</td>\n",
       "      <td>['PRINTED CROPPED TOP TRF', 'PRINTED CROP TOP ...</td>\n",
       "    </tr>\n",
       "    <tr>\n",
       "      <th>1012</th>\n",
       "      <td>TEXTURED STRIPED TOP</td>\n",
       "      <td>Top featuring a round neckline and ruffled str...</td>\n",
       "      <td>0.0</td>\n",
       "      <td>['STRIPED TOP WITH RUFFLES', 'STRIPED TOP WITH...</td>\n",
       "    </tr>\n",
       "    <tr>\n",
       "      <th>1011</th>\n",
       "      <td>RIBBED ONE-PIECE SUIT</td>\n",
       "      <td>Long sleeve one-piece suit with round neckline...</td>\n",
       "      <td>0.0</td>\n",
       "      <td>['TEXTURED ONE-PIECE SUIT', 'STRIPED ONE-PIECE...</td>\n",
       "    </tr>\n",
       "    <tr>\n",
       "      <th>1010</th>\n",
       "      <td>CONTRASTING BLOUSE WITH DOTTED MESH</td>\n",
       "      <td>Blouse with a puritan collar, velvet trim deta...</td>\n",
       "      <td>0.0</td>\n",
       "      <td>['EMBROIDERED POLKA DOT BLOUSE', 'POLKA DOT BL...</td>\n",
       "    </tr>\n",
       "    <tr>\n",
       "      <th>2632</th>\n",
       "      <td>KNIT PENGUIN MITTENS</td>\n",
       "      <td>Faux fur mittens with button fastening.</td>\n",
       "      <td>0.0</td>\n",
       "      <td>['FAUX FUR MITTENS', 'FAUX FUR MITTENS WITH BU...</td>\n",
       "    </tr>\n",
       "  </tbody>\n",
       "</table>\n",
       "<p>2633 rows × 4 columns</p>\n",
       "</div>"
      ],
      "text/plain": [
       "                                             name  \\\n",
       "1316                        WASHED COTTON BLANKET   \n",
       "2115                       SPORTY TIE-DYE T-SHIRT   \n",
       "777                        SILICONE SERVING SPOON   \n",
       "780   CHERRY WATERMELON ICE AROMATIC CANDLE 200 G   \n",
       "261                                 OVAL JUTE RUG   \n",
       "...                                           ...   \n",
       "1015                  ANIMAL PRINT POPLIN TOP TRF   \n",
       "1012                         TEXTURED STRIPED TOP   \n",
       "1011                        RIBBED ONE-PIECE SUIT   \n",
       "1010          CONTRASTING BLOUSE WITH DOTTED MESH   \n",
       "2632                         KNIT PENGUIN MITTENS   \n",
       "\n",
       "                                            description  score  \\\n",
       "1316               Washed cotton blanket with fringing.    1.0   \n",
       "2115  Sporty tie-dye fabric T-shirt featuring a roun...    1.0   \n",
       "777                             Silicone serving spoon.    1.0   \n",
       "780   ZARA CHERRY WATERMELON ICE AROMATIC CANDLE 200...    1.0   \n",
       "261             Oval jute rug with contrast polka dots.    1.0   \n",
       "...                                                 ...    ...   \n",
       "1015  V-neck crop top with long sleeves and puff sho...    0.0   \n",
       "1012  Top featuring a round neckline and ruffled str...    0.0   \n",
       "1011  Long sleeve one-piece suit with round neckline...    0.0   \n",
       "1010  Blouse with a puritan collar, velvet trim deta...    0.0   \n",
       "2632            Faux fur mittens with button fastening.    0.0   \n",
       "\n",
       "                                            predictions  \n",
       "1316  ['WASHED COTTON BLANKET', 'WASHED COTTON BLANK...  \n",
       "2115  ['SPORTY TIE-DYE T-SHIRT', 'SPORTY T-SHIRT WIT...  \n",
       "777   ['SILICONE SERVING SPOON', 'SILK SERVING SPOON...  \n",
       "780   ['CHERRY WATERMELON ICE AROMATIC CANDLE 200 G'...  \n",
       "261   ['OVAL JUTE RUG', 'OVAL JUTE RUG WITH POLKA DO...  \n",
       "...                                                 ...  \n",
       "1015  ['PRINTED CROPPED TOP TRF', 'PRINTED CROP TOP ...  \n",
       "1012  ['STRIPED TOP WITH RUFFLES', 'STRIPED TOP WITH...  \n",
       "1011  ['TEXTURED ONE-PIECE SUIT', 'STRIPED ONE-PIECE...  \n",
       "1010  ['EMBROIDERED POLKA DOT BLOUSE', 'POLKA DOT BL...  \n",
       "2632  ['FAUX FUR MITTENS', 'FAUX FUR MITTENS WITH BU...  \n",
       "\n",
       "[2633 rows x 4 columns]"
      ]
     },
     "execution_count": 8,
     "metadata": {},
     "output_type": "execute_result"
    }
   ],
   "source": [
    "df.sort_values(by=\"score\", ascending=False)"
   ]
  },
  {
   "cell_type": "code",
   "execution_count": 9,
   "metadata": {},
   "outputs": [],
   "source": [
    "lens_0 = [len(text.split(\" \")) for text in df[df[\"score\"]==0][\"description\"].tolist()]"
   ]
  },
  {
   "cell_type": "code",
   "execution_count": 10,
   "metadata": {},
   "outputs": [
    {
     "data": {
      "text/plain": [
       "21.579748163693598"
      ]
     },
     "execution_count": 10,
     "metadata": {},
     "output_type": "execute_result"
    }
   ],
   "source": [
    "sum(lens_0) / len(lens_0)"
   ]
  },
  {
   "cell_type": "code",
   "execution_count": 11,
   "metadata": {},
   "outputs": [],
   "source": [
    "lens_not_0 = [len(text.split(\" \")) for text in df[df[\"score\"]>0][\"description\"].tolist()]"
   ]
  },
  {
   "cell_type": "code",
   "execution_count": 12,
   "metadata": {},
   "outputs": [
    {
     "data": {
      "text/plain": [
       "23.19532324621733"
      ]
     },
     "execution_count": 12,
     "metadata": {},
     "output_type": "execute_result"
    }
   ],
   "source": [
    "sum(lens_not_0) / len(lens_not_0)"
   ]
  },
  {
   "cell_type": "code",
   "execution_count": 13,
   "metadata": {},
   "outputs": [],
   "source": [
    "lens_1 = [len(text.split(\" \")) for text in df[df[\"score\"]==1][\"description\"].tolist()]"
   ]
  },
  {
   "cell_type": "code",
   "execution_count": 14,
   "metadata": {},
   "outputs": [
    {
     "data": {
      "text/plain": [
       "24.623417721518987"
      ]
     },
     "execution_count": 14,
     "metadata": {},
     "output_type": "execute_result"
    }
   ],
   "source": [
    "sum(lens_1) / len(lens_1)"
   ]
  },
  {
   "cell_type": "code",
   "execution_count": 15,
   "metadata": {},
   "outputs": [
    {
     "data": {
      "text/html": [
       "<div>\n",
       "<style scoped>\n",
       "    .dataframe tbody tr th:only-of-type {\n",
       "        vertical-align: middle;\n",
       "    }\n",
       "\n",
       "    .dataframe tbody tr th {\n",
       "        vertical-align: top;\n",
       "    }\n",
       "\n",
       "    .dataframe thead th {\n",
       "        text-align: right;\n",
       "    }\n",
       "</style>\n",
       "<table border=\"1\" class=\"dataframe\">\n",
       "  <thead>\n",
       "    <tr style=\"text-align: right;\">\n",
       "      <th></th>\n",
       "      <th>len</th>\n",
       "    </tr>\n",
       "  </thead>\n",
       "  <tbody>\n",
       "    <tr>\n",
       "      <th>count</th>\n",
       "      <td>1906.000000</td>\n",
       "    </tr>\n",
       "    <tr>\n",
       "      <th>mean</th>\n",
       "      <td>21.579748</td>\n",
       "    </tr>\n",
       "    <tr>\n",
       "      <th>std</th>\n",
       "      <td>19.093861</td>\n",
       "    </tr>\n",
       "    <tr>\n",
       "      <th>min</th>\n",
       "      <td>1.000000</td>\n",
       "    </tr>\n",
       "    <tr>\n",
       "      <th>25%</th>\n",
       "      <td>12.000000</td>\n",
       "    </tr>\n",
       "    <tr>\n",
       "      <th>50%</th>\n",
       "      <td>18.000000</td>\n",
       "    </tr>\n",
       "    <tr>\n",
       "      <th>75%</th>\n",
       "      <td>25.000000</td>\n",
       "    </tr>\n",
       "    <tr>\n",
       "      <th>max</th>\n",
       "      <td>277.000000</td>\n",
       "    </tr>\n",
       "  </tbody>\n",
       "</table>\n",
       "</div>"
      ],
      "text/plain": [
       "               len\n",
       "count  1906.000000\n",
       "mean     21.579748\n",
       "std      19.093861\n",
       "min       1.000000\n",
       "25%      12.000000\n",
       "50%      18.000000\n",
       "75%      25.000000\n",
       "max     277.000000"
      ]
     },
     "execution_count": 15,
     "metadata": {},
     "output_type": "execute_result"
    }
   ],
   "source": [
    "pd.DataFrame({\"len\": lens_0}).describe()"
   ]
  },
  {
   "cell_type": "code",
   "execution_count": 16,
   "metadata": {},
   "outputs": [
    {
     "data": {
      "text/html": [
       "<div>\n",
       "<style scoped>\n",
       "    .dataframe tbody tr th:only-of-type {\n",
       "        vertical-align: middle;\n",
       "    }\n",
       "\n",
       "    .dataframe tbody tr th {\n",
       "        vertical-align: top;\n",
       "    }\n",
       "\n",
       "    .dataframe thead th {\n",
       "        text-align: right;\n",
       "    }\n",
       "</style>\n",
       "<table border=\"1\" class=\"dataframe\">\n",
       "  <thead>\n",
       "    <tr style=\"text-align: right;\">\n",
       "      <th></th>\n",
       "      <th>len</th>\n",
       "    </tr>\n",
       "  </thead>\n",
       "  <tbody>\n",
       "    <tr>\n",
       "      <th>count</th>\n",
       "      <td>727.000000</td>\n",
       "    </tr>\n",
       "    <tr>\n",
       "      <th>mean</th>\n",
       "      <td>23.195323</td>\n",
       "    </tr>\n",
       "    <tr>\n",
       "      <th>std</th>\n",
       "      <td>33.003971</td>\n",
       "    </tr>\n",
       "    <tr>\n",
       "      <th>min</th>\n",
       "      <td>2.000000</td>\n",
       "    </tr>\n",
       "    <tr>\n",
       "      <th>25%</th>\n",
       "      <td>8.000000</td>\n",
       "    </tr>\n",
       "    <tr>\n",
       "      <th>50%</th>\n",
       "      <td>14.000000</td>\n",
       "    </tr>\n",
       "    <tr>\n",
       "      <th>75%</th>\n",
       "      <td>26.000000</td>\n",
       "    </tr>\n",
       "    <tr>\n",
       "      <th>max</th>\n",
       "      <td>284.000000</td>\n",
       "    </tr>\n",
       "  </tbody>\n",
       "</table>\n",
       "</div>"
      ],
      "text/plain": [
       "              len\n",
       "count  727.000000\n",
       "mean    23.195323\n",
       "std     33.003971\n",
       "min      2.000000\n",
       "25%      8.000000\n",
       "50%     14.000000\n",
       "75%     26.000000\n",
       "max    284.000000"
      ]
     },
     "execution_count": 16,
     "metadata": {},
     "output_type": "execute_result"
    }
   ],
   "source": [
    "pd.DataFrame({\"len\": lens_not_0}).describe()"
   ]
  },
  {
   "cell_type": "code",
   "execution_count": 17,
   "metadata": {},
   "outputs": [
    {
     "data": {
      "text/html": [
       "<div>\n",
       "<style scoped>\n",
       "    .dataframe tbody tr th:only-of-type {\n",
       "        vertical-align: middle;\n",
       "    }\n",
       "\n",
       "    .dataframe tbody tr th {\n",
       "        vertical-align: top;\n",
       "    }\n",
       "\n",
       "    .dataframe thead th {\n",
       "        text-align: right;\n",
       "    }\n",
       "</style>\n",
       "<table border=\"1\" class=\"dataframe\">\n",
       "  <thead>\n",
       "    <tr style=\"text-align: right;\">\n",
       "      <th></th>\n",
       "      <th>len</th>\n",
       "    </tr>\n",
       "  </thead>\n",
       "  <tbody>\n",
       "    <tr>\n",
       "      <th>count</th>\n",
       "      <td>316.000000</td>\n",
       "    </tr>\n",
       "    <tr>\n",
       "      <th>mean</th>\n",
       "      <td>24.623418</td>\n",
       "    </tr>\n",
       "    <tr>\n",
       "      <th>std</th>\n",
       "      <td>37.112022</td>\n",
       "    </tr>\n",
       "    <tr>\n",
       "      <th>min</th>\n",
       "      <td>2.000000</td>\n",
       "    </tr>\n",
       "    <tr>\n",
       "      <th>25%</th>\n",
       "      <td>7.000000</td>\n",
       "    </tr>\n",
       "    <tr>\n",
       "      <th>50%</th>\n",
       "      <td>13.500000</td>\n",
       "    </tr>\n",
       "    <tr>\n",
       "      <th>75%</th>\n",
       "      <td>27.000000</td>\n",
       "    </tr>\n",
       "    <tr>\n",
       "      <th>max</th>\n",
       "      <td>284.000000</td>\n",
       "    </tr>\n",
       "  </tbody>\n",
       "</table>\n",
       "</div>"
      ],
      "text/plain": [
       "              len\n",
       "count  316.000000\n",
       "mean    24.623418\n",
       "std     37.112022\n",
       "min      2.000000\n",
       "25%      7.000000\n",
       "50%     13.500000\n",
       "75%     27.000000\n",
       "max    284.000000"
      ]
     },
     "execution_count": 17,
     "metadata": {},
     "output_type": "execute_result"
    }
   ],
   "source": [
    "pd.DataFrame({\"len\": lens_1}).describe()"
   ]
  },
  {
   "cell_type": "code",
   "execution_count": 18,
   "metadata": {},
   "outputs": [],
   "source": [
    "test = pd.read_csv(\"test.csv\")"
   ]
  },
  {
   "cell_type": "code",
   "execution_count": 19,
   "metadata": {},
   "outputs": [],
   "source": [
    "lens_test = [len(text.split(\" \")) for text in test[\"description\"].tolist()]"
   ]
  },
  {
   "cell_type": "code",
   "execution_count": 20,
   "metadata": {},
   "outputs": [
    {
     "data": {
      "text/html": [
       "<div>\n",
       "<style scoped>\n",
       "    .dataframe tbody tr th:only-of-type {\n",
       "        vertical-align: middle;\n",
       "    }\n",
       "\n",
       "    .dataframe tbody tr th {\n",
       "        vertical-align: top;\n",
       "    }\n",
       "\n",
       "    .dataframe thead th {\n",
       "        text-align: right;\n",
       "    }\n",
       "</style>\n",
       "<table border=\"1\" class=\"dataframe\">\n",
       "  <thead>\n",
       "    <tr style=\"text-align: right;\">\n",
       "      <th></th>\n",
       "      <th>len</th>\n",
       "    </tr>\n",
       "  </thead>\n",
       "  <tbody>\n",
       "    <tr>\n",
       "      <th>count</th>\n",
       "      <td>1441.000000</td>\n",
       "    </tr>\n",
       "    <tr>\n",
       "      <th>mean</th>\n",
       "      <td>24.238723</td>\n",
       "    </tr>\n",
       "    <tr>\n",
       "      <th>std</th>\n",
       "      <td>19.201669</td>\n",
       "    </tr>\n",
       "    <tr>\n",
       "      <th>min</th>\n",
       "      <td>2.000000</td>\n",
       "    </tr>\n",
       "    <tr>\n",
       "      <th>25%</th>\n",
       "      <td>11.000000</td>\n",
       "    </tr>\n",
       "    <tr>\n",
       "      <th>50%</th>\n",
       "      <td>20.000000</td>\n",
       "    </tr>\n",
       "    <tr>\n",
       "      <th>75%</th>\n",
       "      <td>34.000000</td>\n",
       "    </tr>\n",
       "    <tr>\n",
       "      <th>max</th>\n",
       "      <td>236.000000</td>\n",
       "    </tr>\n",
       "  </tbody>\n",
       "</table>\n",
       "</div>"
      ],
      "text/plain": [
       "               len\n",
       "count  1441.000000\n",
       "mean     24.238723\n",
       "std      19.201669\n",
       "min       2.000000\n",
       "25%      11.000000\n",
       "50%      20.000000\n",
       "75%      34.000000\n",
       "max     236.000000"
      ]
     },
     "execution_count": 20,
     "metadata": {},
     "output_type": "execute_result"
    }
   ],
   "source": [
    "pd.DataFrame({\"len\": lens_test}).describe()"
   ]
  },
  {
   "cell_type": "code",
   "execution_count": 21,
   "metadata": {},
   "outputs": [],
   "source": [
    "train = pd.read_csv(\"train_0802.csv\")"
   ]
  },
  {
   "cell_type": "code",
   "execution_count": 60,
   "metadata": {},
   "outputs": [
    {
     "data": {
      "text/plain": [
       "Pipeline(steps=[('vectorizer',\n",
       "                 CountVectorizer(max_df=0.5, max_features=10000, min_df=10,\n",
       "                                 stop_words=['i', 'me', 'my', 'myself', 'we',\n",
       "                                             'our', 'ours', 'ourselves', 'you',\n",
       "                                             \"you're\", \"you've\", \"you'll\",\n",
       "                                             \"you'd\", 'your', 'yours',\n",
       "                                             'yourself', 'yourselves', 'he',\n",
       "                                             'him', 'his', 'himself', 'she',\n",
       "                                             \"she's\", 'her', 'hers', 'herself',\n",
       "                                             'it', \"it's\", 'its', 'itself', ...])),\n",
       "                ('model',\n",
       "                 LatentDirichletAllocation(n_components=5, n_jobs=-1))])"
      ]
     },
     "execution_count": 60,
     "metadata": {},
     "output_type": "execute_result"
    }
   ],
   "source": [
    "pipe.fit(train[\"description\"])"
   ]
  },
  {
   "cell_type": "code",
   "execution_count": 61,
   "metadata": {},
   "outputs": [
    {
     "data": {
      "text/plain": [
       "array([[  0.20000064,   0.20000069,   0.20000058, ...,  11.18238149,\n",
       "        111.10643627,   0.20002103],\n",
       "       [  0.20170391,   0.20380271,   0.20066597, ...,   0.20007675,\n",
       "          0.20007155,   0.20046263],\n",
       "       [  5.49680909,  24.19619224,  18.19932961, ...,   0.20000504,\n",
       "          0.20037174,  14.19720489],\n",
       "       [  9.90107872,   0.20000229,   0.20000201, ...,   0.20000684,\n",
       "          0.21242038,   0.20021553],\n",
       "       [  0.20040764,   0.20000207,   0.20000183, ...,   1.21752988,\n",
       "         15.28070006,   0.20209591]])"
      ]
     },
     "execution_count": 61,
     "metadata": {},
     "output_type": "execute_result"
    }
   ],
   "source": [
    "pipe[\"model\"].components_"
   ]
  },
  {
   "cell_type": "code",
   "execution_count": 62,
   "metadata": {},
   "outputs": [],
   "source": [
    "import matplotlib.pyplot as plt\n",
    "\n",
    "from sklearn.feature_extraction.text import TfidfVectorizer, CountVectorizer\n",
    "from sklearn.decomposition import NMF, LatentDirichletAllocation\n",
    "from sklearn.datasets import fetch_20newsgroups\n",
    "\n",
    "n_samples = 2000\n",
    "n_features = 1000\n",
    "n_components = 30\n",
    "n_top_words = 20\n",
    "\n",
    "\n",
    "def plot_top_words(model, feature_names, n_top_words, title):\n",
    "    fig, axes = plt.subplots(2, 5, figsize=(30, 15), sharex=True)\n",
    "    axes = axes.flatten()\n",
    "    for topic_idx, topic in enumerate(model.components_):\n",
    "        top_features_ind = topic.argsort()[:-n_top_words - 1:-1]\n",
    "        top_features = [feature_names[i] for i in top_features_ind]\n",
    "        weights = topic[top_features_ind]\n",
    "\n",
    "        ax = axes[topic_idx]\n",
    "        ax.barh(top_features, weights, height=0.7)\n",
    "        ax.set_title(f'Topic {topic_idx +1}',\n",
    "                     fontdict={'fontsize': 30})\n",
    "        ax.invert_yaxis()\n",
    "        ax.tick_params(axis='both', which='major', labelsize=20)\n",
    "        for i in 'top right left'.split():\n",
    "            ax.spines[i].set_visible(False)\n",
    "        fig.suptitle(title, fontsize=40)\n",
    "\n",
    "    plt.subplots_adjust(top=0.90, bottom=0.05, wspace=0.90, hspace=0.3)\n",
    "    plt.show()"
   ]
  },
  {
   "cell_type": "code",
   "execution_count": 63,
   "metadata": {},
   "outputs": [
    {
     "data": {
      "image/png": "[encoded data removed]",
      "text/plain": [
       "<Figure size 2160x1080 with 10 Axes>"
      ]
     },
     "metadata": {
      "needs_background": "light"
     },
     "output_type": "display_data"
    }
   ],
   "source": [
    "tf_feature_names = pipe[\"vectorizer\"].get_feature_names()\n",
    "plot_top_words(pipe[\"model\"], tf_feature_names, n_top_words, 'Topics in LDA model')"
   ]
  },
  {
   "cell_type": "code",
   "execution_count": 64,
   "metadata": {},
   "outputs": [],
   "source": [
    "preds_val = pipe.transform(df[\"description\"])"
   ]
  },
  {
   "cell_type": "code",
   "execution_count": 65,
   "metadata": {},
   "outputs": [],
   "source": [
    "df[\"topic\"] = preds_val.argmax(-1)"
   ]
  },
  {
   "cell_type": "code",
   "execution_count": 66,
   "metadata": {},
   "outputs": [
    {
     "data": {
      "text/plain": [
       "topic\n",
       "0    0.080079\n",
       "1    0.383937\n",
       "2    0.191164\n",
       "3    0.169775\n",
       "4    0.230013\n",
       "Name: score, dtype: float64"
      ]
     },
     "execution_count": 66,
     "metadata": {},
     "output_type": "execute_result"
    }
   ],
   "source": [
    "df.groupby(\"topic\")[\"score\"].mean()"
   ]
  },
  {
   "cell_type": "code",
   "execution_count": 67,
   "metadata": {},
   "outputs": [
    {
     "data": {
      "text/html": [
       "<div>\n",
       "<style scoped>\n",
       "    .dataframe tbody tr th:only-of-type {\n",
       "        vertical-align: middle;\n",
       "    }\n",
       "\n",
       "    .dataframe tbody tr th {\n",
       "        vertical-align: top;\n",
       "    }\n",
       "\n",
       "    .dataframe thead th {\n",
       "        text-align: right;\n",
       "    }\n",
       "</style>\n",
       "<table border=\"1\" class=\"dataframe\">\n",
       "  <thead>\n",
       "    <tr style=\"text-align: right;\">\n",
       "      <th></th>\n",
       "      <th>name</th>\n",
       "      <th>description</th>\n",
       "      <th>score</th>\n",
       "      <th>predictions</th>\n",
       "    </tr>\n",
       "    <tr>\n",
       "      <th>topic</th>\n",
       "      <th></th>\n",
       "      <th></th>\n",
       "      <th></th>\n",
       "      <th></th>\n",
       "    </tr>\n",
       "  </thead>\n",
       "  <tbody>\n",
       "    <tr>\n",
       "      <th>0</th>\n",
       "      <td>0.364603</td>\n",
       "      <td>0.364603</td>\n",
       "      <td>0.364603</td>\n",
       "      <td>0.364603</td>\n",
       "    </tr>\n",
       "    <tr>\n",
       "      <th>1</th>\n",
       "      <td>0.216483</td>\n",
       "      <td>0.216483</td>\n",
       "      <td>0.216483</td>\n",
       "      <td>0.216483</td>\n",
       "    </tr>\n",
       "    <tr>\n",
       "      <th>2</th>\n",
       "      <td>0.225218</td>\n",
       "      <td>0.225218</td>\n",
       "      <td>0.225218</td>\n",
       "      <td>0.225218</td>\n",
       "    </tr>\n",
       "    <tr>\n",
       "      <th>3</th>\n",
       "      <td>0.104444</td>\n",
       "      <td>0.104444</td>\n",
       "      <td>0.104444</td>\n",
       "      <td>0.104444</td>\n",
       "    </tr>\n",
       "    <tr>\n",
       "      <th>4</th>\n",
       "      <td>0.089252</td>\n",
       "      <td>0.089252</td>\n",
       "      <td>0.089252</td>\n",
       "      <td>0.089252</td>\n",
       "    </tr>\n",
       "  </tbody>\n",
       "</table>\n",
       "</div>"
      ],
      "text/plain": [
       "           name  description     score  predictions\n",
       "topic                                              \n",
       "0      0.364603     0.364603  0.364603     0.364603\n",
       "1      0.216483     0.216483  0.216483     0.216483\n",
       "2      0.225218     0.225218  0.225218     0.225218\n",
       "3      0.104444     0.104444  0.104444     0.104444\n",
       "4      0.089252     0.089252  0.089252     0.089252"
      ]
     },
     "execution_count": 67,
     "metadata": {},
     "output_type": "execute_result"
    }
   ],
   "source": [
    "df.groupby(\"topic\").count() / df.shape[0]"
   ]
  },
  {
   "cell_type": "code",
   "execution_count": 68,
   "metadata": {},
   "outputs": [],
   "source": [
    "test[\"topic\"] = pipe.transform(test[\"description\"]).argmax(-1)"
   ]
  },
  {
   "cell_type": "code",
   "execution_count": 69,
   "metadata": {},
   "outputs": [
    {
     "data": {
      "text/html": [
       "<div>\n",
       "<style scoped>\n",
       "    .dataframe tbody tr th:only-of-type {\n",
       "        vertical-align: middle;\n",
       "    }\n",
       "\n",
       "    .dataframe tbody tr th {\n",
       "        vertical-align: top;\n",
       "    }\n",
       "\n",
       "    .dataframe thead th {\n",
       "        text-align: right;\n",
       "    }\n",
       "</style>\n",
       "<table border=\"1\" class=\"dataframe\">\n",
       "  <thead>\n",
       "    <tr style=\"text-align: right;\">\n",
       "      <th></th>\n",
       "      <th>description</th>\n",
       "      <th>name</th>\n",
       "    </tr>\n",
       "    <tr>\n",
       "      <th>topic</th>\n",
       "      <th></th>\n",
       "      <th></th>\n",
       "    </tr>\n",
       "  </thead>\n",
       "  <tbody>\n",
       "    <tr>\n",
       "      <th>0</th>\n",
       "      <td>0.058293</td>\n",
       "      <td>0.058293</td>\n",
       "    </tr>\n",
       "    <tr>\n",
       "      <th>1</th>\n",
       "      <td>0.362942</td>\n",
       "      <td>0.362942</td>\n",
       "    </tr>\n",
       "    <tr>\n",
       "      <th>2</th>\n",
       "      <td>0.093685</td>\n",
       "      <td>0.093685</td>\n",
       "    </tr>\n",
       "    <tr>\n",
       "      <th>3</th>\n",
       "      <td>0.362248</td>\n",
       "      <td>0.362248</td>\n",
       "    </tr>\n",
       "    <tr>\n",
       "      <th>4</th>\n",
       "      <td>0.122831</td>\n",
       "      <td>0.122831</td>\n",
       "    </tr>\n",
       "  </tbody>\n",
       "</table>\n",
       "</div>"
      ],
      "text/plain": [
       "       description      name\n",
       "topic                       \n",
       "0         0.058293  0.058293\n",
       "1         0.362942  0.362942\n",
       "2         0.093685  0.093685\n",
       "3         0.362248  0.362248\n",
       "4         0.122831  0.122831"
      ]
     },
     "execution_count": 69,
     "metadata": {},
     "output_type": "execute_result"
    }
   ],
   "source": [
    "test.groupby(\"topic\").count() / test.shape[0]"
   ]
  },
  {
   "cell_type": "code",
   "execution_count": 70,
   "metadata": {},
   "outputs": [
    {
     "data": {
      "text/plain": [
       "['(200 G) WILD BAMBOO SCENTED CANDLE',\n",
       " 'CHAI TEA SCENTED CANDLE (250 G)',\n",
       " 'BASILICUM SCENTED CANDLE (500 G)',\n",
       " 'CUIR NUIT SCENTED CANDLE (180 G)',\n",
       " 'ESSENCE DE ROSE SCENTED CANDLE',\n",
       " 'WHITE JASMINE SCENTED CARDS',\n",
       " 'CHIMNEY SCENTED CANDLE (550 G)',\n",
       " 'CEDAR WOOD SCENTED REED DIFFUSERS (1.69\\xa0oz)',\n",
       " 'CURIOUS FORTUNE SCENTED CANDLE',\n",
       " 'GREEN HERBS SCENTED CANDLE (620 G)',\n",
       " 'SCENTED LINEN BAG',\n",
       " 'CUIR NUIT SCENTED CANDLE (500 G)',\n",
       " 'ETERNAL MUSK SCENTED REED DIFFUSERS (3.38\\xa0oz)',\n",
       " 'PALO SANTO SCENTED CANDLE (500 G)',\n",
       " 'GREEN HERBS SCENTED CANDLE (200 G)',\n",
       " 'SCENTED CARDS CONVERSATIONS AT 10 PM',\n",
       " 'ABSOLUTE LINEN SCENTED CANDLE (190 G)',\n",
       " 'RED BERRIES SCENTED CANDLE']"
      ]
     },
     "execution_count": 70,
     "metadata": {},
     "output_type": "execute_result"
    }
   ],
   "source": [
    "[name for name in df[\"name\"] if \"scented\" in name.lower()]"
   ]
  },
  {
   "cell_type": "code",
   "execution_count": null,
   "metadata": {},
   "outputs": [],
   "source": []
  }
 ],
 "metadata": {
  "kernelspec": {
   "display_name": "Python [conda env:spainai_hackaton] *",
   "language": "python",
   "name": "conda-env-spainai_hackaton-py"
  },
  "language_info": {
   "codemirror_mode": {
    "name": "ipython",
    "version": 3
   },
   "file_extension": ".py",
   "mimetype": "text/x-python",
   "name": "python",
   "nbconvert_exporter": "python",
   "pygments_lexer": "ipython3",
   "version": "3.7.9"
  }
 },
 "nbformat": 4,
 "nbformat_minor": 4
}
