{
 "cells": [
  {
   "cell_type": "code",
   "execution_count": 23,
   "metadata": {},
   "outputs": [],
   "source": [
    "import pandas as pd\n",
    "from get_submission import clean_text\n",
    "from tqdm import tqdm"
   ]
  },
  {
   "cell_type": "code",
   "execution_count": 24,
   "metadata": {},
   "outputs": [],
   "source": [
    "train = pd.read_csv(\"train.csv\")"
   ]
  },
  {
   "cell_type": "code",
   "execution_count": 25,
   "metadata": {},
   "outputs": [],
   "source": [
    "train[\"description\"] = train[\"description\"].apply(clean_text)"
   ]
  },
  {
   "cell_type": "code",
   "execution_count": 26,
   "metadata": {},
   "outputs": [],
   "source": [
    "train[\"len\"] = train[\"description\"].apply(lambda x: len(x.split(\" \")))"
   ]
  },
  {
   "cell_type": "code",
   "execution_count": 27,
   "metadata": {},
   "outputs": [
    {
     "data": {
      "text/plain": [
       "<AxesSubplot:>"
      ]
     },
     "execution_count": 27,
     "metadata": {},
     "output_type": "execute_result"
    },
    {
     "data": {
      "image/png": "[encoded data removed]",
      "text/plain": [
       "<Figure size 432x288 with 1 Axes>"
      ]
     },
     "metadata": {
      "needs_background": "light"
     },
     "output_type": "display_data"
    }
   ],
   "source": [
    "train[\"len\"].hist()"
   ]
  },
  {
   "cell_type": "code",
   "execution_count": null,
   "metadata": {},
   "outputs": [],
   "source": []
  },
  {
   "cell_type": "code",
   "execution_count": 28,
   "metadata": {},
   "outputs": [
    {
     "name": "stderr",
     "output_type": "stream",
     "text": [
      "iterating over rows...: 33613it [00:07, 4697.88it/s]\n"
     ]
    }
   ],
   "source": [
    "are_equal = []\n",
    "for _, row in tqdm(train.iterrows(), desc=\"iterating over rows...\"):\n",
    "    are_equal.append(\n",
    "        \" \".join(row[\"description\"].split(\" \")[:3]).lower() == row[\"name\"].lower()  # .split(\"with\")[0].lower()\n",
    "    )"
   ]
  },
  {
   "cell_type": "code",
   "execution_count": 29,
   "metadata": {},
   "outputs": [
    {
     "data": {
      "text/plain": [
       "366"
      ]
     },
     "execution_count": 29,
     "metadata": {},
     "output_type": "execute_result"
    }
   ],
   "source": [
    "sum(are_equal)"
   ]
  },
  {
   "cell_type": "code",
   "execution_count": 9,
   "metadata": {},
   "outputs": [
    {
     "data": {
      "text/plain": [
       "158"
      ]
     },
     "execution_count": 9,
     "metadata": {},
     "output_type": "execute_result"
    }
   ],
   "source": [
    "sum(are_equal)"
   ]
  },
  {
   "cell_type": "code",
   "execution_count": 32,
   "metadata": {},
   "outputs": [],
   "source": [
    "train[\"are_equal\"] = are_equal"
   ]
  },
  {
   "cell_type": "code",
   "execution_count": 33,
   "metadata": {},
   "outputs": [
    {
     "data": {
      "text/plain": [
       "are_equal\n",
       "False    20.922519\n",
       "True     16.243169\n",
       "Name: len, dtype: float64"
      ]
     },
     "execution_count": 33,
     "metadata": {},
     "output_type": "execute_result"
    }
   ],
   "source": [
    "train.groupby(\"are_equal\")[\"len\"].mean()"
   ]
  },
  {
   "cell_type": "code",
   "execution_count": 51,
   "metadata": {},
   "outputs": [],
   "source": [
    "words = [word for text in train[train[\"are_equal\"]][\"description\"] for word in text.split(\" \")[:3]]"
   ]
  },
  {
   "cell_type": "code",
   "execution_count": 42,
   "metadata": {},
   "outputs": [],
   "source": [
    "#train[\"are_words\"] = [all([len(word) == 3 for word in text[:3].split(\" \")]) for text in train[\"description\"]]"
   ]
  },
  {
   "cell_type": "code",
   "execution_count": null,
   "metadata": {},
   "outputs": [],
   "source": []
  },
  {
   "cell_type": "code",
   "execution_count": 53,
   "metadata": {},
   "outputs": [
    {
     "name": "stderr",
     "output_type": "stream",
     "text": [
      "33613it [00:06, 5017.03it/s]\n"
     ]
    }
   ],
   "source": [
    "are_words = []\n",
    "\n",
    "for i, row in tqdm(train.iterrows()):\n",
    "    desc_3_first = row[\"description\"].split(\" \")[:3]\n",
    "    are_words.append(all([len(word)==3 for word in desc_3_first]))"
   ]
  },
  {
   "cell_type": "code",
   "execution_count": 49,
   "metadata": {},
   "outputs": [
    {
     "data": {
      "text/plain": [
       "33551"
      ]
     },
     "execution_count": 49,
     "metadata": {},
     "output_type": "execute_result"
    }
   ],
   "source": [
    "sum(are_words)"
   ]
  },
  {
   "cell_type": "code",
   "execution_count": 43,
   "metadata": {},
   "outputs": [],
   "source": [
    "train_words = train[train[\"are_words\"]]"
   ]
  },
  {
   "cell_type": "code",
   "execution_count": 44,
   "metadata": {},
   "outputs": [
    {
     "data": {
      "text/plain": [
       "(33551, 5)"
      ]
     },
     "execution_count": 44,
     "metadata": {},
     "output_type": "execute_result"
    }
   ],
   "source": [
    "train_words.shape"
   ]
  },
  {
   "cell_type": "code",
   "execution_count": 45,
   "metadata": {},
   "outputs": [
    {
     "data": {
      "text/html": [
       "<div>\n",
       "<style scoped>\n",
       "    .dataframe tbody tr th:only-of-type {\n",
       "        vertical-align: middle;\n",
       "    }\n",
       "\n",
       "    .dataframe tbody tr th {\n",
       "        vertical-align: top;\n",
       "    }\n",
       "\n",
       "    .dataframe thead th {\n",
       "        text-align: right;\n",
       "    }\n",
       "</style>\n",
       "<table border=\"1\" class=\"dataframe\">\n",
       "  <thead>\n",
       "    <tr style=\"text-align: right;\">\n",
       "      <th></th>\n",
       "      <th>name</th>\n",
       "      <th>description</th>\n",
       "      <th>len</th>\n",
       "      <th>are_equal</th>\n",
       "      <th>are_words</th>\n",
       "    </tr>\n",
       "  </thead>\n",
       "  <tbody>\n",
       "    <tr>\n",
       "      <th>0</th>\n",
       "      <td>CROPPED JACKET TRF</td>\n",
       "      <td>Jacket made of a technical fabric with texture...</td>\n",
       "      <td>19</td>\n",
       "      <td>False</td>\n",
       "      <td>True</td>\n",
       "    </tr>\n",
       "    <tr>\n",
       "      <th>1</th>\n",
       "      <td>OVERSIZED SHIRT WITH POCKET TRF</td>\n",
       "      <td>Oversized long sleeve shirt with a round colla...</td>\n",
       "      <td>17</td>\n",
       "      <td>False</td>\n",
       "      <td>True</td>\n",
       "    </tr>\n",
       "    <tr>\n",
       "      <th>2</th>\n",
       "      <td>TECHNICAL TROUSERS TRF</td>\n",
       "      <td>High-waist trousers with a matching elastic wa...</td>\n",
       "      <td>11</td>\n",
       "      <td>False</td>\n",
       "      <td>True</td>\n",
       "    </tr>\n",
       "    <tr>\n",
       "      <th>3</th>\n",
       "      <td>SHIRT DRESS</td>\n",
       "      <td>Collared dress featuring sleeves falling below...</td>\n",
       "      <td>23</td>\n",
       "      <td>False</td>\n",
       "      <td>True</td>\n",
       "    </tr>\n",
       "    <tr>\n",
       "      <th>4</th>\n",
       "      <td>PUFF SLEEVE DRESS WITH PLEATS TRF</td>\n",
       "      <td>Loose-fitting midi dress with a round neckline...</td>\n",
       "      <td>28</td>\n",
       "      <td>False</td>\n",
       "      <td>True</td>\n",
       "    </tr>\n",
       "  </tbody>\n",
       "</table>\n",
       "</div>"
      ],
      "text/plain": [
       "                                name  \\\n",
       "0                 CROPPED JACKET TRF   \n",
       "1    OVERSIZED SHIRT WITH POCKET TRF   \n",
       "2             TECHNICAL TROUSERS TRF   \n",
       "3                        SHIRT DRESS   \n",
       "4  PUFF SLEEVE DRESS WITH PLEATS TRF   \n",
       "\n",
       "                                         description  len  are_equal  \\\n",
       "0  Jacket made of a technical fabric with texture...   19      False   \n",
       "1  Oversized long sleeve shirt with a round colla...   17      False   \n",
       "2  High-waist trousers with a matching elastic wa...   11      False   \n",
       "3  Collared dress featuring sleeves falling below...   23      False   \n",
       "4  Loose-fitting midi dress with a round neckline...   28      False   \n",
       "\n",
       "   are_words  \n",
       "0       True  \n",
       "1       True  \n",
       "2       True  \n",
       "3       True  \n",
       "4       True  "
      ]
     },
     "execution_count": 45,
     "metadata": {},
     "output_type": "execute_result"
    }
   ],
   "source": [
    "train.head()"
   ]
  },
  {
   "cell_type": "code",
   "execution_count": 37,
   "metadata": {},
   "outputs": [],
   "source": [
    "train_equal = train[train[\"are_equal\"]].reset_index(drop=True)"
   ]
  },
  {
   "cell_type": "code",
   "execution_count": 58,
   "metadata": {},
   "outputs": [
    {
     "data": {
      "text/plain": [
       "176"
      ]
     },
     "execution_count": 58,
     "metadata": {},
     "output_type": "execute_result"
    }
   ],
   "source": [
    "train[train[\"len\"] <= 10][\"are_equal\"].sum()"
   ]
  },
  {
   "cell_type": "code",
   "execution_count": 68,
   "metadata": {},
   "outputs": [
    {
     "data": {
      "text/plain": [
       "0.09645077797280814"
      ]
     },
     "execution_count": 68,
     "metadata": {},
     "output_type": "execute_result"
    }
   ],
   "source": [
    "train[train[\"len\"] <= 7].shape[0] / train.shape[0]"
   ]
  },
  {
   "cell_type": "code",
   "execution_count": 60,
   "metadata": {},
   "outputs": [
    {
     "data": {
      "text/plain": [
       "0.02556653108657757"
      ]
     },
     "execution_count": 60,
     "metadata": {},
     "output_type": "execute_result"
    }
   ],
   "source": [
    "176 / 6884"
   ]
  },
  {
   "cell_type": "code",
   "execution_count": 61,
   "metadata": {},
   "outputs": [],
   "source": [
    "test = pd.read_csv(\"test.csv\")"
   ]
  },
  {
   "cell_type": "code",
   "execution_count": 62,
   "metadata": {},
   "outputs": [],
   "source": [
    "test[\"len\"] = test[\"description\"].apply(lambda x: len(x.split(\" \")))"
   ]
  },
  {
   "cell_type": "code",
   "execution_count": 69,
   "metadata": {},
   "outputs": [
    {
     "data": {
      "text/plain": [
       "0.13809854267869534"
      ]
     },
     "execution_count": 69,
     "metadata": {},
     "output_type": "execute_result"
    }
   ],
   "source": [
    "test[test[\"len\"] <= 7].shape[0] / test.shape[0]"
   ]
  },
  {
   "cell_type": "code",
   "execution_count": 70,
   "metadata": {},
   "outputs": [
    {
     "data": {
      "text/html": [
       "<div>\n",
       "<style scoped>\n",
       "    .dataframe tbody tr th:only-of-type {\n",
       "        vertical-align: middle;\n",
       "    }\n",
       "\n",
       "    .dataframe tbody tr th {\n",
       "        vertical-align: top;\n",
       "    }\n",
       "\n",
       "    .dataframe thead th {\n",
       "        text-align: right;\n",
       "    }\n",
       "</style>\n",
       "<table border=\"1\" class=\"dataframe\">\n",
       "  <thead>\n",
       "    <tr style=\"text-align: right;\">\n",
       "      <th></th>\n",
       "      <th>description</th>\n",
       "      <th>name</th>\n",
       "      <th>len</th>\n",
       "    </tr>\n",
       "  </thead>\n",
       "  <tbody>\n",
       "    <tr>\n",
       "      <th>17</th>\n",
       "      <td>Bucket hat with band detail.</td>\n",
       "      <td>Bucket hat with band detail.</td>\n",
       "      <td>5</td>\n",
       "    </tr>\n",
       "    <tr>\n",
       "      <th>62</th>\n",
       "      <td>Pleated skirt with elastic waistband.</td>\n",
       "      <td>Pleated skirt with elastic waistband.</td>\n",
       "      <td>6</td>\n",
       "    </tr>\n",
       "    <tr>\n",
       "      <th>63</th>\n",
       "      <td>Short sleeve T-shirt with a V-neckline.</td>\n",
       "      <td>Short sleeve T-shirt with a V-neckline.</td>\n",
       "      <td>7</td>\n",
       "    </tr>\n",
       "    <tr>\n",
       "      <th>64</th>\n",
       "      <td>Short sleeve T-shirt with a V-neckline.</td>\n",
       "      <td>Short sleeve T-shirt with a V-neckline.</td>\n",
       "      <td>7</td>\n",
       "    </tr>\n",
       "    <tr>\n",
       "      <th>65</th>\n",
       "      <td>V-neck T-shirt with short sleeves.</td>\n",
       "      <td>V-neck T-shirt with short sleeves.</td>\n",
       "      <td>6</td>\n",
       "    </tr>\n",
       "    <tr>\n",
       "      <th>...</th>\n",
       "      <td>...</td>\n",
       "      <td>...</td>\n",
       "      <td>...</td>\n",
       "    </tr>\n",
       "    <tr>\n",
       "      <th>1426</th>\n",
       "      <td>Thick linen curtain</td>\n",
       "      <td>Thick linen curtain</td>\n",
       "      <td>3</td>\n",
       "    </tr>\n",
       "    <tr>\n",
       "      <th>1427</th>\n",
       "      <td>Melange-effect blanket with fringing.</td>\n",
       "      <td>Melange-effect blanket with fringing.</td>\n",
       "      <td>4</td>\n",
       "    </tr>\n",
       "    <tr>\n",
       "      <th>1433</th>\n",
       "      <td>Red fuzzy cushion cover.</td>\n",
       "      <td>Red fuzzy cushion cover.</td>\n",
       "      <td>4</td>\n",
       "    </tr>\n",
       "    <tr>\n",
       "      <th>1435</th>\n",
       "      <td>Square cushion featuring an all-over holly print.</td>\n",
       "      <td>Square cushion featuring an all-over holly print.</td>\n",
       "      <td>7</td>\n",
       "    </tr>\n",
       "    <tr>\n",
       "      <th>1437</th>\n",
       "      <td>Rectangular cushion featuring a gnome print.</td>\n",
       "      <td>Rectangular cushion featuring a gnome print.</td>\n",
       "      <td>6</td>\n",
       "    </tr>\n",
       "  </tbody>\n",
       "</table>\n",
       "<p>199 rows × 3 columns</p>\n",
       "</div>"
      ],
      "text/plain": [
       "                                            description  \\\n",
       "17                         Bucket hat with band detail.   \n",
       "62               Pleated skirt with elastic waistband.    \n",
       "63             Short sleeve T-shirt with a V-neckline.    \n",
       "64             Short sleeve T-shirt with a V-neckline.    \n",
       "65                  V-neck T-shirt with short sleeves.    \n",
       "...                                                 ...   \n",
       "1426                                Thick linen curtain   \n",
       "1427              Melange-effect blanket with fringing.   \n",
       "1433                           Red fuzzy cushion cover.   \n",
       "1435  Square cushion featuring an all-over holly print.   \n",
       "1437       Rectangular cushion featuring a gnome print.   \n",
       "\n",
       "                                                   name  len  \n",
       "17                         Bucket hat with band detail.    5  \n",
       "62               Pleated skirt with elastic waistband.     6  \n",
       "63             Short sleeve T-shirt with a V-neckline.     7  \n",
       "64             Short sleeve T-shirt with a V-neckline.     7  \n",
       "65                  V-neck T-shirt with short sleeves.     6  \n",
       "...                                                 ...  ...  \n",
       "1426                                Thick linen curtain    3  \n",
       "1427              Melange-effect blanket with fringing.    4  \n",
       "1433                           Red fuzzy cushion cover.    4  \n",
       "1435  Square cushion featuring an all-over holly print.    7  \n",
       "1437       Rectangular cushion featuring a gnome print.    6  \n",
       "\n",
       "[199 rows x 3 columns]"
      ]
     },
     "execution_count": 70,
     "metadata": {},
     "output_type": "execute_result"
    }
   ],
   "source": [
    "test[test[\"len\"] <= 7]"
   ]
  },
  {
   "cell_type": "code",
   "execution_count": 72,
   "metadata": {},
   "outputs": [],
   "source": [
    "test_are_in_train = test[test[\"description\"].isin(train[\"description\"])]"
   ]
  },
  {
   "cell_type": "code",
   "execution_count": 79,
   "metadata": {},
   "outputs": [
    {
     "data": {
      "text/plain": [
       "(136, 3)"
      ]
     },
     "execution_count": 79,
     "metadata": {},
     "output_type": "execute_result"
    }
   ],
   "source": [
    "test_are_in_train.shape"
   ]
  },
  {
   "cell_type": "code",
   "execution_count": 86,
   "metadata": {},
   "outputs": [
    {
     "data": {
      "text/html": [
       "<div>\n",
       "<style scoped>\n",
       "    .dataframe tbody tr th:only-of-type {\n",
       "        vertical-align: middle;\n",
       "    }\n",
       "\n",
       "    .dataframe tbody tr th {\n",
       "        vertical-align: top;\n",
       "    }\n",
       "\n",
       "    .dataframe thead th {\n",
       "        text-align: right;\n",
       "    }\n",
       "</style>\n",
       "<table border=\"1\" class=\"dataframe\">\n",
       "  <thead>\n",
       "    <tr style=\"text-align: right;\">\n",
       "      <th></th>\n",
       "      <th>description</th>\n",
       "      <th>name</th>\n",
       "      <th>len</th>\n",
       "    </tr>\n",
       "  </thead>\n",
       "  <tbody>\n",
       "    <tr>\n",
       "      <th>30</th>\n",
       "      <td>Long sleeve T-shirt with a round neckline.</td>\n",
       "      <td>Long sleeve T-shirt with a round neckline.</td>\n",
       "      <td>8</td>\n",
       "    </tr>\n",
       "    <tr>\n",
       "      <th>40</th>\n",
       "      <td>Short dress with a round neckline, puff sleeve...</td>\n",
       "      <td>Short dress with a round neckline, puff sleeve...</td>\n",
       "      <td>24</td>\n",
       "    </tr>\n",
       "    <tr>\n",
       "      <th>50</th>\n",
       "      <td>Long sleeve knit sweater with a round neckline...</td>\n",
       "      <td>Long sleeve knit sweater with a round neckline...</td>\n",
       "      <td>12</td>\n",
       "    </tr>\n",
       "    <tr>\n",
       "      <th>58</th>\n",
       "      <td>Short sleeve T-shirt with a round neckline.</td>\n",
       "      <td>Short sleeve T-shirt with a round neckline.</td>\n",
       "      <td>8</td>\n",
       "    </tr>\n",
       "    <tr>\n",
       "      <th>62</th>\n",
       "      <td>Pleated skirt with elastic waistband.</td>\n",
       "      <td>Pleated skirt with elastic waistband.</td>\n",
       "      <td>6</td>\n",
       "    </tr>\n",
       "    <tr>\n",
       "      <th>...</th>\n",
       "      <td>...</td>\n",
       "      <td>...</td>\n",
       "      <td>...</td>\n",
       "    </tr>\n",
       "    <tr>\n",
       "      <th>1078</th>\n",
       "      <td>Grey ceramic soap dish.</td>\n",
       "      <td>Grey ceramic soap dish.</td>\n",
       "      <td>4</td>\n",
       "    </tr>\n",
       "    <tr>\n",
       "      <th>1079</th>\n",
       "      <td>Grey ceramic jar with lid.</td>\n",
       "      <td>Grey ceramic jar with lid.</td>\n",
       "      <td>5</td>\n",
       "    </tr>\n",
       "    <tr>\n",
       "      <th>1080</th>\n",
       "      <td>Grey ceramic dispenser.</td>\n",
       "      <td>Grey ceramic dispenser.</td>\n",
       "      <td>3</td>\n",
       "    </tr>\n",
       "    <tr>\n",
       "      <th>1244</th>\n",
       "      <td>Basic plastic placemat with outline. Sold in p...</td>\n",
       "      <td>Basic plastic placemat with outline. Sold in p...</td>\n",
       "      <td>10</td>\n",
       "    </tr>\n",
       "    <tr>\n",
       "      <th>1312</th>\n",
       "      <td>Floral jacquard napkin with lace trim. Sold in...</td>\n",
       "      <td>Floral jacquard napkin with lace trim. Sold in...</td>\n",
       "      <td>16</td>\n",
       "    </tr>\n",
       "  </tbody>\n",
       "</table>\n",
       "<p>136 rows × 3 columns</p>\n",
       "</div>"
      ],
      "text/plain": [
       "                                            description  \\\n",
       "30          Long sleeve T-shirt with a round neckline.    \n",
       "40    Short dress with a round neckline, puff sleeve...   \n",
       "50    Long sleeve knit sweater with a round neckline...   \n",
       "58         Short sleeve T-shirt with a round neckline.    \n",
       "62               Pleated skirt with elastic waistband.    \n",
       "...                                                 ...   \n",
       "1078                            Grey ceramic soap dish.   \n",
       "1079                         Grey ceramic jar with lid.   \n",
       "1080                            Grey ceramic dispenser.   \n",
       "1244  Basic plastic placemat with outline. Sold in p...   \n",
       "1312  Floral jacquard napkin with lace trim. Sold in...   \n",
       "\n",
       "                                                   name  len  \n",
       "30          Long sleeve T-shirt with a round neckline.     8  \n",
       "40    Short dress with a round neckline, puff sleeve...   24  \n",
       "50    Long sleeve knit sweater with a round neckline...   12  \n",
       "58         Short sleeve T-shirt with a round neckline.     8  \n",
       "62               Pleated skirt with elastic waistband.     6  \n",
       "...                                                 ...  ...  \n",
       "1078                            Grey ceramic soap dish.    4  \n",
       "1079                         Grey ceramic jar with lid.    5  \n",
       "1080                            Grey ceramic dispenser.    3  \n",
       "1244  Basic plastic placemat with outline. Sold in p...   10  \n",
       "1312  Floral jacquard napkin with lace trim. Sold in...   16  \n",
       "\n",
       "[136 rows x 3 columns]"
      ]
     },
     "execution_count": 86,
     "metadata": {},
     "output_type": "execute_result"
    }
   ],
   "source": [
    "test[(test[\"description\"].isin(train[\"description\"]))]"
   ]
  },
  {
   "cell_type": "code",
   "execution_count": 91,
   "metadata": {},
   "outputs": [
    {
     "data": {
      "text/html": [
       "<div>\n",
       "<style scoped>\n",
       "    .dataframe tbody tr th:only-of-type {\n",
       "        vertical-align: middle;\n",
       "    }\n",
       "\n",
       "    .dataframe tbody tr th {\n",
       "        vertical-align: top;\n",
       "    }\n",
       "\n",
       "    .dataframe thead th {\n",
       "        text-align: right;\n",
       "    }\n",
       "</style>\n",
       "<table border=\"1\" class=\"dataframe\">\n",
       "  <thead>\n",
       "    <tr style=\"text-align: right;\">\n",
       "      <th></th>\n",
       "      <th>name</th>\n",
       "      <th>description</th>\n",
       "      <th>len</th>\n",
       "      <th>are_equal</th>\n",
       "      <th>are_words</th>\n",
       "    </tr>\n",
       "  </thead>\n",
       "  <tbody>\n",
       "    <tr>\n",
       "      <th>12933</th>\n",
       "      <td>VELVET MINI SKIRT</td>\n",
       "      <td>Pleated skirt with elastic waistband.</td>\n",
       "      <td>6</td>\n",
       "      <td>False</td>\n",
       "      <td>True</td>\n",
       "    </tr>\n",
       "    <tr>\n",
       "      <th>20548</th>\n",
       "      <td>ACCORDION PLEAT SKIRT</td>\n",
       "      <td>Pleated skirt with elastic waistband and bow, ...</td>\n",
       "      <td>17</td>\n",
       "      <td>False</td>\n",
       "      <td>True</td>\n",
       "    </tr>\n",
       "  </tbody>\n",
       "</table>\n",
       "</div>"
      ],
      "text/plain": [
       "                        name  \\\n",
       "12933      VELVET MINI SKIRT   \n",
       "20548  ACCORDION PLEAT SKIRT   \n",
       "\n",
       "                                             description  len  are_equal  \\\n",
       "12933             Pleated skirt with elastic waistband.     6      False   \n",
       "20548  Pleated skirt with elastic waistband and bow, ...   17      False   \n",
       "\n",
       "       are_words  \n",
       "12933       True  \n",
       "20548       True  "
      ]
     },
     "execution_count": 91,
     "metadata": {},
     "output_type": "execute_result"
    }
   ],
   "source": [
    "train[[\"Pleated skirt with elastic waistband\" in descr for descr in train[\"description\"]]]"
   ]
  },
  {
   "cell_type": "code",
   "execution_count": 109,
   "metadata": {},
   "outputs": [],
   "source": [
    "train_in_test = train[train[\"description\"].isin(test[\"description\"])].drop_duplicates(subset=[\"description\"]).reset_index(drop=True)"
   ]
  },
  {
   "cell_type": "code",
   "execution_count": 126,
   "metadata": {},
   "outputs": [
    {
     "name": "stderr",
     "output_type": "stream",
     "text": [
      "133it [00:00, 541.67it/s]\n"
     ]
    }
   ],
   "source": [
    "select_names = {}\n",
    "for i, row in tqdm(train_in_test.iterrows()):\n",
    "    test_row = test[test[\"description\"] == row[\"description\"]]\n",
    "    select_names[test_row.index.values[0]]={\"description\": test_row[\"description\"].values[0], \"name\": row[\"name\"]}\n",
    "    "
   ]
  },
  {
   "cell_type": "code",
   "execution_count": 127,
   "metadata": {},
   "outputs": [
    {
     "data": {
      "text/plain": [
       "{100: {'description': 'Round neck sweater with long sleeves. ',\n",
       "  'name': 'RIBBED KNIT SWEATER'},\n",
       " 133: {'description': 'Short sleeve T-shirt with a round neckline and a contrast front print. ',\n",
       "  'name': 'STRIPED FLORAL T-SHIRT'},\n",
       " 71: {'description': 'Halter neck bodysuit with snap-button fastening at the bottom. ',\n",
       "  'name': 'HALTERNECK BODYSUIT'},\n",
       " 30: {'description': 'Long sleeve T-shirt with a round neckline. ',\n",
       "  'name': 'STRIPED COTTON T-SHIRT'},\n",
       " 63: {'description': 'Short sleeve T-shirt with a V-neckline. ',\n",
       "  'name': 'BASIC LYOCELL T-SHIRT'},\n",
       " 65: {'description': 'V-neck T-shirt with short sleeves. ',\n",
       "  'name': 'BASIC V-NECK T-SHIRT TRF'},\n",
       " 124: {'description': 'High waist trousers with front pockets and false rear jetted pockets. Featuring a belt in the same fabric with a covered buckle and fastening with metal hook, inside button and zip. ',\n",
       "  'name': 'BELTED TROUSERS'},\n",
       " 58: {'description': 'Short sleeve T-shirt with a round neckline. ',\n",
       "  'name': 'COLOURED TEXTURED T-SHIRT'},\n",
       " 40: {'description': 'Short dress with a round neckline, puff sleeves falling below the elbow, in-seam side pockets, lining and a buttoned opening at the back. ',\n",
       "  'name': 'LOOSE-FITTING TEXTURED DRESS TRF'},\n",
       " 50: {'description': 'Long sleeve knit sweater with a round neckline and ribbed trims. ',\n",
       "  'name': 'TEXTURED SWEATER'},\n",
       " 62: {'description': 'Pleated skirt with elastic waistband. ',\n",
       "  'name': 'VELVET MINI SKIRT'},\n",
       " 72: {'description': 'Short sleeve T-shirt with a round neckline and a contrast front print detail.  ',\n",
       "  'name': 'TEXT PRINT T-SHIRT'},\n",
       " 79: {'description': 'Slim fit jeans with a five-pocket design. Featuring a faded effect and zip fly and metal top button fastening. ',\n",
       "  'name': 'STANDARD SLIM FIT JEANS'},\n",
       " 91: {'description': 'Cropped slim fit trousers. Featuring front pockets, rear jetted pockets, turn-up hems and zip fly and top button fastening. ',\n",
       "  'name': 'STRIPED RUSTIC TROUSERS'},\n",
       " 98: {'description': 'Mid-rise, asymmetric skirt falling above the knee with zip and button fastening at the front. Features a front pocket, back pockets, belt loops along the waistband.  ',\n",
       "  'name': 'DENIM MINI SKIRT TRF'},\n",
       " 102: {'description': 'Flowing A-line dress with a V-neck and short full sleeves. Featuring an elastic waist and button fastening in the front. ',\n",
       "  'name': 'BUTTONED DRESS TRF'},\n",
       " 104: {'description': 'Regular fit shirt featuring a button-down collar, long cuffed sleeves, a chest patch pocket and a button-up front. ',\n",
       "  'name': 'STRIPED DENIM SHIRT'},\n",
       " 135: {'description': 'Knit V-neck dress with short full sleeves, an elastic waist and ruffle trims on the hem.  ',\n",
       "  'name': 'METALLIC THREAD DRESS TRF'},\n",
       " 333: {'description': 'Lace-up sneakers with five eyelets for laces. Featuring a combination of colours and materials including split suede leather, mesh and reflective details. Includes a pull tab at the front and on the heel cap and a maxi sole.',\n",
       "  'name': 'MAXI SNEAKERS'},\n",
       " 240: {'description': 'Leather high-heel ankle boots available in tan and ecru. Leather upper. Laces on the front. Round block heel. Zip fastening on the inside.   Heel height: 6.5 cm. / 2.5″',\n",
       "  'name': 'LACE-UP LEATHER ANKLE BOOTS TRF'},\n",
       " 604: {'description': 'Low heel leather ankle boots available in different colours: white, black and sky blue. Leather upper. Back pull tab. Track sole. Zip fastening on the front.   Sole height 4 cm. / 1.5″',\n",
       "  'name': 'FLAT LEATHER ANKLE BOOTS WITH ZIP TRF'},\n",
       " 244: {'description': 'Black kitten heel shoes. Patent finish upper. Mesh detail on the sides at the back. Vent on the inside. Lined heel. Pointed toe.  Due to the characteristics of this item, we suggest you purchase one size down.  Heel height: 4.5 cm. / 1.7″',\n",
       "  'name': 'FAUX PATENT FINISH KITTEN-HEEL SHOES WITH MESH TRF'},\n",
       " 245: {'description': 'Silver high-heel shoes. Asymmetric upper with pleated detail on the front and a metallic finish. Cut-out detail on the side. Contrast-coloured stiletto heel. Pointed toe.   Heel height of 10 cm. / 3.9″',\n",
       "  'name': 'METALLIC HIGH HEEL SHOES TRF'},\n",
       " 248: {'description': 'Multicoloured high-heel sandals. Animal print upper. Straps across the instep. Lined high block heel. Platform sole. Buckled ankle strap fastening.   Heel height of 13.5 cm. / 5.3″',\n",
       "  'name': 'ANIMAL PRINT HIGH-HEEL SANDALS TRF'},\n",
       " 250: {'description': 'White lace-up sneakers. Combination of materials on the upper. Contrast-coloured details. Animal print on the front and heel. Chunky sole with raised effect.   Sole height: 6 cm. / 2.3″',\n",
       "  'name': 'TRACK SOLE SNEAKERS TRF'},\n",
       " 251: {'description': 'Black sneakers. Technical fabric on the upper with elastic side tabs. Contrast-coloured animal print on the sole and back piece. Pull tab with slogan on the back.   Sole height 3.3 cm. / 1.2″',\n",
       "  'name': 'SOCK-STYLE SNEAKERS WITH ANIMAL PRINT SOLE TRF'},\n",
       " 252: {'description': 'Sand-coloured leather sneakers. Split suede upper. Braided detail on the side. Track sole in contrast colours. Lace-up fastening.  Sole height: 3.5 cm. / 1.3″',\n",
       "  'name': 'LEATHER SNEAKERS WITH BRAIDED DETAIL TRF'},\n",
       " 253: {'description': 'Black trainers. Leather upper in a combination of materials with an animal print. Contrast colour chunky soles. Lace-up fastening.   Sole height 5 cm. / 1.9″',\n",
       "  'name': 'ANIMAL PRINT SNEAKERS TRF'},\n",
       " 254: {'description': 'Beige leather trainers. Split suede upper. Metallic trim on the back in animal print. Chunky sole in a contrast colour. Lace-up fastening in a contrast colour.   Sole height 5 cm. / 1.9″',\n",
       "  'name': 'METALLIC SPLIT SUEDE TRAINERS TRF'},\n",
       " 255: {'description': 'White trainers with an animal print upper. Back pull tab. Lace-up fastening with metal eyelets.  Sole height 2.5 cm. / 0.9″',\n",
       "  'name': 'ANIMAL PRINT TRAINERS TRF'},\n",
       " 256: {'description': 'Mini city bag available in lime and coral. Animal print exterior. Metal clasp on the flap. Top carry handle. Chain shoulder strap. Lined interior with two compartments. Magnetic clasp closure.   Height x Length x Width: 12 x 19 x 9 cm. / 4.7 x 7.4 x 3.5″',\n",
       "  'name': 'ANIMAL PRINT MINI CITY BAG TRF'},\n",
       " 259: {'description': 'Green slingback ballerinas. Elastic strap at the ankle. Pointed toes.   Heel height: 2.1 cm. / 0.8″',\n",
       "  'name': 'SLINGBACK FLAT SHOES TRF'},\n",
       " 261: {'description': 'Black flat sandals. Asymmetric upper. Criss-cross straps on the front. Ankle strap fastening with a metal buckle.   Sole height: 2.5 cm. / 0.9″',\n",
       "  'name': 'MINIMAL FLAT SANDALS TRF'},\n",
       " 603: {'description': 'Black mid-heel Chelsea boots. Elastic side gores. Back pull tab with logo detail. Scored chunky track soles.  Heel height of 6 cm. / 2.3″',\n",
       "  'name': 'MID-HEEL ANKLE BOOTS WITH TRACK SOLES TRF'},\n",
       " 600: {'description': 'Flat ankle boots available in different colours: navy blue and khaki, one with an animal print. Featuring studs on the upper. Elastic side tabs. Almond toe. Pull tab on the front and the back.  Heel height of 2.4 cm. / 0.9″',\n",
       "  'name': 'FLAT ANKLE BOOTS WITH STUDS TRF'},\n",
       " 613: {'description': 'Heeled mules available in different colours: white and black. Quilted upper. Stiletto heel. Pointed toe.   Heel height: 8 cm. / 3.1″',\n",
       "  'name': 'QUILTED STILETTO-HEEL MULES TRF'},\n",
       " 264: {'description': 'Beige tote bag. Made of natural materials. Canvas exterior. Contrast-coloured trims. Handles with slogan zip pulls. Lined interior with zip pocket.   Height x Length x Width: 32.5 x 28 x 13 cm. / 12.7 x 11.0 x 5.1″',\n",
       "  'name': 'CANVAS TOTE BAG TRF'},\n",
       " 265: {'description': 'Flat mules in contrast colours. Made of natural materials. Bow detail in a contrast colour on the instep. Pointed toe. Jute-lined sole.   Sole height 2.1 cm. / 0.8″',\n",
       "  'name': 'NATURAL MULES WITH BOW DETAIL TRF'},\n",
       " 365: {'description': 'Plimsoll-style sneakers. Black. Seven-eyelet facing. A faux patent finish heel cap. Two side zips in gold. Sole ZARA LIGHT sole for maximum lightness and comfort.',\n",
       "  'name': 'ZIPPED SNEAKERS - ZARA LIGHT'},\n",
       " 367: {'description': 'Beige laceless sneakers. Mesh upper with contrast pieces in neutral tones. Contrast tan heel tab in a contrast material. Elastic gores on the instep for slipping on with ease. Rubberised sole.',\n",
       "  'name': 'MESH LACELESS SNEAKERS'},\n",
       " 577: {'description': 'Gold heeled boots. Metallic upper. Tall stretch leg. Covered kitten heel. Pointed toe.   Heel height of 5.5 cm. / 2.1″ Calf width 19.7 cm. / 7.7″',\n",
       "  'name': 'METALLIC KITTEN HEEL BOOTS TRF'},\n",
       " 579: {'description': 'Black leather heeled boots. Soft split suede upper. Conical heel. Pointed toes.  Heel height of 8 cm. / 3.1″',\n",
       "  'name': 'SPLIT SUEDE CONE HEEL BOOTS TRF'},\n",
       " 581: {'description': 'Black bucket bag with an animal print. Shoulder strap with knot and bow. Lined fluorescent interior. Magnetic clasp closure.  Height x Length x Width: 35.5 x 48 x 15.5 cm. / 13.9 x 18.8 x 6.1″',\n",
       "  'name': 'KNOTTED ANIMAL PRINT BUCKET BAG TRF'},\n",
       " 582: {'description': 'Flat black knee-high boots. Reinforced toecap. Track soles.  Sole height 4 cm. / 1.5″ Calf width 19.5 cm. / 7.6″',\n",
       "  'name': 'TRACK SOLE TALL BOOTS TRF'},\n",
       " 584: {'description': 'Black high-heel ankle boots. Faux-patent-finish upper. Block heel and platform sole. Inside zip fastening.  Heel height of 12.7 cm. / 5.0″',\n",
       "  'name': 'FAUX-PATENT-FINISH HIGH-HEEL PLATFORM ANKLE BOOTS TRF'},\n",
       " 585: {'description': 'Black high heel ankle boots. Mesh upper. Square stiletto heels. Back zip closure.   Heel height of 9.5 cm. / 3.7″',\n",
       "  'name': 'HIGH-HEEL MESH ANKLE BOOTS TRF'},\n",
       " 586: {'description': 'White high heel ankle boots. V vamp. Lined stiletto heels. Pointed toes.   Heel height of 8.5 cm. / 3.3″',\n",
       "  'name': 'HIGH HEEL ANKLE BOOTS WITH V VAMP TRF'},\n",
       " 587: {'description': 'Black high-heel ankle boots. V vamp. Covered stiletto heel. Pointed toe.   Heel height of 8 cm. / 3.1″',\n",
       "  'name': 'V-VAMP HIGH-HEEL ANKLE BOOTS TRF'},\n",
       " 589: {'description': 'Black leather high-heel ankle boots. Leather upper. Quilted ankle cuffs. Block heel. Track sole. Lace-up fastening with metal eyelets.  STARFIT®. Flexible technical polyurethane foam insole, designed to offer greater comfort.  Heel height of 9.5 cm. / 3.7″',\n",
       "  'name': 'LACE-UP LEATHER HIGH HEEL ANKLE BOOTS TRF'},\n",
       " 590: {'description': 'Black asymmetric heeled ankle boots. Upper in contrast materials. Stiletto heel. Pointed toe. Side zip fastening.   Heel height of 8 cm. / 3.1″',\n",
       "  'name': 'ASYMMETRIC STILETTO-HEEL ANKLE BOOTS TRF'},\n",
       " 591: {'description': 'Black high-heel ankle boots. Lined chunky heel with platform. Interior zip fastening.  Heel height of 12 cm. / 4.7″',\n",
       "  'name': 'PLATFORM ANKLE BOOTS TRF'},\n",
       " 592: {'description': 'High-heel ankle boots in a combination of colours. Animal print on the upper. High block heel and platform in animal print. Inner zip fastening.  Heel height of 12 cm. / 4.7″',\n",
       "  'name': 'ANIMAL PRINT HIGH-HEEL PLATFORM ANKLE BOOTS TRF'},\n",
       " 593: {'description': 'Flat black ankle boots. Animal print on the upper. Contrast topstitching around the edge. Chunky track platform sole. Lace-up with metallic eyelets.   Sole height 5.5 cm. / 2.1″',\n",
       "  'name': 'ANIMAL PRINT FLAT PLATFORM ANKLE BOOTS TRF'},\n",
       " 594: {'description': 'Flat leather ankle boots available in different colours: black and white. Leather upper with chains, faux pearls, buckle and metal eyelets. Padded collar. Back pull tab. Thick soles. Metal zip fastening on the inside.   Sole height: 4 cm. / 1.5″',\n",
       "  'name': 'FLAT LEATHER BIKER ANKLE BOOTS TRF'},\n",
       " 595: {'description': 'Black flat leather ankle boots. Laces with shiny detail and metal eyelets on the front. Back pull tab. Studs on the contour of the soles. Inside zip fastening with metal zip pull.  Heel height: 4 cm. / 1.5″',\n",
       "  'name': 'STUDDED FLAT LEATHER BIKER ANKLE BOOTS TRF'},\n",
       " 596: {'description': 'Black high heel ankle boots. Animal print on the upper. Cut-out detail on the sides. Cowboy heel. Slightly squared toe. Back pull tab. Ankle strap with metal buckle on the side.  Heel height of 8 cm. / 3.1″',\n",
       "  'name': 'ANIMAL PRINT CUT-OUT HIGH HEEL ANKLE BOOTS TRF'},\n",
       " 597: {'description': 'Tan split suede low-heel ankle boots with studs. Cut-out sides. Contrast-coloured sole. Buckled ankle strap fastening with studs.   Sole height: 3 cm. / 1.1″',\n",
       "  'name': 'STUDDED SPLIT SUEDE LOW-HEEL ANKLE BOOTS WITH CUT-OUT SIDES TRF'},\n",
       " 598: {'description': 'Black leather ankle boots. Micro-studded straps. Back pull tab. Inside zip fastening.',\n",
       "  'name': 'FLAT LEATHER ANKLE BOOTS WITH BUCKLED STRAPS TRF'},\n",
       " 599: {'description': 'Black leather low-heel ankle boots. Leather upper with studs. Elastic side panels.  Heel height of 3.7 cm. / 1.4″',\n",
       "  'name': 'FLAT LEATHER CHELSEA BOOTS WITH STUDS TRF'},\n",
       " 601: {'description': 'Black low-heel ankle boots. Upper with cut-out detailing on the sides. Back pull tab. Fastens on the side with a round metal buckle.  Sole height 3.7 cm. / 1.4″',\n",
       "  'name': 'LOW-HEEL CUT-OUT ANKLE BOOTS WITH BUCKLE DETAIL TRF'},\n",
       " 602: {'description': 'Black low-heel Chelsea boots. Elastic side gores. Back pull tab. Track soles.  Heel height of 3.8 cm. / 1.4″',\n",
       "  'name': 'FLAT ANKLE BOOTS WITH ELASTIC SIDE TABS TRF'},\n",
       " 605: {'description': 'Low-heel ankle boots available in black and silver. Padded upper. Back pull tab. Chunky track sole. Lace-up fastening.  Sole height 5 cm. / 1.9″',\n",
       "  'name': 'FLAT QUILTED MOUNTAIN BOOTS TRF'},\n",
       " 606: {'description': 'Heeled slingback shoes in contrast colours. Transparent vinyl and contrast materials on the upper. Cut-out details on the sides and in the back. Stiletto heel. Pointed toe.   Heel height of 10.9 cm. / 4.2″',\n",
       "  'name': 'VINYL SLINGBACK SHOES TRF'},\n",
       " 607: {'description': 'High heel slingback shoes available in different colours: red and ecru. Patent finish upper. Heel strap with elastic. Lined block heels. Pointed toes.   Heel height of 8 cm. / 3.1″',\n",
       "  'name': 'BLOCK HEEL SLINGBACK SHOES TRF'},\n",
       " 608: {'description': 'Yellow high-heel slingback shoes. Faux patent upper. Round stiletto heel. Pointed toe. Buckled wraparound ankle strap for fastening.   Heel height: 10.9 cm. / 4.2″',\n",
       "  'name': 'FAUX PATENT LEATHER SLINGBACK HEELS TRF'},\n",
       " 609: {'description': 'Black high-heel shoes. Upper with a mesh detail and multicoloured rhinestones. Stiletto heel. Pointed toe.  Heel height of 10.5 cm. / 4.1″',\n",
       "  'name': 'MULTICOLOURED DIAMANTÉ MESH HIGH-HEEL SHOES TRF'},\n",
       " 610: {'description': 'See-through kitten-heel shoes. Transparent vinyl on the upper. Shimmer detail on the toes, uppers and heel strap. Pointed toe. Buckled ankle strap fastening.   Heel height: 5.5 cm. / 2.1″',\n",
       "  'name': 'SHIMMERY VINYL KITTEN HEEL SHOES TRF'},\n",
       " 611: {'description': 'Leopard slingback kitten heel shoes. Animal print upper. V-shaped vamp. Stretch tab behind the ankle in a contrast colour. Pointed toe.   Heel height of 4.3 cm. / 1.6″',\n",
       "  'name': 'ANIMAL PRINT SLINGBACK KITTEN HEEL SHOES TRF'},\n",
       " 612: {'description': 'Black high heel shoes. Maxi bow on the front with micro-studded detailing. Elastic strap around the back of the ankle. Stiletto heel. Pointed toe.   Heel height of 11 cm. / 4.3″',\n",
       "  'name': 'STUDDED HIGH HEEL SLINGBACK SHOES WITH BOW DETAIL TRF'},\n",
       " 614: {'description': 'Black tote bag. All-over metal eyelets. Shoulder straps. Nylon bag organiser with zip closure. Magnetic clasp closure.  Height x Length x Width 31.5 x 39 x 12.5 cm. / 12.4 x 15.3 x 4.9″',\n",
       "  'name': 'TOTE BAG WITH EYELETS TRF'},\n",
       " 615: {'description': 'Silver mini tote bag. Metallic exterior. Front pocket with snap-button fastening. Handles with contrast piping. Removable shoulder strap with contrast slogan. Lined interior with pocket. Zip closure.   Height x Length x Width: 16.5 x 21 x 9 cm. / 6.4 x 8.2 x 3.5″',\n",
       "  'name': 'METALLIC MINI TOTE BAG TRF'},\n",
       " 616: {'description': 'Foldable tote bag in contrast colours. Check print with image on the side. Contrast-coloured shoulder straps.   Height x Length x Width: 40 x 34.5 x 13.5 cm. / 15.7 x 13.5 x 5.3″',\n",
       "  'name': 'FOLDABLE TOTE BACK WITH IMAGE TRF'},\n",
       " 618: {'description': 'Fuchsia mini tote bag. Tumbled finish on the exterior. Contrast-coloured piping. Decorative metal pieces on the top handles. Chain shoulder strap in contrast materials. Lined interior with pocket. Magnetic clasp closure.   Height x Length x Width: 12.5 x 16.8 x 5.8 cm. / 4.9 x 6.6 x 2.2″',\n",
       "  'name': 'MINI TOTE BAG TRF'},\n",
       " 619: {'description': 'Black nylon quilted tote bag. Strap in contrast materials at the top with gold-toned studs. Short shoulder straps. Adjustable and removable long shoulder strap. Lined interior. Gathered drawstring closure and zip.   Height x Length x Width: 25 x 36 x 13 cm. / 9.8 x 14.1 x 5.1″',\n",
       "  'name': 'QUILTED NYLON TOTE BAG TRF'},\n",
       " 620: {'description': 'Tote bag in contrast colours. Canvas body with slogan on the front. Studs on both sides of the upper part. Contrast colour on the edge and shoulder straps. Inside pocket with zip fastening. Magnetic clasp closure.   Height x Length x Width: 28.5 x 31 x 13.5 cm. / 11.2 x 12.2 x 5.3″',\n",
       "  'name': 'CANVAS TOTE BAG TRF'},\n",
       " 622: {'description': 'Zebra print leather high heel sandals. Stiletto heels. Square toes and heels.  Due to the characteristics of the materials, the print may vary from one pair to another.  Heel height: 8.4 cm. / 3.3″',\n",
       "  'name': 'ANIMAL PRINT LEATHER HEELED SANDALS TRF'},\n",
       " 624: {'description': 'Black high-heel sandals. Criss-cross front straps. Strap around the back of the ankle. High block heel with platform sole. Buckled ankle strap fastening.   Heel height of 13.4 cm. / 5.2″',\n",
       "  'name': 'WIDE HEEL PLATFORM SANDALS TRF'},\n",
       " 625: {'description': 'Bucket bag in contrast colours. Animal print on the body and handle. Fluorescent coloured trims on the strap and handle. Adjustable and detachable shoulder strap in technical fabric. Magnetic clasp closure.  Height x Length x Width: 20.5 x 24 x 7 cm. / 8.0 x 9.4 x 2.7″',\n",
       "  'name': 'ANIMAL PRINT BUCKET BAG TRF'},\n",
       " 626: {'description': 'Khaki high heel sandals. Quilted upper. Crossed straps on the front. Square stiletto heels. Square toes.   Heel height: 8 cm. / 3.1″',\n",
       "  'name': 'SANDALS WITH QUILTED CROSSED STRAPS TRF'},\n",
       " 629: {'description': 'Nylon khaki backpack-style tote bag. Chain detail and two pockets with zip closure on the front. Handles. Adjustable shoulder straps. Lined interior with pocket. Zip closure.   Height x Length x Width: 39.5 x 28.5 x 10 cm. / 15.5 x 11.2 x 3.9″',\n",
       "  'name': 'NYLON BACKPACK TOTE BAG TRF'},\n",
       " 630: {'description': 'Bucket bag in a combination of colours. Featuring a beaded body, velvet detail at the top, chain shoulder strap, lining and gathered drawstring closure with tassel detail.   Height x Length x Width: 21 x 15 x 15 cm. / 8.2 x 5.9 x 5.9″',\n",
       "  'name': 'BEADED SAFARI BUCKET BAG TRF'},\n",
       " 632: {'description': 'Multicoloured lace-up sneakers. Upper in a combination of pieces and materials. Rubberised piece with shiny finish at the back. Pull tab at the back. Split sole that is chunky at the back.  Sole height 5 cm. / 1.9″',\n",
       "  'name': 'MULTICOLOURED CONTRAST SNEAKERS TRF'},\n",
       " 633: {'description': 'Pink trainers. Upper in combination of materials and technical pieces. Pull tab on the tongue. Contrast colour chunky track soles. Lace-up fastening.   Sole height 6 cm. / 2.3″',\n",
       "  'name': 'MULTI-PIECE SNEAKERS TRF'},\n",
       " 634: {'description': 'White sneakers. Technical fabric upper with raised effect. Back pull tab. Soles in combined materials. Three hook-and-loop straps for fastening.  Sole height: 3 cm. / 1.1″',\n",
       "  'name': 'HOOK AND LOOP STRAP SNEAKERS TRF'},\n",
       " 636: {'description': 'Mustard yellow backpack. Front flap with metal ring detail. Contrast-coloured piping. Front zip pocket. Handle with ring detail. Adjustable shoulder straps. Gathered drawstring and magnetic clasp closure.   Height x Length x Width: 29 x 24.5 x 14 cm. / 11.4 x 9.6 x 5.5″',\n",
       "  'name': 'BACKPACK WITH RING DETAIL TRF'},\n",
       " 637: {'description': 'Black backpack. Front flap. Front pocket with drawstring closure. Handle in a combination of materials. Adjustable shoulder straps. Inside pocket. Gathered drawstring and magnetic clasp closure.   Height x Length x Width: 29.5 x 24.5 x 13.5 cm. / 11.6 x 9.6 x 5.3″',\n",
       "  'name': 'DRAWSTRING BACKPACK TRF'},\n",
       " 638: {'description': 'White lace-up sneakers. Upper in contrast materials and trims. Rubberised piece on the back. Pull tab on the tongue. Contrast-coloured chunky split track sole.  Sole height 5 cm. / 1.9″',\n",
       "  'name': 'TRACK SOLE SNEAKERS TRF'},\n",
       " 639: {'description': 'White sneakers. Multicoloured pieces on the upper. Colourful pull tab and rubberised piece detail on the back. Chunky soles. Lace-up fastening.  Sole height 6.5 cm. / 2.5″',\n",
       "  'name': 'MULTICOLOURED SNEAKERS TRF'},\n",
       " 640: {'description': 'Black backpack. Front pocket and outer pocket with studs and zip closure. Handle. Adjustable shoulder straps. Two lined compartments, one with an inside pocket. Zip closure.   Height x Length x Width 32 x 24 x 11 cm. / 12.5 x 9.4 x 4.3″',\n",
       "  'name': 'BACKPACK WITH STUDS TRF'},\n",
       " 641: {'description': 'Black lace-up sneakers with combined technical fabric pieces and perforated detailing on the sides. Rubberised trim and back pull tab. Chunky track sole with geometric relief design in a contrast colour and technical pieces.  STARFIT®. Flexible technical polyurethane foam insole, designed to offer greater comfort.  Sole height 4.5 cm. / 1.7″',\n",
       "  'name': 'SNEAKERS WITH CUT-OUT DETAIL TRF'},\n",
       " 642: {'description': 'Black lace-up sneakers. Decorative rhinestones on the upper. Rubberised toe piece. Back pull tab. Chunky sole with raised detailing.  STARFIT®. Flexible technical polyurethane foam insole, designed to offer greater comfort.  Sole height 3.5 cm. / 1.3″',\n",
       "  'name': 'DIAMANTÉ SNEAKERS TRF'},\n",
       " 643: {'description': 'Trainers with animal print on the sides and studs on the back. Leather detail in contrast colour on the tongue, front and back. Lace-up fastening.   Sole height 3 cm. / 1.1″',\n",
       "  'name': 'ANIMAL PRINT TRAINERS WITH STUDS TRF'},\n",
       " 644: {'description': 'Sneakers with leopard print. Animal print on the upper and on the tongue with combined black pieces. Pull tab in the back. Contrast sole. Lace-up fastening.  Sole height 3.5 cm. / 1.3″',\n",
       "  'name': 'ANIMAL PRINT SNEAKERS TRF'},\n",
       " 645: {'description': 'White trainers. Upper with perforated details on the sides and matching topstitching on the back. Metal eyelets. Back pull tab. Animal print lining. Contrast colour platform track soles. Lace-up fastening.   Sole height 4.5 cm. / 1.7″',\n",
       "  'name': 'PLATFORM TRAINERS TRF'},\n",
       " 646: {'description': 'City bag available in different colours: ice and yellow. Contrast piping on the exterior. Braided handles. Adjustable, removable shoulder strap. Lined interior with pocket. Zip closure.</br></br> Height x Length x Width: 21.5 x 30 x 8.5 cm. / 8.4 x 11.8 x 3.3″',\n",
       "  'name': 'CITY BAG WITH BRAIDED HANDLE TRF'},\n",
       " 649: {'description': 'Iridescent and transparent vinyl mini city bag. Handle. Removable chain shoulder strap. Interior with two compartments. Magnetic clasp closure.   Height x Length x Width: 9.5 x 17.7 x 6.5 cm. / 3.7 x 6.9 x 2.5″',\n",
       "  'name': 'IRIDESCENT MINI CITY BAG TRF'},\n",
       " 651: {'description': 'Mini city bag available in different colours: black and ochre. Nylon exterior. Handles. Chain shoulder strap with combined materials. Lined interior with zip pocket. Gathered drawstring closure.  Height x Length x Width 14.5 x 20.5 x 10 cm. / 5.7 x 8.0 x 3.9″',\n",
       "  'name': 'NYLON MINI CITY BAG TRF'},\n",
       " 652: {'description': 'Bowling bag in contrast colours. Animal print body. Metal chain handle. Adjustable and detachable shoulder strap. Interior with zip pocket. Zip closure.  Height x Length x Width: 14.5 x 22.5 x 9.4 cm. / 5.7 x 8.8 x 3.7″',\n",
       "  'name': 'ANIMAL PRINT BOWLING BAG TRF'},\n",
       " 653: {'description': 'Gold espadrilles. Metallic upper with a crackled effect. Back pull tab. Jute-lined welt.   Sole height: 1.5 cm. / 0.5″',\n",
       "  'name': 'METALLIC ESPADRILLES TRF'},\n",
       " 654: {'description': 'Crossbody bag available in different colours: beige and black. Silver metal hardware. Woven chain detail on the contour. Chain shoulder strap. Lined interior with two compartments, one with zip closure and the other with six card slots. Metal clasp closure.   Height x Length x Width 13.5 x 21 x 4.5 cm. / 5.3 x 8.2 x 1.7″',\n",
       "  'name': 'CROSSBODY BAG WITH CHAIN STRAP TRF'},\n",
       " 656: {'description': 'Black crossbody bag. Animal print design on the exterior. Different-sized and shaped studs on the flap with moon-shaped metallic piece detail. Chain shoulder strap, lined interior and magnetic clasp closure.  Height x Length x Width 13 x 18 x 7 cm. / 5.1 x 7.0 x 2.7″',\n",
       "  'name': 'ANIMAL PRINT MOON CROSSBODY BAG TRF'},\n",
       " 657: {'description': 'Ballerinas in a combination of colours. Featuring a tortoiseshell-effect upper with a coloured contrast trim detail around the contour and square toe.   Heel height of 1.5 cm. / 0.5″',\n",
       "  'name': 'TORTOISESHELL BALLERINAS TRF'},\n",
       " 658: {'description': 'Black slingback ballerinas. Contrast materials on the upper. Studded detailing. Buckled strap around the back. Pointed toe.  Heel height: 1.5 cm. / 0.5″',\n",
       "  'name': 'STUDDED SLINGBACK BALLERINAS TRF'},\n",
       " 659: {'description': 'Black crossbody bag. Foldover flap with silver metal piece. Quilted detail on the front. Adjustable shoulder strap with chain and charms. Lined interior. Magnetic clasp closure.   Height x Length x Width: 16.5 x 26.5 x 7 cm. / 6.4 x 10.4 x 2.7″',\n",
       "  'name': 'QUILTED CROSSBODY BAG WITH CHARMS TRF'},\n",
       " 664: {'description': 'Leather ballerinas in different colours: black and white. Soft leather upper. Topstitching detail on the front.   Sole height 1 cm. / 0.3″',\n",
       "  'name': 'SOFT LEATHER BALLERINAS TRF'},\n",
       " 660: {'description': 'Black loafers. Featuring a quilted upper and oval toe.  AIRFIT®. Flexible technical latex foam insole, designed to offer greater comfort.   Sole height 1 cm. / 0.3″',\n",
       "  'name': 'QUILTED LOAFERS TRF'},\n",
       " 661: {'description': 'Light pink loafers. Soft upper with trim and penny strap on the front.  Heel height of 1.9 cm. / 0.7″',\n",
       "  'name': 'SOFT TASSEL LOAFERS TRF'},\n",
       " 662: {'description': 'Black clogs. Gold metal studs on the contour. Faux fur detail on the insoles.   Sole height 4.9 cm. / 1.9″',\n",
       "  'name': 'STUDDED CLOGS WITH FAUX FUR TRF'},\n",
       " 663: {'description': 'White flatform derby shoes. Matching topstitching detail on the upper. Padded ankle cuffs. Extra thick track sole with relief detail. Lace-up fastening with metal eyelets.  Sole height 7 cm. / 2.7″',\n",
       "  'name': 'DERBY SHOES WITH THICK SOLES TRF'},\n",
       " 665: {'description': 'Black flat lace-up shoes. Monochrome upper with matching topstitching. Padded cuffs. Chunky track sole.  Sole height 5.5 cm. / 2.1″',\n",
       "  'name': 'FLAT CHUNKY SOLE SHOES TRF'},\n",
       " 666: {'description': 'Flat sandals available in yellow and orange. Fringed trim on the front.   Sole height 1 cm. / 0.3″',\n",
       "  'name': 'FRINGED FLAT SANDALS TRF'},\n",
       " 668: {'description': 'Flat black sandals. Wide strap across the front with raised textured detailing.   Sole height: 2.4 cm. / 0.9″',\n",
       "  'name': 'FLAT TEXTURED RUBBER SANDALS TRF'},\n",
       " 670: {'description': 'Maxi clutch available in different colours: silver and gold. Cracked-effect detail. Front loop for holding. Lined interior. Zip closure.   Height x Length x Width: 23 x 34 x 12 cm. / 9.0 x 13.3 x 4.7″',\n",
       "  'name': 'METALLIC MAXI CLUTCH TRF'},\n",
       " 671: {'description': 'Beige minaudière. Circular with a patent finish in a combination of colours. Metallic detail around the edge. Handle. Chain shoulder strap. Lined. Metal clasp closure.   Height x Length x Width: 16 x 17.4 x 7 cm. / 6.2 x 6.8 x 2.7″',\n",
       "  'name': 'ROUND PATENT FINISH MINAUDIÈRE TRF'},\n",
       " 672: {'description': 'Ecru maxi clutch with a quilted nylon body. Front flap pocket with snap-button fastening. Wrist strap. Lined interior with pocket. Zip fastening.   Height x Length x Width: 27 x 34.5 x 7.5 cm. / 10.6 x 13.5 x 2.9″',\n",
       "  'name': 'QUILTED NYLON MAXI CLUTCH TRF'},\n",
       " 674: {'description': 'Leather flat sandals in a combination of colours. Featuring a leather upper with animal print. Double straps across the front. Split soles. Hook-and-loop strap at the ankle.   Sole height: 3.3 cm. / 1.2″',\n",
       "  'name': 'ANIMAL PRINT LEATHER FLAT SANDALS WITH BUCKLES TRF'},\n",
       " 677: {'description': 'Black crossbody belt bag. Satin exterior. Two front pockets and one zip pocket on the top. Silver metal hardware. Belt with chain detail and buckle closure. Lined interior with zip pocket.   Height x Length x Width: 13 x 32.5 x 6 cm. / 5.1 x 12.7 x 2.3″',\n",
       "  'name': 'SATIN CROSSBODY BELT BAG TRF'},\n",
       " 680: {'description': 'Tan tote bag. Exterior with image of MICKEY MOUSE ©DISNEY on both sides. Shoulder straps.   Height x Length x Width: 35.5 x 26 x 10 cm. / 13.9 x 10.2 x 3.9″',\n",
       "  'name': 'MICKEY MOUSE ©DISNEY MEDIUM TOTE BAG TRF'},\n",
       " 681: {'description': 'Black mini tote bag. Exterior with image of MICKEY MOUSE ©DISNEY on both sides. Handles.   Height x Length x Width: 20.5 x 16 x 5 cm. / 8.0 x 6.2 x 1.9″',\n",
       "  'name': 'MICKEY MOUSE ©DISNEY MINI TOTE BAG TRF'},\n",
       " 684: {'description': 'Silver high heel sandals. Diamanté upper and V vamp. Geometric heel. Square toe and heel.  AIRFIT®. Flexible technical latex foam insole, designed to offer greater comfort.  Heel height of 9.2 cm. / 3.6″',\n",
       "  'name': 'RHINESTONE-APPLIQUÉD HIGH-HEEL SANDALS TRF'},\n",
       " 730: {'description': 'Fibre cushion pad. Both fabric and filling are HYPOALLERGENIC but not DUST MITE-PROOF.',\n",
       "  'name': 'Cushion Pad'},\n",
       " 950: {'description': 'Faux fur blanket with a super soft feel.',\n",
       "  'name': 'FLEECE BLANKET'},\n",
       " 946: {'description': 'Lacquered wood hanger with a bar to hang trousers.',\n",
       "  'name': 'LACQUERED WOODEN HANGER (SET OF 3)'},\n",
       " 968: {'description': 'Lamp featuring a wooden base and a glass lampshade. Light bulb not included. Recommended max. 60W bulb. If the external cable or cord of the lamp gets damaged, it must only be replaced by a qualified technician in order to avoid any risk. Socket: E27 for all markets and E26 for Mexico, Japan and Korea.',\n",
       "  'name': 'TEXTURED GLASS LAMP'},\n",
       " 1050: {'description': '18/10 Stainless steel.', 'name': 'Golden Tablespoon'},\n",
       " 984: {'description': 'Rectangular wood side table with cross over metal legs.',\n",
       "  'name': 'WOODEN SIDE TABLE'},\n",
       " 836: {'description': 'Duvet cover in 150 thread count cotton with a floral print. Concealed button fastening at the bottom.',\n",
       "  'name': 'BLUE FLORAL DUVET COVER'},\n",
       " 797: {'description': 'Pillowcase in 150 thread count cotton with a floral print. Inner envelope closure on one side, except for sizes 45 x 110 cm and 45 x 155 cm, which are open at both ends.',\n",
       "  'name': 'BLUE FLORAL PILLOWCASE'},\n",
       " 1078: {'description': 'Grey ceramic soap dish.',\n",
       "  'name': 'STRIPED GREY CERAMIC SOAP DISH'},\n",
       " 1079: {'description': 'Grey ceramic jar with lid.',\n",
       "  'name': 'STRIPED GREY CERAMIC JAR'},\n",
       " 1080: {'description': 'Grey ceramic dispenser.',\n",
       "  'name': 'STRIPED GREY CERAMIC DISPENSER'},\n",
       " 1244: {'description': 'Basic plastic placemat with outline. Sold in packs of 2.',\n",
       "  'name': 'PLASTIC PLACEMAT WITH BORDER'},\n",
       " 1312: {'description': 'Floral jacquard napkin with lace trim. Sold in packs of 4. Made of cotton and linen.',\n",
       "  'name': 'LINEN AND COTTON NAPKIN (PACK OF 4)'}}"
      ]
     },
     "execution_count": 127,
     "metadata": {},
     "output_type": "execute_result"
    }
   ],
   "source": [
    "select_names"
   ]
  },
  {
   "cell_type": "code",
   "execution_count": 121,
   "metadata": {},
   "outputs": [],
   "source": [
    "indexes = [dic[\"idx\"] for dic in select_names]"
   ]
  },
  {
   "cell_type": "code",
   "execution_count": 118,
   "metadata": {},
   "outputs": [],
   "source": [
    "import csv\n",
    "def _read_subm_file(file):\n",
    "    submission = []\n",
    "    with open(file, \"r\") as f:\n",
    "        reader = csv.reader(f)\n",
    "        for line in reader:\n",
    "            submission.append(line)\n",
    "    submission = submission[1:]\n",
    "    return submission"
   ]
  },
  {
   "cell_type": "code",
   "execution_count": 120,
   "metadata": {},
   "outputs": [],
   "source": [
    "submission = _read_subm_file(\"submission_especial3103.csv\")"
   ]
  },
  {
   "cell_type": "code",
   "execution_count": 128,
   "metadata": {},
   "outputs": [
    {
     "name": "stderr",
     "output_type": "stream",
     "text": [
      "100%|██████████| 133/133 [00:00<00:00, 32273.21it/s]\n"
     ]
    }
   ],
   "source": [
    "for idx in tqdm(indexes):\n",
    "    if select_names[idx][\"name\"] not in submission[idx]:\n",
    "        submission[idx] = [select_names[idx][\"name\"]] + submission[:9]"
   ]
  },
  {
   "cell_type": "code",
   "execution_count": 129,
   "metadata": {},
   "outputs": [],
   "source": [
    "di = {f\"pred_{i}\": [] for i in range(10)}\n",
    "for names in submission:\n",
    "    if len(names) != 10:\n",
    "        print(names)\n",
    "        print(len(names))\n",
    "        break\n",
    "    for i in range(len(names)):\n",
    "        di[f\"pred_{i}\"].append(names[i])"
   ]
  },
  {
   "cell_type": "code",
   "execution_count": 130,
   "metadata": {},
   "outputs": [],
   "source": [
    "df = pd.DataFrame(di)"
   ]
  },
  {
   "cell_type": "code",
   "execution_count": 131,
   "metadata": {},
   "outputs": [],
   "source": [
    "df.to_csv(\"submission_turbia.csv\", header=False, index=False)"
   ]
  },
  {
   "cell_type": "code",
   "execution_count": 92,
   "metadata": {},
   "outputs": [
    {
     "name": "stderr",
     "output_type": "stream",
     "text": [
      "27it [00:01, 24.89it/s]/home/alejandro.vaca/miniconda/envs/spainai_hackaton/lib/python3.7/site-packages/ipykernel_launcher.py:8: SettingWithCopyWarning: \n",
      "A value is trying to be set on a copy of a slice from a DataFrame.\n",
      "Try using .loc[row_indexer,col_indexer] = value instead\n",
      "\n",
      "See the caveats in the documentation: https://pandas.pydata.org/pandas-docs/stable/user_guide/indexing.html#returning-a-view-versus-a-copy\n",
      "  \n",
      "1441it [00:46, 31.31it/s]\n"
     ]
    }
   ],
   "source": [
    "select_names = []\n",
    "\n",
    "for i, row in tqdm(test.iterrows()):\n",
    "    row_text = row[\"description\"]\n",
    "    train_are = train[[row_text in descr for descr in train[\"description\"]]].copy()\n",
    "    if train_are.shape[0] > 1:\n",
    "        #select_names.append()\n",
    "        train_are[\"perc_\"] = [sum([word in text.split(\" \") for word in row_text.split(\" \")])/len(text.split(\" \")) for text in train_are[\"description\"]]\n",
    "        select_names.append(train_are.sort_values(by=\"perc_\", ascending=False).reset_index().loc[0, \"name\"])\n"
   ]
  },
  {
   "cell_type": "code",
   "execution_count": null,
   "metadata": {},
   "outputs": [],
   "source": []
  },
  {
   "cell_type": "code",
   "execution_count": 94,
   "metadata": {},
   "outputs": [
    {
     "data": {
      "text/plain": [
       "['STRIPED T-SHIRT',\n",
       " 'ADJUSTABLE-HEM T-SHIRT',\n",
       " 'STRIPED KNIT SWEATER',\n",
       " 'FADED-EFFECT T-SHIRT',\n",
       " 'RIBBED T-SHIRT TRF',\n",
       " 'BASIC LYOCELL T-SHIRT',\n",
       " 'BASIC LYOCELL T-SHIRT',\n",
       " 'BASIC V-NECK T-SHIRT TRF',\n",
       " 'RIBBED T-SHIRT TRF',\n",
       " 'HALTERNECK BODYSUIT',\n",
       " 'RIBBED KNIT SWEATER',\n",
       " 'STRIPED FLORAL T-SHIRT',\n",
       " 'Golden Tablespoon',\n",
       " 'Golden Tablespoon',\n",
       " 'MARBLE-EFFECT PORCELAIN SIDE PLATE',\n",
       " 'SET OF 6 COLOUR BOROSILICATE GLASS STRAWS']"
      ]
     },
     "execution_count": 94,
     "metadata": {},
     "output_type": "execute_result"
    }
   ],
   "source": []
  },
  {
   "cell_type": "code",
   "execution_count": null,
   "metadata": {},
   "outputs": [],
   "source": []
  }
 ],
 "metadata": {
  "kernelspec": {
   "display_name": "Python [conda env:spainai_hackaton] *",
   "language": "python",
   "name": "conda-env-spainai_hackaton-py"
  },
  "language_info": {
   "codemirror_mode": {
    "name": "ipython",
    "version": 3
   },
   "file_extension": ".py",
   "mimetype": "text/x-python",
   "name": "python",
   "nbconvert_exporter": "python",
   "pygments_lexer": "ipython3",
   "version": "3.7.9"
  }
 },
 "nbformat": 4,
 "nbformat_minor": 4
}
