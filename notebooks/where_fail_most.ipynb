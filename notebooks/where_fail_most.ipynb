{
 "cells": [
  {
   "cell_type": "code",
   "execution_count": 6,
   "metadata": {},
   "outputs": [],
   "source": [
    "import numpy as np\n",
    "import pandas as pd\n",
    "from transformers import PegasusForConditionalGeneration, PegasusTokenizer\n",
    "import matplotlib.pyplot as plt"
   ]
  },
  {
   "cell_type": "code",
   "execution_count": 5,
   "metadata": {},
   "outputs": [
    {
     "data": {
      "text/plain": [
       "0.43067655807339306"
      ]
     },
     "execution_count": 5,
     "metadata": {},
     "output_type": "execute_result"
    }
   ],
   "source": [
    "1 / np.log2(3+2)"
   ]
  },
  {
   "cell_type": "code",
   "execution_count": 7,
   "metadata": {},
   "outputs": [
    {
     "data": {
      "text/plain": [
       "[<matplotlib.lines.Line2D at 0x7f9f5800ad90>]"
      ]
     },
     "execution_count": 7,
     "metadata": {},
     "output_type": "execute_result"
    },
    {
     "data": {
      "image/png": "[encoded data removed]",
      "text/plain": [
       "<Figure size 432x288 with 1 Axes>"
      ]
     },
     "metadata": {
      "needs_background": "light"
     },
     "output_type": "display_data"
    }
   ],
   "source": [
    "idxs = [i for i in range(10)]\n",
    "scores = [1/np.log2(i+2) for i in idxs]\n",
    "\n",
    "plt.plot(idxs, scores)"
   ]
  },
  {
   "cell_type": "code",
   "execution_count": 3,
   "metadata": {},
   "outputs": [],
   "source": [
    "def dcg(predictions, targets):\n",
    "    \"\"\"Computes Discounted Cumulative Gain for a list of proposals and expected targets\"\"\"\n",
    "    targets = [t.replace(\"\\n\", \"\").lower() for t in targets]\n",
    "    score = 0\n",
    "    for pred, target in zip(predictions, targets):\n",
    "        if target in pred:\n",
    "            idx = pred.index(target)\n",
    "            score += 1 / np.log2(idx+2) \n",
    "    return score / len(predictions) * 100"
   ]
  },
  {
   "cell_type": "code",
   "execution_count": 4,
   "metadata": {},
   "outputs": [],
   "source": [
    "val = pd.read_csv(\"val_0802.csv\")"
   ]
  },
  {
   "cell_type": "code",
   "execution_count": 6,
   "metadata": {},
   "outputs": [],
   "source": [
    "tokenizer = PegasusTokenizer.from_pretrained(\"pegasus_0802_2\")\n",
    "model = PegasusForConditionalGeneration.from_pretrained(\"pegasus_0802_2\")"
   ]
  },
  {
   "cell_type": "code",
   "execution_count": 8,
   "metadata": {},
   "outputs": [],
   "source": [
    "def filter_predlist(predlist):\n",
    "    newlist = []\n",
    "    for pred in predlist:\n",
    "        if pred not in newlist:\n",
    "            newlist.append(pred)\n",
    "    return newlist[:10]"
   ]
  },
  {
   "cell_type": "code",
   "execution_count": 9,
   "metadata": {},
   "outputs": [],
   "source": [
    "def chunks(lst, n):\n",
    "    \"\"\"Yield successive n-sized chunks from lst.\"\"\"\n",
    "    for i in range(0, len(lst), n):\n",
    "        yield lst[i : i + n]\n",
    "\n",
    "\n",
    "def get_predictions(\n",
    "    model, tokenizer, texts, batchsize=2, numseqs=30, device=\"cuda\", maxlen=346\n",
    "):\n",
    "    model.to(device)\n",
    "    model.eval()\n",
    "    # texts = [f\"summarize: {text}\" for text in texts]\n",
    "    predictions = []\n",
    "    batches = chunks(texts, batchsize)\n",
    "    for idx, batch in tqdm(enumerate(batches), desc=\"Getting predictions for DCG\"):\n",
    "        preds = []\n",
    "        batch_encoded = tokenizer.batch_encode_plus(\n",
    "            batch,\n",
    "            return_tensors=\"pt\",\n",
    "            padding=\"max_length\",\n",
    "            truncation=True,\n",
    "            max_length=maxlen,\n",
    "        )\n",
    "        batch_encoded = to_device(batch_encoded, device)\n",
    "        with torch.no_grad():\n",
    "            gen = model.generate(\n",
    "                **batch_encoded, num_return_sequences=numseqs, num_beams=numseqs\n",
    "            )\n",
    "        for gen_out in gen:\n",
    "            preds.append(\n",
    "                tokenizer.decode(\n",
    "                    gen_out.cpu().detach().numpy(),\n",
    "                    skip_special_tokens=True,\n",
    "                    clean_up_tokenization_spaces=False,\n",
    "                )\n",
    "            )\n",
    "        preds = chunks(preds, numseqs)\n",
    "        preds = list(map(filter_predlist, preds))\n",
    "        predictions.extend(preds)\n",
    "        torch.cuda.empty_cache()\n",
    "    return predictions\n",
    "\n",
    "\n",
    "def clean_text(text):\n",
    "    text = text.replace(\"<br/>\", \" \")\n",
    "    text = text.replace(\"<BR>\", \" \")\n",
    "    text = text.replace(\"<BR/>\", \" \")\n",
    "    text = text.replace(\"<br>\", \" \")\n",
    "    text = text.replace(\"\\xa0\", \" \")\n",
    "    text = text.replace(\"•\", \" \")\n",
    "    text = text.replace(\"&#39;\", \"'\")\n",
    "    text = text.replace(\"\\n\", \" \")\n",
    "    text = text.replace(\"[<>]\", \" \")\n",
    "    clean_exprs = [\n",
    "        \"HEIGHT OF MODEL\",\n",
    "        \"height of model\",\n",
    "        \"model height\",\n",
    "        \"MODEL HEIGHT\",\n",
    "        # \"Contains: \",\n",
    "        # \"Heel height\",\n",
    "        # \"Sole height\",\n",
    "        # \"Height of sole\",\n",
    "        # \"Height x Length x Width\",\n",
    "        # \"Height x Width x Depth\",\n",
    "        \"WARNING\",\n",
    "    ]\n",
    "    for expr in clean_exprs:\n",
    "        if expr in text:\n",
    "            text = text[: text.find(expr)]\n",
    "    text = text.replace(\" +\", \" \")\n",
    "    if text[-1] == \" \":\n",
    "        text = text[:-1]\n",
    "    return text\n"
   ]
  },
  {
   "cell_type": "code",
   "execution_count": null,
   "metadata": {},
   "outputs": [],
   "source": []
  }
 ],
 "metadata": {
  "kernelspec": {
   "display_name": "Python [conda env:spainai_hackaton] *",
   "language": "python",
   "name": "conda-env-spainai_hackaton-py"
  },
  "language_info": {
   "codemirror_mode": {
    "name": "ipython",
    "version": 3
   },
   "file_extension": ".py",
   "mimetype": "text/x-python",
   "name": "python",
   "nbconvert_exporter": "python",
   "pygments_lexer": "ipython3",
   "version": "3.7.9"
  }
 },
 "nbformat": 4,
 "nbformat_minor": 4
}
