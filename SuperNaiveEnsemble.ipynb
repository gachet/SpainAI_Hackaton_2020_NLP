{
 "cells": [
  {
   "cell_type": "code",
   "execution_count": 1,
   "metadata": {},
   "outputs": [],
   "source": [
    "import os\n",
    "import csv\n",
    "from collections import Counter"
   ]
  },
  {
   "cell_type": "code",
   "execution_count": 2,
   "metadata": {},
   "outputs": [],
   "source": [
    "subm_folders = [folder for folder in os.listdir(\"antiguas2\") if \"submission\" in folder and \".csv\" not in folder]"
   ]
  },
  {
   "cell_type": "code",
   "execution_count": 3,
   "metadata": {},
   "outputs": [
    {
     "data": {
      "text/plain": [
       "['submission_2603',\n",
       " 'submission_0202',\n",
       " 'submission_2903',\n",
       " 'submission_2503',\n",
       " 'submission (4)',\n",
       " 'submission (1)',\n",
       " 'submission_bart_3103',\n",
       " 'submission_1002',\n",
       " 'submission_0102',\n",
       " 'submission (14)',\n",
       " 'submission (13)',\n",
       " 'submission_2703_2',\n",
       " 'submission_0702',\n",
       " 'submission_2603_2',\n",
       " 'submission (5)',\n",
       " 'submission (11)',\n",
       " 'submission (6)',\n",
       " 'submission (8)',\n",
       " 'submission_2103',\n",
       " 'submission_0802_4',\n",
       " 'submission_pegasus_3103',\n",
       " 'submission_3103',\n",
       " 'submission_0802_2',\n",
       " 'submission (12)',\n",
       " 'submission (3)',\n",
       " 'submission_2003',\n",
       " 'submission (3) (1)',\n",
       " 'submission_t5_3103',\n",
       " 'submission_1703',\n",
       " 'submission_1302',\n",
       " 'submission (10)',\n",
       " 'submission (7)',\n",
       " 'submission (2)',\n",
       " 'submission (9)',\n",
       " 'submission_0202_2']"
      ]
     },
     "execution_count": 3,
     "metadata": {},
     "output_type": "execute_result"
    }
   ],
   "source": [
    "subm_folders"
   ]
  },
  {
   "cell_type": "code",
   "execution_count": 8,
   "metadata": {},
   "outputs": [],
   "source": [
    "def _read_subm_file(file):\n",
    "    submission = []\n",
    "    with open(file, \"r\") as f:\n",
    "        reader = csv.reader(f)\n",
    "        for line in reader:\n",
    "            submission.append(line)\n",
    "    submission = submission[1:]\n",
    "    return submission"
   ]
  },
  {
   "cell_type": "code",
   "execution_count": 9,
   "metadata": {},
   "outputs": [],
   "source": [
    "def get_submissions(folders):\n",
    "    subm = []\n",
    "    for folder in subm_folders:\n",
    "        subm.append(_read_subm_file(f\"antiguas2/{folder}/submission.csv\")) # antiguas2\n",
    "    return subm"
   ]
  },
  {
   "cell_type": "code",
   "execution_count": 10,
   "metadata": {},
   "outputs": [],
   "source": [
    "subm = get_submissions(subm_folders)"
   ]
  },
  {
   "cell_type": "code",
   "execution_count": 11,
   "metadata": {},
   "outputs": [
    {
     "data": {
      "text/plain": [
       "35"
      ]
     },
     "execution_count": 11,
     "metadata": {},
     "output_type": "execute_result"
    }
   ],
   "source": [
    "len(subm)"
   ]
  },
  {
   "cell_type": "code",
   "execution_count": 12,
   "metadata": {},
   "outputs": [],
   "source": [
    "def get_total_submission_list(subm):\n",
    "    new_sub = []\n",
    "    long = len(subm[0])\n",
    "    for i in range(long):\n",
    "        s_ = []\n",
    "        for j in range(len(subm)):\n",
    "            s_.extend(subm[j][i])\n",
    "        new_sub.append(s_)\n",
    "    return new_sub"
   ]
  },
  {
   "cell_type": "code",
   "execution_count": 13,
   "metadata": {},
   "outputs": [],
   "source": [
    "newsub =  get_total_submission_list(subm)"
   ]
  },
  {
   "cell_type": "code",
   "execution_count": 14,
   "metadata": {},
   "outputs": [],
   "source": [
    "#newsub"
   ]
  },
  {
   "cell_type": "code",
   "execution_count": 15,
   "metadata": {},
   "outputs": [],
   "source": [
    "counter = Counter(newsub[0])"
   ]
  },
  {
   "cell_type": "code",
   "execution_count": 16,
   "metadata": {},
   "outputs": [
    {
     "data": {
      "text/plain": [
       "{'KNIT DRESS WITH LACE DETAIL': 26,\n",
       " 'KNIT DRESS WITH LACE TRIM': 24,\n",
       " 'LONG LACE-TRIMMED DRESS': 1,\n",
       " 'KNITTED DRESS WITH LACE TRIM': 1,\n",
       " 'KNIT DRESS WITH LACE': 28,\n",
       " 'LACE-TRIMMED KNIT DRESS': 14,\n",
       " 'RIBBED DRESS WITH LACE TRIM': 1,\n",
       " 'KNIT DRESS WITH LACE TRIMS': 6,\n",
       " 'KNIT DRESS WITH Lace DETAIL': 1,\n",
       " 'KNITTED CAMISOLE DRESS': 2,\n",
       " 'KNIT DRESS WITH LACE STRAPS': 7,\n",
       " 'LACE-TRIMMED DRESS TRF': 18,\n",
       " 'KNIT DRESS WITH LACE TRF': 19,\n",
       " 'LACE-TRIMMED DRESS': 9,\n",
       " 'LACE DRESS TRF': 16,\n",
       " 'KNIT DRESS WITH LACE STRAPS TRF': 5,\n",
       " 'KNIT MIDI DRESS WITH LACE': 3,\n",
       " 'KNIT DRESS WITH LACE DETAIL TRF': 22,\n",
       " 'KNIT MIDI DRESS': 2,\n",
       " 'LIMITED EDITION KNIT DRESS WITH LACE DETAIL': 5,\n",
       " 'TEXTURED DRESS WITH LACE DETAIL TRF': 1,\n",
       " 'MIDI DRESS WITH LACE DETAIL TRF': 2,\n",
       " 'LACE-TRIMMED KNIT DRESS TRF': 7,\n",
       " 'KNIT DRESS WITH MATCHING LACE': 5,\n",
       " 'KNIT DRESS WITH MATCHING LACE DETAIL': 3,\n",
       " 'LACE DRESS': 6,\n",
       " 'LONG KNIT DRESS': 4,\n",
       " 'LONG KNIT DRESS TRF': 4,\n",
       " 'STRAPPY KNIT DRESS': 4,\n",
       " 'LACE-UP DRESS TRF': 4,\n",
       " 'LACE DRESS WITH STRAPS TRF': 5,\n",
       " 'STRAPPY KNIT DRESS TRF': 4,\n",
       " 'LDRESS WITH MATCHING LACE TRF': 1,\n",
       " 'L DRESS WITH MATCHING LACE TRF': 1,\n",
       " 'L DRESS WITH LACE DETAIL TRF': 1,\n",
       " 'L DRESS WITH LACE TRIM': 1,\n",
       " 'MIDI DRESS WITH LACE TRIM': 2,\n",
       " 'DRESS WITH MATCHING LACE TRF': 1,\n",
       " 'LDRESS WITH MATCHING LACE': 1,\n",
       " 'LDRESS WITH LACE DETAIL TRF': 1,\n",
       " 'L DRESS WITH LACE TRIM TRF': 1,\n",
       " 'RIBBED DRESS WITH LACE DETAIL': 3,\n",
       " 'KNIT MIDI DRESS WITH LACE DETAIL': 6,\n",
       " 'RIBBED DRESS WITH LACE DETAIL TRF': 4,\n",
       " 'COMBINED LACE DRESS TRF': 1,\n",
       " 'PLEATED DRESS WITH LACE TRIM': 1,\n",
       " 'COMBINED LACE DRESS': 1,\n",
       " 'KNIT DRESS WITH LACE TRIM TRF': 2,\n",
       " 'KNITTED DRESS WITH LACE DETAIL': 6,\n",
       " 'LACE KNIT CAMISOLE DRESS': 1,\n",
       " 'CUT-OUT CAMISOLE DRESS': 1,\n",
       " 'JACQUARD CAMISOLE DRESS': 1,\n",
       " 'KNIT CAMISOLE DRESS': 3,\n",
       " 'POINTELLE KNIT DRESS': 1,\n",
       " 'LONG KNIT CAMISOLE DRESS': 1,\n",
       " 'KNIT CAMISOLE DRESS TRF': 1,\n",
       " 'POINTELLE CAMISOLE DRESS': 1,\n",
       " 'CONTRAST CAMISOLE DRESS': 1,\n",
       " 'L DRESS': 1,\n",
       " 'L DRESS TRF': 1,\n",
       " 'L DRESS WITH LACE TRF': 2,\n",
       " 'L DRESS WITH LACE': 1,\n",
       " 'DRESSENTIALS DRESS': 1,\n",
       " 'DRESSENTIAL DRESS TRF': 1,\n",
       " 'DRESSENTIAL DRESS': 1,\n",
       " 'KNIT DRESS WITH LACE-TRIMMED DETAIL': 1,\n",
       " 'KNIT MIDI DRESS WITH LACE DETAIL TRF': 1,\n",
       " 'KNITTED DRESS WITH LACE DETAIL TRF': 2,\n",
       " 'PRINTED DRESS WITH LACE DETAIL TRF': 1,\n",
       " 'DRESS WITH LACE DETAIL TRF': 1,\n",
       " 'PRINTED DRESS WITH LACE DETAIL': 1,\n",
       " 'CAMISOLE DRESS WITH LACE DETAIL': 1,\n",
       " 'STRAPPY DRESS WITH LACE DETAIL': 1,\n",
       " 'STRAPPY DRESS WITH LACE DETAIL TRF': 1,\n",
       " 'KNIT CAMISOLE DRESS WITH LACE': 1,\n",
       " 'DRESSENTIALS LACE DRESS': 1,\n",
       " 'CABLE-KNIT DRESS WITH LACE DETAIL': 1,\n",
       " 'LACE TRIM DRESS TRF': 2,\n",
       " 'CABLE-KNIT DRESS WITH LACE DETAIL TRF': 1,\n",
       " 'LONG LACE DRESS TRF': 1,\n",
       " 'MIDI DRESS WITH LACE DETAIL': 1,\n",
       " 'CAMISOLE DRESS': 1,\n",
       " 'CAMISOLE Knit DRESS': 1,\n",
       " 'CAMISOLE LACE DRESS': 1,\n",
       " 'CAMISOLE KNIT DRESS': 1,\n",
       " 'CAMISOLE Detail DRESS': 1,\n",
       " 'Knit-TRIMMED DRESS': 1,\n",
       " 'LACE Knit DRESS': 1,\n",
       " 'RIBBED Knit DRESS': 1,\n",
       " 'LITE Knit DRESS': 1,\n",
       " 'KNIT DRESS WITH LACE EMBROIDERY TRF': 1,\n",
       " 'KNIT DRESS WITH MATCHING LACE DETAIL TRF': 2,\n",
       " 'STRAPPY KNIT DRESS WITH LACE DETAIL': 1,\n",
       " 'M DRESS WITH LACE TRF': 1,\n",
       " 'L DRESS WITH MATCHING LACE': 1,\n",
       " 'CONTRASTING LACE DRESS': 1,\n",
       " 'PLE DRESS WITH LACE TRF': 1,\n",
       " 'L DRESS WITH CONTRASTING STRAPS': 1,\n",
       " 'SATIN CAMISOLE DRESS': 1,\n",
       " 'LACE CAMISOLE DRESS': 1}"
      ]
     },
     "execution_count": 16,
     "metadata": {},
     "output_type": "execute_result"
    }
   ],
   "source": [
    "dict(counter)"
   ]
  },
  {
   "cell_type": "code",
   "execution_count": 17,
   "metadata": {},
   "outputs": [],
   "source": [
    "def get_final_submission(submission):\n",
    "    finals = []\n",
    "    for i in range(len(submission)):\n",
    "        names = [name.lower() for name in submission[i]]\n",
    "        count = dict(Counter(names))\n",
    "        final_names = list(sorted(count, key=count.get, reverse=True))\n",
    "        finals.append(final_names[:10])\n",
    "    return finals"
   ]
  },
  {
   "cell_type": "code",
   "execution_count": 18,
   "metadata": {},
   "outputs": [],
   "source": [
    "submission = get_final_submission(newsub)"
   ]
  },
  {
   "cell_type": "code",
   "execution_count": 19,
   "metadata": {},
   "outputs": [],
   "source": [
    "#submission"
   ]
  },
  {
   "cell_type": "code",
   "execution_count": 20,
   "metadata": {},
   "outputs": [],
   "source": [
    "di = {f\"pred_{i}\": [] for i in range(10)}\n",
    "for names in submission:\n",
    "    if len(names) != 10:\n",
    "        print(names)\n",
    "        print(len(names))\n",
    "        break\n",
    "    for i in range(len(names)):\n",
    "        di[f\"pred_{i}\"].append(names[i])"
   ]
  },
  {
   "cell_type": "code",
   "execution_count": 21,
   "metadata": {},
   "outputs": [],
   "source": [
    "import pandas as pd"
   ]
  },
  {
   "cell_type": "code",
   "execution_count": 22,
   "metadata": {},
   "outputs": [],
   "source": [
    "df = pd.DataFrame(di)"
   ]
  },
  {
   "cell_type": "code",
   "execution_count": 24,
   "metadata": {},
   "outputs": [],
   "source": [
    "df.to_csv(\"new_submission_juntos28.csv\", header=False, index=False)"
   ]
  },
  {
   "cell_type": "code",
   "execution_count": 20,
   "metadata": {},
   "outputs": [
    {
     "data": {
      "text/html": [
       "<div>\n",
       "<style scoped>\n",
       "    .dataframe tbody tr th:only-of-type {\n",
       "        vertical-align: middle;\n",
       "    }\n",
       "\n",
       "    .dataframe tbody tr th {\n",
       "        vertical-align: top;\n",
       "    }\n",
       "\n",
       "    .dataframe thead th {\n",
       "        text-align: right;\n",
       "    }\n",
       "</style>\n",
       "<table border=\"1\" class=\"dataframe\">\n",
       "  <thead>\n",
       "    <tr style=\"text-align: right;\">\n",
       "      <th></th>\n",
       "      <th>pred_0</th>\n",
       "      <th>pred_1</th>\n",
       "      <th>pred_2</th>\n",
       "      <th>pred_3</th>\n",
       "      <th>pred_4</th>\n",
       "      <th>pred_5</th>\n",
       "      <th>pred_6</th>\n",
       "      <th>pred_7</th>\n",
       "      <th>pred_8</th>\n",
       "      <th>pred_9</th>\n",
       "    </tr>\n",
       "  </thead>\n",
       "  <tbody>\n",
       "    <tr>\n",
       "      <th>0</th>\n",
       "      <td>KNIT DRESS WITH LACE</td>\n",
       "      <td>KNIT DRESS WITH LACE DETAIL</td>\n",
       "      <td>KNIT DRESS WITH LACE TRIM</td>\n",
       "      <td>KNIT DRESS WITH LACE DETAIL TRF</td>\n",
       "      <td>LACE-TRIMMED DRESS TRF</td>\n",
       "      <td>KNIT DRESS WITH LACE TRF</td>\n",
       "      <td>LACE DRESS TRF</td>\n",
       "      <td>LACE-TRIMMED KNIT DRESS</td>\n",
       "      <td>LACE-TRIMMED DRESS</td>\n",
       "      <td>LACE-TRIMMED KNIT DRESS TRF</td>\n",
       "    </tr>\n",
       "    <tr>\n",
       "      <th>1</th>\n",
       "      <td>PLEATED DRESS TRF</td>\n",
       "      <td>FLORAL PRINT DRESS</td>\n",
       "      <td>OVERSIZED DRESS WITH PLEATS TRF</td>\n",
       "      <td>TEXTURED DRESS WITH PLEATS</td>\n",
       "      <td>OVERSIZED DRESS TRF</td>\n",
       "      <td>LOOSE-FITTING DRESS WITH PLEATS TRF</td>\n",
       "      <td>OVERSIZED DRESS WITH PLEATS</td>\n",
       "      <td>LOOSE-FITTING DRESS WITH PLEATS</td>\n",
       "      <td>OVERSIZED POPLIN DRESS TRF</td>\n",
       "      <td>PRINTED DRESS</td>\n",
       "    </tr>\n",
       "    <tr>\n",
       "      <th>2</th>\n",
       "      <td>NAUTICAL CAP</td>\n",
       "      <td>NAUTICAL CAP WITH PATCH</td>\n",
       "      <td>NAUTICAL CAP WITH PIPING</td>\n",
       "      <td>NAUTICAL CAP WITH PEEK</td>\n",
       "      <td>TEXTURED NAUTICAL CAP</td>\n",
       "      <td>NAUTICAL CAP WITH PIECE</td>\n",
       "      <td>ANIMAL PRINT NAUTICAL CAP</td>\n",
       "      <td>NAUTICAL CAP WITH PEARL</td>\n",
       "      <td>NAUTICAL CAP WITH PLEATED TOP</td>\n",
       "      <td>NAUTICAL CAP WITH POCKET</td>\n",
       "    </tr>\n",
       "    <tr>\n",
       "      <th>3</th>\n",
       "      <td>TEXTURED NAUTICAL CAP</td>\n",
       "      <td>NAUTICAL CAP</td>\n",
       "      <td>NAUTICAL CAP WITH STRAPS</td>\n",
       "      <td>CORDUROY NAUTICAL CAP</td>\n",
       "      <td>ANIMAL PRINT NAUTICAL CAP</td>\n",
       "      <td>NAUTICAL CAP WITH STRAP</td>\n",
       "      <td>NAUTICAL CAP WITH STRAP DETAIL</td>\n",
       "      <td>FAUX LEATHER NAUTICAL CAP</td>\n",
       "      <td>NEON NAUTICAL CAP</td>\n",
       "      <td>TECHNICAL NAUTICAL CAP</td>\n",
       "    </tr>\n",
       "    <tr>\n",
       "      <th>4</th>\n",
       "      <td>NAUTICAL CAP</td>\n",
       "      <td>NAUTICAL CAP WITH BUTTONS</td>\n",
       "      <td>NAUTICAL CAP WITH BUTTON DETAIL</td>\n",
       "      <td>NAVY CAP WITH BUTTONS</td>\n",
       "      <td>TEXTURED NAUTICAL CAP</td>\n",
       "      <td>NAUTICAL CAP WITH BUTTON</td>\n",
       "      <td>NAUTICAL CAP WITH SIDE BUTTONS</td>\n",
       "      <td>ANIMAL PRINT NAUTICAL CAP</td>\n",
       "      <td>NEON NAUTICAL CAP</td>\n",
       "      <td>CORDUROY NAUTICAL CAP</td>\n",
       "    </tr>\n",
       "  </tbody>\n",
       "</table>\n",
       "</div>"
      ],
      "text/plain": [
       "                  pred_0                       pred_1  \\\n",
       "0   KNIT DRESS WITH LACE  KNIT DRESS WITH LACE DETAIL   \n",
       "1      PLEATED DRESS TRF           FLORAL PRINT DRESS   \n",
       "2           NAUTICAL CAP      NAUTICAL CAP WITH PATCH   \n",
       "3  TEXTURED NAUTICAL CAP                 NAUTICAL CAP   \n",
       "4           NAUTICAL CAP    NAUTICAL CAP WITH BUTTONS   \n",
       "\n",
       "                            pred_2                           pred_3  \\\n",
       "0        KNIT DRESS WITH LACE TRIM  KNIT DRESS WITH LACE DETAIL TRF   \n",
       "1  OVERSIZED DRESS WITH PLEATS TRF       TEXTURED DRESS WITH PLEATS   \n",
       "2         NAUTICAL CAP WITH PIPING           NAUTICAL CAP WITH PEEK   \n",
       "3         NAUTICAL CAP WITH STRAPS            CORDUROY NAUTICAL CAP   \n",
       "4  NAUTICAL CAP WITH BUTTON DETAIL            NAVY CAP WITH BUTTONS   \n",
       "\n",
       "                      pred_4                               pred_5  \\\n",
       "0     LACE-TRIMMED DRESS TRF             KNIT DRESS WITH LACE TRF   \n",
       "1        OVERSIZED DRESS TRF  LOOSE-FITTING DRESS WITH PLEATS TRF   \n",
       "2      TEXTURED NAUTICAL CAP              NAUTICAL CAP WITH PIECE   \n",
       "3  ANIMAL PRINT NAUTICAL CAP              NAUTICAL CAP WITH STRAP   \n",
       "4      TEXTURED NAUTICAL CAP             NAUTICAL CAP WITH BUTTON   \n",
       "\n",
       "                           pred_6                           pred_7  \\\n",
       "0                  LACE DRESS TRF          LACE-TRIMMED KNIT DRESS   \n",
       "1     OVERSIZED DRESS WITH PLEATS  LOOSE-FITTING DRESS WITH PLEATS   \n",
       "2       ANIMAL PRINT NAUTICAL CAP          NAUTICAL CAP WITH PEARL   \n",
       "3  NAUTICAL CAP WITH STRAP DETAIL        FAUX LEATHER NAUTICAL CAP   \n",
       "4  NAUTICAL CAP WITH SIDE BUTTONS        ANIMAL PRINT NAUTICAL CAP   \n",
       "\n",
       "                          pred_8                       pred_9  \n",
       "0             LACE-TRIMMED DRESS  LACE-TRIMMED KNIT DRESS TRF  \n",
       "1     OVERSIZED POPLIN DRESS TRF                PRINTED DRESS  \n",
       "2  NAUTICAL CAP WITH PLEATED TOP     NAUTICAL CAP WITH POCKET  \n",
       "3              NEON NAUTICAL CAP       TECHNICAL NAUTICAL CAP  \n",
       "4              NEON NAUTICAL CAP        CORDUROY NAUTICAL CAP  "
      ]
     },
     "execution_count": 20,
     "metadata": {},
     "output_type": "execute_result"
    }
   ],
   "source": [
    "df.head()"
   ]
  },
  {
   "cell_type": "code",
   "execution_count": 23,
   "metadata": {},
   "outputs": [
    {
     "data": {
      "text/html": [
       "<div>\n",
       "<style scoped>\n",
       "    .dataframe tbody tr th:only-of-type {\n",
       "        vertical-align: middle;\n",
       "    }\n",
       "\n",
       "    .dataframe tbody tr th {\n",
       "        vertical-align: top;\n",
       "    }\n",
       "\n",
       "    .dataframe thead th {\n",
       "        text-align: right;\n",
       "    }\n",
       "</style>\n",
       "<table border=\"1\" class=\"dataframe\">\n",
       "  <thead>\n",
       "    <tr style=\"text-align: right;\">\n",
       "      <th></th>\n",
       "      <th>pred_0</th>\n",
       "      <th>pred_1</th>\n",
       "      <th>pred_2</th>\n",
       "      <th>pred_3</th>\n",
       "      <th>pred_4</th>\n",
       "      <th>pred_5</th>\n",
       "      <th>pred_6</th>\n",
       "      <th>pred_7</th>\n",
       "      <th>pred_8</th>\n",
       "      <th>pred_9</th>\n",
       "    </tr>\n",
       "  </thead>\n",
       "  <tbody>\n",
       "    <tr>\n",
       "      <th>0</th>\n",
       "      <td>knit dress with lace</td>\n",
       "      <td>knit dress with lace detail</td>\n",
       "      <td>knit dress with lace trim</td>\n",
       "      <td>knit dress with lace detail trf</td>\n",
       "      <td>knit dress with lace trf</td>\n",
       "      <td>lace-trimmed dress trf</td>\n",
       "      <td>lace dress trf</td>\n",
       "      <td>lace-trimmed knit dress</td>\n",
       "      <td>lace-trimmed dress</td>\n",
       "      <td>knit dress with lace straps</td>\n",
       "    </tr>\n",
       "    <tr>\n",
       "      <th>1</th>\n",
       "      <td>pleated dress trf</td>\n",
       "      <td>floral print dress</td>\n",
       "      <td>oversized dress with pleats trf</td>\n",
       "      <td>textured dress with pleats</td>\n",
       "      <td>loose-fitting dress with pleats trf</td>\n",
       "      <td>oversized dress trf</td>\n",
       "      <td>loose-fitting dress with pleats</td>\n",
       "      <td>oversized dress with pleats</td>\n",
       "      <td>printed dress</td>\n",
       "      <td>pleated dress</td>\n",
       "    </tr>\n",
       "    <tr>\n",
       "      <th>2</th>\n",
       "      <td>nautical cap</td>\n",
       "      <td>nautical cap with patch</td>\n",
       "      <td>nautical cap with piping</td>\n",
       "      <td>nautical cap with peek</td>\n",
       "      <td>nautical cap with piece</td>\n",
       "      <td>nautical cap with pearl</td>\n",
       "      <td>nautical cap with topstitching</td>\n",
       "      <td>textured nautical cap</td>\n",
       "      <td>nautical cap with pocket</td>\n",
       "      <td>animal print nautical cap</td>\n",
       "    </tr>\n",
       "    <tr>\n",
       "      <th>3</th>\n",
       "      <td>textured nautical cap</td>\n",
       "      <td>nautical cap</td>\n",
       "      <td>nautical cap with straps</td>\n",
       "      <td>corduroy nautical cap</td>\n",
       "      <td>animal print nautical cap</td>\n",
       "      <td>faux leather nautical cap</td>\n",
       "      <td>nautical cap with strap detail</td>\n",
       "      <td>nautical cap with strap</td>\n",
       "      <td>neon nautical cap</td>\n",
       "      <td>technical nautical cap</td>\n",
       "    </tr>\n",
       "    <tr>\n",
       "      <th>4</th>\n",
       "      <td>nautical cap</td>\n",
       "      <td>nautical cap with buttons</td>\n",
       "      <td>nautical cap with button detail</td>\n",
       "      <td>textured nautical cap</td>\n",
       "      <td>navy cap with buttons</td>\n",
       "      <td>nautical cap with side buttons</td>\n",
       "      <td>nautical cap with button</td>\n",
       "      <td>corduroy nautical cap</td>\n",
       "      <td>animal print nautical cap</td>\n",
       "      <td>neon nautical cap</td>\n",
       "    </tr>\n",
       "  </tbody>\n",
       "</table>\n",
       "</div>"
      ],
      "text/plain": [
       "                  pred_0                       pred_1  \\\n",
       "0   knit dress with lace  knit dress with lace detail   \n",
       "1      pleated dress trf           floral print dress   \n",
       "2           nautical cap      nautical cap with patch   \n",
       "3  textured nautical cap                 nautical cap   \n",
       "4           nautical cap    nautical cap with buttons   \n",
       "\n",
       "                            pred_2                           pred_3  \\\n",
       "0        knit dress with lace trim  knit dress with lace detail trf   \n",
       "1  oversized dress with pleats trf       textured dress with pleats   \n",
       "2         nautical cap with piping           nautical cap with peek   \n",
       "3         nautical cap with straps            corduroy nautical cap   \n",
       "4  nautical cap with button detail            textured nautical cap   \n",
       "\n",
       "                                pred_4                          pred_5  \\\n",
       "0             knit dress with lace trf          lace-trimmed dress trf   \n",
       "1  loose-fitting dress with pleats trf             oversized dress trf   \n",
       "2              nautical cap with piece         nautical cap with pearl   \n",
       "3            animal print nautical cap       faux leather nautical cap   \n",
       "4                navy cap with buttons  nautical cap with side buttons   \n",
       "\n",
       "                            pred_6                       pred_7  \\\n",
       "0                   lace dress trf      lace-trimmed knit dress   \n",
       "1  loose-fitting dress with pleats  oversized dress with pleats   \n",
       "2   nautical cap with topstitching        textured nautical cap   \n",
       "3   nautical cap with strap detail      nautical cap with strap   \n",
       "4         nautical cap with button        corduroy nautical cap   \n",
       "\n",
       "                      pred_8                       pred_9  \n",
       "0         lace-trimmed dress  knit dress with lace straps  \n",
       "1              printed dress                pleated dress  \n",
       "2   nautical cap with pocket    animal print nautical cap  \n",
       "3          neon nautical cap       technical nautical cap  \n",
       "4  animal print nautical cap            neon nautical cap  "
      ]
     },
     "execution_count": 23,
     "metadata": {},
     "output_type": "execute_result"
    }
   ],
   "source": [
    "df.head()"
   ]
  },
  {
   "cell_type": "code",
   "execution_count": null,
   "metadata": {},
   "outputs": [],
   "source": []
  }
 ],
 "metadata": {
  "kernelspec": {
   "display_name": "Python [conda env:root]",
   "language": "python",
   "name": "conda-root-py"
  },
  "language_info": {
   "codemirror_mode": {
    "name": "ipython",
    "version": 3
   },
   "file_extension": ".py",
   "mimetype": "text/x-python",
   "name": "python",
   "nbconvert_exporter": "python",
   "pygments_lexer": "ipython3",
   "version": "3.7.6"
  }
 },
 "nbformat": 4,
 "nbformat_minor": 4
}
